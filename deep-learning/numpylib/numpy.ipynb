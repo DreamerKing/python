{
 "cells": [
  {
   "cell_type": "code",
   "execution_count": null,
   "id": "c7a34aa8-d6f3-4407-a292-d219d1d8fd5f",
   "metadata": {},
   "outputs": [],
   "source": [
    "# 5 == 4\n",
    "# 2 < 3\n",
    "# (1 and not 1) or (1 and 1)\n",
    "# (1 and not 0) or (1 and 0)\n",
    "# (1 + 3) > (2 + 5)\n",
    "# (3 > 2) + ( 5 > 4)\n",
    "\n",
    "import numpy as np\n",
    "\n",
    "x = np.array([1.0, 2.0, 3.0])\n",
    "print(x)\n",
    "print(type(x))\n",
    "y = np.array([2.0, 3.0, 4.0])\n",
    "x + y"
   ]
  }
 ],
 "metadata": {
  "kernelspec": {
   "display_name": "Python 3 (ipykernel)",
   "language": "python",
   "name": "python3"
  },
  "language_info": {
   "codemirror_mode": {
    "name": "ipython",
    "version": 3
   },
   "file_extension": ".py",
   "mimetype": "text/x-python",
   "name": "python",
   "nbconvert_exporter": "python",
   "pygments_lexer": "ipython3",
   "version": "3.11.3"
  }
 },
 "nbformat": 4,
 "nbformat_minor": 5
}
