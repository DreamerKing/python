{
 "cells": [
  {
   "cell_type": "code",
   "execution_count": 39,
   "metadata": {},
   "outputs": [
    {
     "name": "stdout",
     "output_type": "stream",
     "text": [
      "3.626860407847019 3.6268604078470186\n"
     ]
    }
   ],
   "source": [
    "# import antigravity\n",
    "# print(10*12/2)\n",
    "from math import pi, sqrt, factorial, exp, sinh\n",
    "# print(2*pi*(5**2) + 2*pi*2*5*3)\n",
    "# print(2*pi*(5**2)*3)\n",
    "\n",
    "# k = (9 - 4) / (5 - 3)\n",
    "# print(k)\n",
    "\n",
    "# dis = sqrt(pow(5 - 3, 2) + pow(9 - 5, 2))\n",
    "# print(dis)\n",
    "\n",
    "# print(factorial(6))\n",
    "\n",
    "def is_leap_year(year):\n",
    "  if (year % 4 == 0 and year % 100 != 0) or (year % 400 == 0):\n",
    "    return True\n",
    "  return False\n",
    "\n",
    "def count_leap_year(start, end):\n",
    "  count = 0\n",
    "  for year in range(start, end):\n",
    "    if is_leap_year(year):\n",
    "      count += 1\n",
    "  return count\n",
    "\n",
    "# print(count_leap_year(1500, 2010))\n",
    "# print(factorial(0))\n",
    "\n",
    "# pi2 = 1 / (2*sqrt(2)/9801*(factorial(4*0)*(1103 + 26390*0)/pow(factorial(0),4)*pow(396, 4*0)))\n",
    "# pi3 = 1 / (2*sqrt(2)/9801*((factorial(4*0)*(1103 + 26390*0)/pow(factorial(0),4)*pow(396, 4*0) + (factorial(4*1)*(1103 + 26390*1)/pow(factorial(1),4)*pow(396, 4*1)))))\n",
    "# pi4 = 1 / (2*sqrt(2)/9801*((factorial(4*1)*(1103 + 26390*1)/pow(factorial(1),4)*pow(396, 4*1))))\n",
    "\n",
    "# print(pi2)\n",
    "# print(pi3)\n",
    "# print(pi4)\n",
    "# print(pi)\n",
    "\n",
    "sinh1 = (exp(2) - exp(-2)) / 2\n",
    "print(sinh1, sinh(2))"
   ]
  },
  {
   "cell_type": "markdown",
   "metadata": {},
   "source": [
    "## Jupyter快捷键\n",
    "\n",
    "- control + enter 运行代码\n",
    "- shift + enter 下一块\n",
    "- dd 删除块"
   ]
  }
 ],
 "metadata": {
  "kernelspec": {
   "display_name": "Python 3",
   "language": "python",
   "name": "python3"
  },
  "language_info": {
   "codemirror_mode": {
    "name": "ipython",
    "version": 3
   },
   "file_extension": ".py",
   "mimetype": "text/x-python",
   "name": "python",
   "nbconvert_exporter": "python",
   "pygments_lexer": "ipython3",
   "version": "3.11.7"
  }
 },
 "nbformat": 4,
 "nbformat_minor": 2
}
