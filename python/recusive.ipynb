{
 "cells": [
  {
   "cell_type": "markdown",
   "metadata": {},
   "source": [
    "# 递归  \n",
    "直接或间接调用自己的函数。\n",
    "- 结束条件\n",
    "- 递归步骤"
   ]
  },
  {
   "cell_type": "code",
   "execution_count": 2,
   "metadata": {},
   "outputs": [
    {
     "name": "stdout",
     "output_type": "stream",
     "text": [
      "3628800\n"
     ]
    }
   ],
   "source": [
    "def factorial(n):\n",
    "  if n == 1:\n",
    "    return 1\n",
    "  return n * factorial(n -1)\n",
    "\n",
    "result  = factorial(10)\n",
    "print(result)"
   ]
  },
  {
   "cell_type": "code",
   "execution_count": 15,
   "metadata": {},
   "outputs": [
    {
     "name": "stdout",
     "output_type": "stream",
     "text": [
      "4.63 ms ± 51.1 µs per loop (mean ± std. dev. of 7 runs, 100 loops each)\n"
     ]
    }
   ],
   "source": [
    "def fibonaci(n):\n",
    "  if n == 1 or n == 2:\n",
    "    return 1\n",
    "  return fibonaci(n - 1) + fibonaci(n - 2)\n",
    "\n",
    "%timeit fibonaci(25)\n",
    "# print(fibonaci(25))"
   ]
  },
  {
   "cell_type": "code",
   "execution_count": 16,
   "metadata": {},
   "outputs": [
    {
     "name": "stdout",
     "output_type": "stream",
     "text": [
      "3.6 µs ± 110 ns per loop (mean ± std. dev. of 7 runs, 100,000 loops each)\n"
     ]
    }
   ],
   "source": [
    "import numpy as np\n",
    "\n",
    "def fibonaci(n):\n",
    "  fib = np.ones(n)\n",
    "  for i in range(2, n):\n",
    "    fib[i] = fib[i - 2] + fib[i - 1]\n",
    "  return fib[n-1]\n",
    "\n",
    "# print(fibonaci(25))\n",
    "%timeit fibonaci(25)"
   ]
  },
  {
   "cell_type": "code",
   "execution_count": 20,
   "metadata": {},
   "outputs": [
    {
     "name": "stdout",
     "output_type": "stream",
     "text": [
      "Move disk 1 from 1 to 2\n",
      "Move disk 2 from 1 to 3\n",
      "Move disk 1 from 2 to 3\n",
      "Move disk 3 from 1 to 2\n",
      "Move disk 1 from 3 to 1\n",
      "Move disk 2 from 3 to 2\n",
      "Move disk 1 from 1 to 2\n",
      "Move disk 4 from 1 to 3\n",
      "Move disk 1 from 2 to 3\n",
      "Move disk 2 from 2 to 1\n",
      "Move disk 1 from 3 to 1\n",
      "Move disk 3 from 2 to 3\n",
      "Move disk 1 from 1 to 2\n",
      "Move disk 2 from 1 to 3\n",
      "Move disk 1 from 2 to 3\n"
     ]
    }
   ],
   "source": [
    "def hanoi_tower(n, from_tower, to_tower, alt_tower):\n",
    "  if n != 0:\n",
    "    hanoi_tower(n - 1, from_tower, alt_tower, to_tower)\n",
    "    print(f\"Move disk {n} from {from_tower} to {to_tower}\")\n",
    "    hanoi_tower(n - 1, alt_tower, to_tower, from_tower)\n",
    "\n",
    "hanoi_tower(4, 1, 3, 2)"
   ]
  },
  {
   "cell_type": "code",
   "execution_count": 31,
   "metadata": {},
   "outputs": [
    {
     "name": "stdout",
     "output_type": "stream",
     "text": [
      "[2, 3, 5, 11, 16, 21, 22, 32, 42, 66, 78]\n"
     ]
    }
   ],
   "source": [
    "def quick_sort(lts):\n",
    "  ln = len(lts)\n",
    "  if ln <= 1:\n",
    "    return lts\n",
    "  privot = lts[0]\n",
    "  bigger = []\n",
    "  smaller = []\n",
    "  same = []\n",
    "  for item in lts:\n",
    "    if item > privot:\n",
    "      bigger.append(item)\n",
    "    elif item < privot:\n",
    "      smaller.append(item)\n",
    "    else:\n",
    "      same.append(item)\n",
    "  else:\n",
    "    return quick_sort(smaller) + same + quick_sort(bigger)\n",
    "\n",
    "print(quick_sort([22, 16, 2, 42, 5, 3, 11, 78, 32, 21, 66]))\n"
   ]
  }
 ],
 "metadata": {
  "kernelspec": {
   "display_name": "base",
   "language": "python",
   "name": "python3"
  },
  "language_info": {
   "codemirror_mode": {
    "name": "ipython",
    "version": 3
   },
   "file_extension": ".py",
   "mimetype": "text/x-python",
   "name": "python",
   "nbconvert_exporter": "python",
   "pygments_lexer": "ipython3",
   "version": "3.12.1"
  }
 },
 "nbformat": 4,
 "nbformat_minor": 2
}
