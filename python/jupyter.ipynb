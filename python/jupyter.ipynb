{
 "cells": [
  {
   "cell_type": "code",
   "execution_count": null,
   "metadata": {},
   "outputs": [],
   "source": [
    "%load_ext autoreload 启用重载机制\n",
    "%autoreload 2 每个单元格都重载\n",
    "%aimport mod 导入的模块都会被重新加载一次"
   ]
  },
  {
   "cell_type": "code",
   "execution_count": 1,
   "metadata": {},
   "outputs": [
    {
     "name": "stdout",
     "output_type": "stream",
     "text": [
      "2\n"
     ]
    }
   ],
   "source": [
    "x = 2\n",
    "print(x)"
   ]
  },
  {
   "cell_type": "markdown",
   "metadata": {},
   "source": [
    "Line魔法指令\n",
    "%alias 指令别名"
   ]
  },
  {
   "cell_type": "code",
   "execution_count": 14,
   "metadata": {},
   "outputs": [
    {
     "name": "stdout",
     "output_type": "stream",
     "text": [
      "\u001b[0;31mDocstring:\u001b[0m\n",
      "Run the conda package manager within the current kernel.\n",
      "\n",
      "Usage:\n",
      "  %conda install [pkgs]\n",
      "\u001b[0;31mFile:\u001b[0m      ~/miniconda3/lib/python3.12/site-packages/IPython/core/magics/packaging.py"
     ]
    }
   ],
   "source": [
    "# %lsmagic # 列出所有魔法指令\n",
    "# %quickref # 输出所有魔法指令的简单帮助文档\n",
    "# %autoreload? # 查看某个魔法指令的文档\n",
    "# %alias\n",
    "%conda?"
   ]
  }
 ],
 "metadata": {
  "kernelspec": {
   "display_name": "base",
   "language": "python",
   "name": "python3"
  },
  "language_info": {
   "codemirror_mode": {
    "name": "ipython",
    "version": 3
   },
   "file_extension": ".py",
   "mimetype": "text/x-python",
   "name": "python",
   "nbconvert_exporter": "python",
   "pygments_lexer": "ipython3",
   "version": "3.12.1"
  }
 },
 "nbformat": 4,
 "nbformat_minor": 2
}
