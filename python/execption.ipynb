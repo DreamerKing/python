{
 "cells": [
  {
   "cell_type": "markdown",
   "metadata": {},
   "source": [
    "# 异常\n",
    "\n",
    "waning.filterwarnings(action, category=Waring)  // 过滤警告\n",
    "warnings.warn(message, category=None) // 发出警告\n",
    "\n",
    "错误是异常的常见情况。异常对象表示异常状态，遇到错误时引发异常，异常未被处理(或捕获)时，程序会报错并退出。\n",
    "\n",
    "else子句 try块中没有引发异常时执行\n",
    "finally 无论try块中是否引发异常都执行\n",
    "在函数中引发异常时，异常将传播到调用函数的地方。\n",
    "警告类似于异常，通常指打印警告信息。可以指定警告类别。"
   ]
  },
  {
   "cell_type": "code",
   "execution_count": 2,
   "metadata": {},
   "outputs": [
    {
     "ename": "ZeroDivisionError",
     "evalue": "division by zero",
     "output_type": "error",
     "traceback": [
      "\u001b[0;31m---------------------------------------------------------------------------\u001b[0m",
      "\u001b[0;31mZeroDivisionError\u001b[0m                         Traceback (most recent call last)",
      "Cell \u001b[0;32mIn[2], line 1\u001b[0m\n\u001b[0;32m----> 1\u001b[0m \u001b[38;5;241;43m1\u001b[39;49m\u001b[43m \u001b[49m\u001b[38;5;241;43m/\u001b[39;49m\u001b[43m \u001b[49m\u001b[38;5;241;43m0\u001b[39;49m\n",
      "\u001b[0;31mZeroDivisionError\u001b[0m: division by zero"
     ]
    }
   ],
   "source": [
    "1 / 0"
   ]
  },
  {
   "cell_type": "markdown",
   "metadata": {},
   "source": [
    "内置异常类\n",
    "- Exception\n",
    "- AttributeError\n",
    "- OSError\n",
    "- IndexError\n",
    "- KeyError\n",
    "- NameError\n",
    "- SyntaxErro\n",
    "- TypeError\n",
    "- ValueError\n",
    "- ZeroDivisionError\n",
    "\n",
    "自定义异常类需要直接或间接继承Execption类。\n",
    "使用`raise`语句引发(抛出)异常。"
   ]
  },
  {
   "cell_type": "code",
   "execution_count": 8,
   "metadata": {},
   "outputs": [
    {
     "ename": "ArithmeticError",
     "evalue": "",
     "output_type": "error",
     "traceback": [
      "\u001b[0;31m---------------------------------------------------------------------------\u001b[0m",
      "\u001b[0;31mArithmeticError\u001b[0m                           Traceback (most recent call last)",
      "Cell \u001b[0;32mIn[8], line 3\u001b[0m\n\u001b[1;32m      1\u001b[0m \u001b[38;5;66;03m# raise Exception\u001b[39;00m\n\u001b[1;32m      2\u001b[0m \u001b[38;5;66;03m# raise Exception(\"oops!\")\u001b[39;00m\n\u001b[0;32m----> 3\u001b[0m \u001b[38;5;28;01mraise\u001b[39;00m \u001b[38;5;167;01mArithmeticError\u001b[39;00m\n",
      "\u001b[0;31mArithmeticError\u001b[0m: "
     ]
    }
   ],
   "source": [
    "# raise Exception\n",
    "# raise Exception(\"oops!\")\n",
    "raise ArithmeticError\n"
   ]
  },
  {
   "cell_type": "code",
   "execution_count": 9,
   "metadata": {},
   "outputs": [
    {
     "ename": "SomeError",
     "evalue": "oh!",
     "output_type": "error",
     "traceback": [
      "\u001b[0;31m---------------------------------------------------------------------------\u001b[0m",
      "\u001b[0;31mSomeError\u001b[0m                                 Traceback (most recent call last)",
      "Cell \u001b[0;32mIn[9], line 4\u001b[0m\n\u001b[1;32m      1\u001b[0m \u001b[38;5;28;01mclass\u001b[39;00m \u001b[38;5;21;01mSomeError\u001b[39;00m(\u001b[38;5;167;01mException\u001b[39;00m):\n\u001b[1;32m      2\u001b[0m   \u001b[38;5;28;01mpass\u001b[39;00m\n\u001b[0;32m----> 4\u001b[0m \u001b[38;5;28;01mraise\u001b[39;00m SomeError(\u001b[38;5;124m'\u001b[39m\u001b[38;5;124moh!\u001b[39m\u001b[38;5;124m'\u001b[39m)\n",
      "\u001b[0;31mSomeError\u001b[0m: oh!"
     ]
    }
   ],
   "source": [
    "class SomeError(Exception):\n",
    "  pass\n",
    "\n",
    "raise SomeError('oh!')"
   ]
  },
  {
   "cell_type": "markdown",
   "metadata": {},
   "source": [
    "使用try/except捕获异常。异常捕获后，如果要继续向上传播，可以调用raise且不提供任何参数(也可以显式提供捕获到的异常)重新引发它。"
   ]
  },
  {
   "cell_type": "code",
   "execution_count": 14,
   "metadata": {},
   "outputs": [
    {
     "ename": "ValueError",
     "evalue": "invalid literal for int() with base 10: 'jj'",
     "output_type": "error",
     "traceback": [
      "\u001b[0;31m---------------------------------------------------------------------------\u001b[0m",
      "\u001b[0;31mValueError\u001b[0m                                Traceback (most recent call last)",
      "Cell \u001b[0;32mIn[14], line 5\u001b[0m\n\u001b[1;32m      3\u001b[0m y \u001b[38;5;241m=\u001b[39m \u001b[38;5;28minput\u001b[39m(\u001b[38;5;124m\"\u001b[39m\u001b[38;5;124mEnter fist number: y = \u001b[39m\u001b[38;5;124m\"\u001b[39m)\n\u001b[1;32m      4\u001b[0m x \u001b[38;5;241m=\u001b[39m \u001b[38;5;28mint\u001b[39m(x)\n\u001b[0;32m----> 5\u001b[0m y \u001b[38;5;241m=\u001b[39m \u001b[38;5;28;43mint\u001b[39;49m\u001b[43m(\u001b[49m\u001b[43my\u001b[49m\u001b[43m)\u001b[49m\n\u001b[1;32m      6\u001b[0m z \u001b[38;5;241m=\u001b[39m x \u001b[38;5;241m/\u001b[39m y\n\u001b[1;32m      7\u001b[0m \u001b[38;5;28mprint\u001b[39m(\u001b[38;5;124mf\u001b[39m\u001b[38;5;124m\"\u001b[39m\u001b[38;5;132;01m{\u001b[39;00mx\u001b[38;5;132;01m}\u001b[39;00m\u001b[38;5;124m / \u001b[39m\u001b[38;5;132;01m{\u001b[39;00my\u001b[38;5;132;01m}\u001b[39;00m\u001b[38;5;124m = \u001b[39m\u001b[38;5;132;01m{\u001b[39;00mz\u001b[38;5;132;01m}\u001b[39;00m\u001b[38;5;124m\"\u001b[39m)\n",
      "\u001b[0;31mValueError\u001b[0m: invalid literal for int() with base 10: 'jj'"
     ]
    }
   ],
   "source": [
    "try:\n",
    "  x = input(\"Enter fist number: x = \")\n",
    "  y = input(\"Enter fist number: y = \")\n",
    "  x = int(x)\n",
    "  y = int(y)\n",
    "  z = x / y\n",
    "  print(f\"{x} / {y} = {z}\")\n",
    "except ZeroDivisionError:\n",
    "  print(f\"y = {y}\")\n",
    "  print(f\"y can't be zero!\")"
   ]
  },
  {
   "cell_type": "code",
   "execution_count": 17,
   "metadata": {},
   "outputs": [
    {
     "name": "stdout",
     "output_type": "stream",
     "text": [
      "5.0\n",
      "Division by zero is illegal.\n",
      "None\n"
     ]
    }
   ],
   "source": [
    "class MuffledCulate:\n",
    "  muffled = False\n",
    "  def calc(self, expr):\n",
    "    try:\n",
    "      return eval(expr)\n",
    "    except ZeroDivisionError:\n",
    "      if self.muffled:\n",
    "        print(\"Division by zero is illegal.\")\n",
    "      else:\n",
    "        raise\n",
    "\n",
    "caculator = MuffledCulate()\n",
    "result = caculator.calc(\"10 / 2\")\n",
    "print(result)\n",
    "caculator.muffled = True\n",
    "result = caculator.calc(\"10 / 0\")\n",
    "print(result)\n"
   ]
  },
  {
   "cell_type": "code",
   "execution_count": 1,
   "metadata": {},
   "outputs": [
    {
     "ename": "ValueError",
     "evalue": "",
     "output_type": "error",
     "traceback": [
      "\u001b[0;31m---------------------------------------------------------------------------\u001b[0m",
      "\u001b[0;31mValueError\u001b[0m                                Traceback (most recent call last)",
      "Cell \u001b[0;32mIn[1], line 5\u001b[0m\n\u001b[1;32m      2\u001b[0m   \u001b[38;5;241m1\u001b[39m \u001b[38;5;241m/\u001b[39m \u001b[38;5;241m0\u001b[39m\n\u001b[1;32m      3\u001b[0m \u001b[38;5;28;01mexcept\u001b[39;00m \u001b[38;5;167;01mZeroDivisionError\u001b[39;00m:\n\u001b[1;32m      4\u001b[0m   \u001b[38;5;66;03m# 禁用上下文\u001b[39;00m\n\u001b[0;32m----> 5\u001b[0m   \u001b[38;5;28;01mraise\u001b[39;00m \u001b[38;5;167;01mValueError\u001b[39;00m \u001b[38;5;28;01mfrom\u001b[39;00m \u001b[38;5;28;01mNone\u001b[39;00m\n",
      "\u001b[0;31mValueError\u001b[0m: "
     ]
    }
   ],
   "source": [
    "try:\n",
    "  1 / 0\n",
    "except ZeroDivisionError:\n",
    "  # 禁用上下文\n",
    "  raise ValueError from None\n"
   ]
  },
  {
   "cell_type": "code",
   "execution_count": 5,
   "metadata": {},
   "outputs": [
    {
     "name": "stdout",
     "output_type": "stream",
     "text": [
      "y = 0\n",
      "y can't be zero!\n"
     ]
    }
   ],
   "source": [
    "try:\n",
    "  x = input(\"Enter fist number: x = \")\n",
    "  y = input(\"Enter fist number: y = \")\n",
    "  x = int(x)\n",
    "  y = int(y)\n",
    "  z = x / y\n",
    "  print(f\"{x} / {y} = {z}\")\n",
    "except ZeroDivisionError:\n",
    "  print(f\"y = {y}\")\n",
    "  print(f\"y can't be zero!\")\n",
    "except ValueError:\n",
    "  print(\"The value is not a number\")"
   ]
  },
  {
   "cell_type": "code",
   "execution_count": 7,
   "metadata": {},
   "outputs": [
    {
     "name": "stdout",
     "output_type": "stream",
     "text": [
      "y = 0\n",
      "y can't be zero!\n"
     ]
    }
   ],
   "source": [
    "try:\n",
    "  x = input(\"Enter fist number: x = \")\n",
    "  y = input(\"Enter fist number: y = \")\n",
    "  x = int(x)\n",
    "  y = int(y)\n",
    "  z = x / y\n",
    "  print(f\"{x} / {y} = {z}\")\n",
    "# 捕获多种异常,使用元组指定异常类型 括号不能省略\n",
    "except (ZeroDivisionError, ValueError, TypeError):\n",
    "  print(f\"y = {y}\")\n",
    "  print(f\"y can't be zero!\")"
   ]
  },
  {
   "cell_type": "code",
   "execution_count": 10,
   "metadata": {},
   "outputs": [
    {
     "name": "stdout",
     "output_type": "stream",
     "text": [
      "division by zero\n"
     ]
    }
   ],
   "source": [
    "try:\n",
    "  x = input(\"Enter fist number: x = \")\n",
    "  y = input(\"Enter fist number: y = \")\n",
    "  x = int(x)\n",
    "  y = int(y)\n",
    "  z = x / y\n",
    "  print(f\"{x} / {y} = {z}\")\n",
    "# 捕获多种异常,使用元组指定异常类型 括号不能省略\n",
    "except (ZeroDivisionError, ValueError, TypeError) as e:\n",
    "  print(e)"
   ]
  },
  {
   "cell_type": "code",
   "execution_count": 14,
   "metadata": {},
   "outputs": [
    {
     "name": "stdout",
     "output_type": "stream",
     "text": [
      "oops!\n"
     ]
    }
   ],
   "source": [
    "import sys\n",
    "\n",
    "try:\n",
    "  x = input(\"Enter fist number: x = \")\n",
    "  # sys.exit()\n",
    "  y = input(\"Enter fist number: y = \")\n",
    "  x = int(x)\n",
    "  y = int(y)\n",
    "  z = x / y\n",
    "  print(f\"{x} / {y} = {z}\")\n",
    "# 捕获所有异常,不指定任何异常类型 这种捕获所有异常的方式不可取，不仅会隐藏预期的错误，还会隐藏没有考虑到的错误。甚至还捕获用户使用Ctrl+C终止执行的企图、调用sys.exit()来终止执行的企图。\n",
    "# 大多数情况下，最好使用`except Exception as e`并对异常对象进行检查,将不是从Exception派生出来的异常排除，如SystemExit和KeyboardInterrupt(从BaseException派生而来)。\n",
    "except:\n",
    "  print(\"oops!\")"
   ]
  },
  {
   "cell_type": "code",
   "execution_count": 15,
   "metadata": {},
   "outputs": [
    {
     "name": "stdout",
     "output_type": "stream",
     "text": [
      "A simple task\n",
      "Ah ... It went planed.\n"
     ]
    }
   ],
   "source": [
    "try:\n",
    "  print(\"A simple task\")\n",
    "except:\n",
    "  print(\"What? something went wrong.\")\n",
    "else:\n",
    "  print(\"Ah ... It went planed.\")"
   ]
  },
  {
   "cell_type": "code",
   "execution_count": 17,
   "metadata": {},
   "outputs": [
    {
     "name": "stdout",
     "output_type": "stream",
     "text": [
      "Invalid input, Please try again\n",
      "Invalid input, Please try again\n",
      "23 / 9 = 2.5555555555555554\n"
     ]
    }
   ],
   "source": [
    "while True:\n",
    "  try:\n",
    "    x = input(\"Enter fist number: x = \")\n",
    "    y = input(\"Enter fist number: y = \")\n",
    "    x = int(x)\n",
    "    y = int(y)\n",
    "    z = x / y\n",
    "    print(f\"{x} / {y} = {z}\")\n",
    "  except:\n",
    "    print('Invalid input, Please try again')\n",
    "  else:\n",
    "    break"
   ]
  },
  {
   "cell_type": "code",
   "execution_count": 18,
   "metadata": {},
   "outputs": [
    {
     "name": "stdout",
     "output_type": "stream",
     "text": [
      "Invalid input division by zero\n",
      "Please try again\n",
      "Invalid input invalid literal for int() with base 10: 'kk'\n",
      "Please try again\n",
      "23 / 2 = 11.5\n"
     ]
    }
   ],
   "source": [
    "while True:\n",
    "  try:\n",
    "    x = input(\"Enter fist number: x = \")\n",
    "    y = input(\"Enter fist number: y = \")\n",
    "    x = int(x)\n",
    "    y = int(y)\n",
    "    z = x / y\n",
    "    print(f\"{x} / {y} = {z}\")\n",
    "  except Exception as e:\n",
    "    print(\"Invalid input\", e)\n",
    "    print('Please try again')\n",
    "  else:\n",
    "    break"
   ]
  },
  {
   "cell_type": "code",
   "execution_count": 21,
   "metadata": {},
   "outputs": [
    {
     "name": "stdout",
     "output_type": "stream",
     "text": [
      "Unknow avariable\n",
      "Clean up ...\n"
     ]
    }
   ],
   "source": [
    "x = None\n",
    "try:\n",
    "  x = 1 / 0\n",
    "except (NameError, ZeroDivisionError):\n",
    "  print(\"Unknow avariable\")\n",
    "else:\n",
    "  print(\"That went well\")\n",
    "finally:\n",
    "  print(\"Clean up ...\")\n",
    "  del x"
   ]
  },
  {
   "cell_type": "code",
   "execution_count": 23,
   "metadata": {},
   "outputs": [
    {
     "name": "stdout",
     "output_type": "stream",
     "text": [
      "Excetion handled.\n"
     ]
    }
   ],
   "source": [
    "def faulty():\n",
    "  raise Exception(\"Something is wrong!\")\n",
    "\n",
    "def ignore_exception():\n",
    "  faulty()\n",
    "\n",
    "def handle_exception():\n",
    "  try:\n",
    "    faulty()\n",
    "  except:\n",
    "    print(\"Excetion handled.\")\n",
    "\n",
    "# ignore_exception()\n",
    "handle_exception()"
   ]
  },
  {
   "cell_type": "code",
   "execution_count": 31,
   "metadata": {},
   "outputs": [
    {
     "name": "stdout",
     "output_type": "stream",
     "text": [
      "Description of  King\n",
      "Age: 20\n",
      "Description of  King\n",
      "Age: 20\n"
     ]
    }
   ],
   "source": [
    "def describe_person(person):\n",
    "  print(\"Description of \", person[\"name\"])\n",
    "  print(\"Age:\", person[\"age\"])\n",
    "  if \"occupation\" in person:\n",
    "    print(\"Occupation:\", person[\"occupation\"])\n",
    "\n",
    "def describe_person2(person):\n",
    "  print(\"Description of \", person[\"name\"])\n",
    "  print(\"Age:\", person[\"age\"])\n",
    "  try:\n",
    "    print(\"Occupation:\", person[\"occupation\"])\n",
    "  except KeyError: pass\n",
    "\n",
    "\n",
    "person = {\n",
    "  \"name\": \"King\",\n",
    "  \"age\": 20,\n",
    "  # \"occupation\": \"Play\"\n",
    "}\n",
    "\n",
    "describe_person(person)\n",
    "describe_person2(person)"
   ]
  },
  {
   "cell_type": "code",
   "execution_count": 34,
   "metadata": {},
   "outputs": [
    {
     "name": "stdout",
     "output_type": "stream",
     "text": [
      "The object is not writable\n"
     ]
    }
   ],
   "source": [
    "obj = {}\n",
    "\n",
    "try:\n",
    "  obj.write\n",
    "except AttributeError:\n",
    "  print(\"The object is not writable\")\n",
    "else:\n",
    "  print(\"The object is writable\")"
   ]
  },
  {
   "cell_type": "code",
   "execution_count": 54,
   "metadata": {},
   "outputs": [
    {
     "ename": "DeprecationWarning",
     "evalue": "Something is went wrong",
     "output_type": "error",
     "traceback": [
      "\u001b[0;31m---------------------------------------------------------------------------\u001b[0m",
      "\u001b[0;31mDeprecationWarning\u001b[0m                        Traceback (most recent call last)",
      "Cell \u001b[0;32mIn[54], line 5\u001b[0m\n\u001b[1;32m      3\u001b[0m warn(\u001b[38;5;124m\"\u001b[39m\u001b[38;5;124mI\u001b[39m\u001b[38;5;124m'\u001b[39m\u001b[38;5;124mve got a bad feeling about this.\u001b[39m\u001b[38;5;124m\"\u001b[39m)\n\u001b[1;32m      4\u001b[0m filterwarnings(\u001b[38;5;124m\"\u001b[39m\u001b[38;5;124merror\u001b[39m\u001b[38;5;124m\"\u001b[39m)\n\u001b[0;32m----> 5\u001b[0m \u001b[43mwarn\u001b[49m\u001b[43m(\u001b[49m\u001b[38;5;124;43m\"\u001b[39;49m\u001b[38;5;124;43mSomething is went wrong\u001b[39;49m\u001b[38;5;124;43m\"\u001b[39;49m\u001b[43m,\u001b[49m\u001b[43m \u001b[49m\u001b[38;5;167;43;01mDeprecationWarning\u001b[39;49;00m\u001b[43m)\u001b[49m\n",
      "\u001b[0;31mDeprecationWarning\u001b[0m: Something is went wrong"
     ]
    }
   ],
   "source": [
    "from warnings import warn, filterwarnings\n",
    "filterwarnings(\"ignore\")\n",
    "warn(\"I've got a bad feeling about this.\")\n",
    "filterwarnings(\"error\")\n",
    "warn(\"Something is went wrong\", DeprecationWarning)\n"
   ]
  },
  {
   "cell_type": "code",
   "execution_count": 59,
   "metadata": {},
   "outputs": [
    {
     "ename": "UserWarning",
     "evalue": "Something else",
     "output_type": "error",
     "traceback": [
      "\u001b[0;31m---------------------------------------------------------------------------\u001b[0m",
      "\u001b[0;31mUserWarning\u001b[0m                               Traceback (most recent call last)",
      "Cell \u001b[0;32mIn[59], line 6\u001b[0m\n\u001b[1;32m      4\u001b[0m \u001b[38;5;66;03m# filterwarnings(\"error\")\u001b[39;00m\n\u001b[1;32m      5\u001b[0m warn(\u001b[38;5;124m\"\u001b[39m\u001b[38;5;124mSomething is went wrong\u001b[39m\u001b[38;5;124m\"\u001b[39m, \u001b[38;5;167;01mDeprecationWarning\u001b[39;00m)\n\u001b[0;32m----> 6\u001b[0m \u001b[43mwarn\u001b[49m\u001b[43m(\u001b[49m\u001b[38;5;124;43m\"\u001b[39;49m\u001b[38;5;124;43mSomething else\u001b[39;49m\u001b[38;5;124;43m\"\u001b[39;49m\u001b[43m)\u001b[49m\n",
      "\u001b[0;31mUserWarning\u001b[0m: Something else"
     ]
    }
   ],
   "source": [
    "from warnings import warn, filterwarnings\n",
    "filterwarnings(\"ignore\", category=DeprecationWarning)\n",
    "warn(\"I've got a bad feeling about this.\", DeprecationWarning)\n",
    "# filterwarnings(\"error\")\n",
    "warn(\"Something is went wrong\", DeprecationWarning)\n",
    "warn(\"Something else\")"
   ]
  }
 ],
 "metadata": {
  "kernelspec": {
   "display_name": "base",
   "language": "python",
   "name": "python3"
  },
  "language_info": {
   "codemirror_mode": {
    "name": "ipython",
    "version": 3
   },
   "file_extension": ".py",
   "mimetype": "text/x-python",
   "name": "python",
   "nbconvert_exporter": "python",
   "pygments_lexer": "ipython3",
   "version": "3.12.1"
  }
 },
 "nbformat": 4,
 "nbformat_minor": 2
}
