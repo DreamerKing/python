{
 "cells": [
  {
   "cell_type": "markdown",
   "metadata": {},
   "source": [
    "# 函数 \n",
    "callable() 判读是否可调用\n",
    "__doc__ 函数文档字符串\n",
    "\n",
    "函数参数校验\n",
    "- 断言\n",
    "- 异常\n",
    "\n",
    "不可变类型的参数，在函数内部修改对函数外部没有影响，但可变类型的参数，可能由于引用相同的值而发生改变。\n",
    "\n",
    "位置参数 必须先指定位置参数\n",
    "关键字参数 无序关注参数顺序，可以指定默认值\n",
    "默认值"
   ]
  },
  {
   "cell_type": "code",
   "execution_count": 2,
   "metadata": {},
   "outputs": [
    {
     "name": "stdout",
     "output_type": "stream",
     "text": [
      "[0, 1, 1, 2, 3, 5, 8, 13, 21, 34]\n"
     ]
    }
   ],
   "source": [
    "fibs = [0, 1]\n",
    "for i in range(8):\n",
    "  fibs.append(fibs[-2] + fibs[-1])\n",
    "\n",
    "print(fibs)"
   ]
  },
  {
   "cell_type": "code",
   "execution_count": 3,
   "metadata": {},
   "outputs": [
    {
     "name": "stdout",
     "output_type": "stream",
     "text": [
      "[0, 1, 1, 2, 3, 5, 8, 13, 21, 34, 55, 89]\n"
     ]
    }
   ],
   "source": [
    "fibs = [0, 1]\n",
    "num = int(input('Please inupt a inter:'))\n",
    "for i in range(num):\n",
    "  fibs.append(fibs[-2] + fibs[-1])\n",
    "\n",
    "print(fibs)"
   ]
  },
  {
   "cell_type": "code",
   "execution_count": 4,
   "metadata": {},
   "outputs": [
    {
     "name": "stdout",
     "output_type": "stream",
     "text": [
      "[0, 1, 1, 2, 3, 5, 8, 13, 21, 34, 55, 89, 144, 233, 377, 610, 987, 1597, 2584, 4181, 6765, 10946, 17711, 28657, 46368]\n"
     ]
    }
   ],
   "source": [
    "def fibs(num):\n",
    "  seq = [0, 1]\n",
    "  for i in range(num):\n",
    "    seq.append(seq[-2] + seq[-1])\n",
    "  return seq\n",
    "\n",
    "num = int(input('Please inupt a inter:'))\n",
    "print(fibs(num))"
   ]
  },
  {
   "cell_type": "code",
   "execution_count": 11,
   "metadata": {},
   "outputs": [
    {
     "name": "stdout",
     "output_type": "stream",
     "text": [
      "False True\n",
      "Return the square root of x.\n",
      "Help on built-in function sqrt in module math:\n",
      "\n",
      "sqrt(x, /)\n",
      "    Return the square root of x.\n",
      "\n"
     ]
    }
   ],
   "source": [
    "import math\n",
    "x = 1\n",
    "y = math.sqrt\n",
    "print(callable(x), callable(y))\n",
    "print(y.__doc__)\n",
    "help(y)"
   ]
  },
  {
   "cell_type": "code",
   "execution_count": 13,
   "metadata": {},
   "outputs": [
    {
     "name": "stdout",
     "output_type": "stream",
     "text": [
      "Hello, King!\n",
      "Hello, Dreamer!\n",
      "x: None\n",
      "hello someone\n",
      "Help on function hello in module __main__:\n",
      "\n",
      "hello(name)\n",
      "    hello someone\n",
      "\n"
     ]
    }
   ],
   "source": [
    "def hello(name):\n",
    "  'hello someone'\n",
    "  print(f'Hello, {name}!')\n",
    "\n",
    "hello(\"King\")\n",
    "x = hello(\"Dreamer\")\n",
    "print(f'x: {x}')\n",
    "print(hello.__doc__)\n",
    "help(hello)\n"
   ]
  },
  {
   "cell_type": "code",
   "execution_count": 14,
   "metadata": {},
   "outputs": [
    {
     "name": "stdout",
     "output_type": "stream",
     "text": [
      "Mr. Gumby Mrs Entity\n"
     ]
    }
   ],
   "source": [
    "def try_to_change(n):\n",
    "  n = 'Mr. Gumby'\n",
    "  return n\n",
    "\n",
    "name = 'Mrs Entity'\n",
    "result = try_to_change(name)\n",
    "print(result, name)"
   ]
  },
  {
   "cell_type": "code",
   "execution_count": 15,
   "metadata": {},
   "outputs": [
    {
     "name": "stdout",
     "output_type": "stream",
     "text": [
      "['Mr. Gumby', 'Mrs. Thing']\n"
     ]
    }
   ],
   "source": [
    "def change(n):\n",
    "  n[0] = 'Mr. Gumby'\n",
    "\n",
    "names = [\"Mrs Entity\", \"Mrs. Thing\"]\n",
    "change(names)\n",
    "print(names)"
   ]
  },
  {
   "cell_type": "code",
   "execution_count": 16,
   "metadata": {},
   "outputs": [
    {
     "name": "stdout",
     "output_type": "stream",
     "text": [
      "['Mrs Entity', 'Mrs. Thing']\n"
     ]
    }
   ],
   "source": [
    "def change(n):\n",
    "  n[0] = 'Mr. Gumby'\n",
    "\n",
    "names = [\"Mrs Entity\", \"Mrs. Thing\"]\n",
    "change(names[:])\n",
    "print(names)"
   ]
  },
  {
   "cell_type": "code",
   "execution_count": 18,
   "metadata": {},
   "outputs": [
    {
     "name": "stdout",
     "output_type": "stream",
     "text": [
      "['Magnus Lie Hetland']\n",
      "['Anne Lie Hetland']\n",
      "['Magnus Lie Hetland', 'Anne Lie Hetland']\n"
     ]
    }
   ],
   "source": [
    "storage = {}\n",
    "storage[\"first\"] = {}\n",
    "storage[\"middle\"] = {}\n",
    "storage[\"last\"] = {}\n",
    "\n",
    "me = \"Magnus Lie Hetland\"\n",
    "storage['first']['Magnus'] = [me]\n",
    "storage['middle']['Lie'] = [me]\n",
    "storage['last']['Hetland'] = [me]\n",
    "\n",
    "print(storage['middle']['Lie'])\n",
    "\n",
    "my_sister = \"Anne Lie Hetland\"\n",
    "storage['first'].setdefault('Anne', []).append(my_sister)\n",
    "storage['middle'].setdefault('Lie', []).append(my_sister)\n",
    "storage['last'].setdefault('Hetland', []).append(my_sister)\n",
    "\n",
    "print(storage['first']['Anne'])\n",
    "print(storage['middle']['Lie'])"
   ]
  },
  {
   "cell_type": "code",
   "execution_count": 23,
   "metadata": {},
   "outputs": [
    {
     "name": "stdout",
     "output_type": "stream",
     "text": [
      "{'first': {}, 'middle': {}, 'last': {}}\n",
      "['Magnus Lie Hetland']\n",
      "['Robin Hood', 'Robin Locksley']\n",
      "['Robin Hood', 'Robin Locksley', 'Mr. Gumby']\n"
     ]
    }
   ],
   "source": [
    "def init(data):\n",
    "  data[\"first\"] = {}\n",
    "  data[\"middle\"] = {}\n",
    "  data[\"last\"] = {}\n",
    "\n",
    "def lookup(data, label, name):\n",
    "  return data[label].get(name)\n",
    "\n",
    "def store(data, full_name):\n",
    "  names = full_name.split()\n",
    "  if len(names) == 2: names.insert(1, '')\n",
    "  labels = 'first', 'middle', 'last'\n",
    "\n",
    "  for label, name in zip(labels, names):\n",
    "    people = lookup(data, label, name)\n",
    "    if people:\n",
    "      people.append(full_name)\n",
    "    else:\n",
    "      data[label][name] = [full_name]\n",
    "\n",
    "storage = {}\n",
    "init(storage)\n",
    "print(storage)\n",
    "store(storage, 'Magnus Lie Hetland')\n",
    "print(lookup(storage, 'middle', 'Lie'))\n",
    "store(storage, 'Robin Hood')\n",
    "store(storage, 'Robin Locksley')\n",
    "print(lookup(storage, 'first', 'Robin'))\n",
    "store(storage, 'Mr. Gumby')\n",
    "print(lookup(storage, 'middle', ''))\n"
   ]
  },
  {
   "cell_type": "code",
   "execution_count": 26,
   "metadata": {},
   "outputs": [
    {
     "name": "stdout",
     "output_type": "stream",
     "text": [
      "11 12\n"
     ]
    }
   ],
   "source": [
    "def inc(x): return x + 1\n",
    "foo = 10\n",
    "foo = inc(foo)\n",
    "foo2 = inc(foo)\n",
    "print(foo, foo2)"
   ]
  },
  {
   "cell_type": "code",
   "execution_count": 27,
   "metadata": {},
   "outputs": [
    {
     "name": "stdout",
     "output_type": "stream",
     "text": [
      "[11]\n"
     ]
    }
   ],
   "source": [
    "def inc(x): x[0] += 1\n",
    "\n",
    "foo = [10]\n",
    "inc(foo)\n",
    "print(foo)"
   ]
  },
  {
   "cell_type": "code",
   "execution_count": 36,
   "metadata": {},
   "outputs": [
    {
     "name": "stdout",
     "output_type": "stream",
     "text": [
      "Hello, python\n",
      "Hello, python\n",
      "hello, python\n",
      "hello, C\n",
      "Hello, python\n"
     ]
    }
   ],
   "source": [
    "def hello_1(greeting, name):\n",
    "  print('{}, {}'.format(greeting, name))\n",
    "\n",
    "def hello_2(name, greeting):\n",
    "  print('{}, {}'.format(name, greeting)) # 语义有问题\n",
    "\n",
    "def hello_3(name, greeting = 'Hello'):\n",
    "  print(f'{greeting}, {name}')\n",
    "\n",
    "hello_1('Hello', \"python\")\n",
    "hello_2('Hello', \"python\")\n",
    "hello_1(name=\"python\", greeting=\"hello\")\n",
    "hello_1(\"hello\", name=\"C\")\n",
    "hello_3('python')"
   ]
  },
  {
   "cell_type": "code",
   "execution_count": 37,
   "metadata": {},
   "outputs": [
    {
     "name": "stdout",
     "output_type": "stream",
     "text": [
      "Hello, Mars!\n",
      "Howdy, Mars!\n",
      "Howdy, Mars...\n",
      "Hello, Mars.\n",
      "Hi, Mars!\n"
     ]
    }
   ],
   "source": [
    "def hello(name, greeting=\"Hello\", punctuation='!'):\n",
    "  print(f'{greeting}, {name}{punctuation}')\n",
    "\n",
    "hello(\"Mars\")\n",
    "hello(\"Mars\", \"Howdy\")\n",
    "hello(\"Mars\", \"Howdy\", '...')\n",
    "hello(\"Mars\", punctuation=\".\")\n",
    "hello(\"Mars\", greeting=\"Hi\")"
   ]
  },
  {
   "cell_type": "code",
   "execution_count": 8,
   "metadata": {},
   "outputs": [
    {
     "name": "stdout",
     "output_type": "stream",
     "text": [
      "('Testing',)\n",
      "(1, 2, 3)\n"
     ]
    }
   ],
   "source": [
    "def print_params(*params):\n",
    "  print(params)\n",
    "\n",
    "print_params(\"Testing\")\n",
    "print_params(1, 2, 3)\n",
    "# print_params(first = 2, 3)\n",
    "# print_params('hello',1, last=2)"
   ]
  },
  {
   "cell_type": "code",
   "execution_count": 51,
   "metadata": {},
   "outputs": [
    {
     "name": "stdout",
     "output_type": "stream",
     "text": [
      "('Testing',)\n",
      "(1, 2, 3)\n",
      "King\n",
      "()\n",
      "Params:\n",
      "(1, 2, 3)\n",
      "1 () 3\n",
      "1 (2, 5) 3\n",
      "{'a': 1, 'b': 2}\n"
     ]
    }
   ],
   "source": [
    "def print_params_2(title, *params):\n",
    "  print(title)\n",
    "  print(params)\n",
    "\n",
    "print_params_2(\"King\")\n",
    "print_params_2(\"Params:\", 1,2 ,3)\n",
    "# *不会收集默认参数\n",
    "# print_params_2(\"hmm...\", something=12)\n",
    "\n",
    "def in_middle(x, *y, z):\n",
    "  print(x, y, z)\n",
    "# 使用名称指定收集参数后续的参数\n",
    "in_middle(1, z=3)\n",
    "in_middle(1, 2, 5, z=3)\n",
    "\n",
    "def print_params3(**params):\n",
    "  print(params)\n",
    "\n",
    "print_params3(a=1, b=2)\n",
    "\n",
    "\n",
    "def print_params2(first, **params):\n",
    "  print(params)\n",
    "\n",
    "print_params2(first='wxz', y=1, z=3)\n",
    "\n"
   ]
  },
  {
   "cell_type": "code",
   "execution_count": 53,
   "metadata": {},
   "outputs": [
    {
     "name": "stdout",
     "output_type": "stream",
     "text": [
      "1 2 3\n",
      "(5, 6, 7)\n",
      "{'foo': 11, 'bar': 12}\n",
      "1 2 3\n",
      "()\n",
      "{}\n"
     ]
    }
   ],
   "source": [
    "def print_params(x, y, z =3, *popspar, **keypar):\n",
    "  print(x, y, z)\n",
    "  print(popspar)\n",
    "  print(keypar)\n",
    "\n",
    "print_params(1, 2, 3, 5, 6, 7, foo=11, bar=12)\n",
    "\n",
    "print_params(1, 2)"
   ]
  }
 ],
 "metadata": {
  "kernelspec": {
   "display_name": "base",
   "language": "python",
   "name": "python3"
  },
  "language_info": {
   "codemirror_mode": {
    "name": "ipython",
    "version": 3
   },
   "file_extension": ".py",
   "mimetype": "text/x-python",
   "name": "python",
   "nbconvert_exporter": "python",
   "pygments_lexer": "ipython3",
   "version": "3.12.1"
  }
 },
 "nbformat": 4,
 "nbformat_minor": 2
}
