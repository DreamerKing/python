{
 "cells": [
  {
   "cell_type": "markdown",
   "metadata": {},
   "source": [
    "# 基本语法\n",
    "\n",
    "ShellBar\n",
    "```bash\n",
    "#!/usr/bin/env python3\n",
    "```\n",
    "\n",
    "## 注释\n",
    "\n",
    "- 单行注释 `#` \n",
    "- 多行注释 `\"\"\" mutiline comment \"\"\"`"
   ]
  },
  {
   "cell_type": "markdown",
   "metadata": {},
   "source": [
    "## 变量\n",
    "\n",
    "变量可以被赋不同类型的值"
   ]
  },
  {
   "cell_type": "code",
   "execution_count": 44,
   "metadata": {},
   "outputs": [
    {
     "name": "stdout",
     "output_type": "stream",
     "text": [
      "4\n",
      "Variable   Type    Data/Info\n",
      "----------------------------\n",
      "age        int     20\n",
      "name       str     Dreamer\n",
      "s          str     hello py!\n",
      "y          int     2\n",
      "Nothing done.\n",
      "Variable   Type    Data/Info\n",
      "----------------------------\n",
      "age        int     20\n",
      "name       str     Dreamer\n",
      "s          str     hello py!\n",
      "y          int     2\n"
     ]
    }
   ],
   "source": [
    "x = 1\n",
    "x =  x + 1\n",
    "y = 2\n",
    "print(x + y)\n",
    "# 删除变量\n",
    "del x\n",
    "\n",
    "# 未赋值变量不能使用\n",
    "# z\n",
    "# print(z)\n",
    "# 输出当前环境中的变量\n",
    "%whos\n",
    "# 清除notebook中的所有非主动定义的变量\n",
    "%reset\n",
    "%whos"
   ]
  },
  {
   "cell_type": "code",
   "execution_count": 2,
   "metadata": {},
   "outputs": [
    {
     "name": "stdout",
     "output_type": "stream",
     "text": [
      "   F   to   C\n",
      "    0    -17.78\n",
      "   25     -3.89\n",
      "   50     10.00\n",
      "   75     23.89\n",
      "  100     37.78\n",
      "  125     51.67\n",
      "  150     65.56\n",
      "  175     79.44\n",
      "  200     93.33\n",
      "  225    107.22\n",
      "  250    121.11\n"
     ]
    }
   ],
   "source": [
    "f = 0\n",
    "print(\"   F   to   C\")\n",
    "while f <= 250:\n",
    "    c = (f - 32) / 1.8\n",
    "    print(\"{:5d}   {:7.2f}\".format(f, c))\n",
    "    f += 25"
   ]
  },
  {
   "cell_type": "markdown",
   "metadata": {},
   "source": [
    "## 类型判断与转换\n",
    "- type()\n",
    "- int()\n",
    "- float()\n",
    "- str()"
   ]
  },
  {
   "cell_type": "code",
   "execution_count": 21,
   "metadata": {},
   "outputs": [
    {
     "name": "stdout",
     "output_type": "stream",
     "text": [
      "<class 'float'>\n",
      "<class 'str'>\n",
      "<class 'tuple'>\n",
      "<class 'int'>\n"
     ]
    }
   ],
   "source": [
    "print(type(2.3))\n",
    "print(type(''))\n",
    "x = 12, 3\n",
    "print(type(x))\n",
    "print(type(2))"
   ]
  },
  {
   "cell_type": "code",
   "execution_count": 95,
   "metadata": {},
   "outputs": [
    {
     "name": "stdout",
     "output_type": "stream",
     "text": [
      "231\n",
      "23.12\n",
      "32.21\n"
     ]
    }
   ],
   "source": [
    "print(int(\"231\"))\n",
    "print(float(\"23.12\"))\n",
    "print(str(32.21))"
   ]
  },
  {
   "cell_type": "markdown",
   "metadata": {},
   "source": [
    "## 字符串"
   ]
  },
  {
   "cell_type": "code",
   "execution_count": 46,
   "metadata": {},
   "outputs": [
    {
     "name": "stdout",
     "output_type": "stream",
     "text": [
      "<class 'str'>\n",
      "9\n",
      "HELLO PY!\n",
      "123 <class 'str'>\n",
      "name: Dreamer, age: 20\n",
      "name: Dreamer, age: 20\n",
      "21\n"
     ]
    }
   ],
   "source": [
    "s = 'hello py!'\n",
    "print(type(s))\n",
    "print(len(s))\n",
    "s[1]\n",
    "# 字符串是不可变的,不能对其索引赋值\n",
    "# s[1] = 'a'\n",
    "s\n",
    "s[-3:]\n",
    "print(s.upper())\n",
    "# seq[start:end:step] 不包含end\n",
    "x = 123\n",
    "#\n",
    "# x + ''\n",
    "# 类型转换\n",
    "x = str(x)\n",
    "print(x, type(x))\n",
    "\n",
    "name, age = 'Dreamer', 20\n",
    "# % 运算符\n",
    "print('name: %s, age: %d' % (name, age))\n",
    "# v3.6 f格式化 无需进行类型转换\n",
    "print(f'name: {name}, age: {age}')\n",
    "print(f'{age + 1}')\n"
   ]
  },
  {
   "cell_type": "code",
   "execution_count": 22,
   "metadata": {},
   "outputs": [
    {
     "name": "stdout",
     "output_type": "stream",
     "text": [
      "Hello, Python\n",
      "Let's go!\n",
      "Let's go!\n"
     ]
    }
   ],
   "source": [
    "print(\"Hello, Python\")\n",
    "print(\"Let's go!\")\n",
    "print('Let\\'s go!')"
   ]
  },
  {
   "cell_type": "code",
   "execution_count": 26,
   "metadata": {},
   "outputs": [
    {
     "name": "stdout",
     "output_type": "stream",
     "text": [
      "Let's say: \"Hello Python!\" again!\n",
      "Hi! boy and girl.\n"
     ]
    }
   ],
   "source": [
    "# 字符串拼接 只适用字符串字面量\n",
    "print(\"Let's say: \"'\"Hello Python!\"' \" again!\")\n",
    "x = \"Hi! \"\n",
    "y = 'boy and girl.'\n",
    "# 这里不能使用空格拼接\n",
    "z = x + y\n",
    "print(z)"
   ]
  },
  {
   "cell_type": "code",
   "execution_count": 27,
   "metadata": {},
   "outputs": [
    {
     "name": "stdout",
     "output_type": "stream",
     "text": [
      "hello \n",
      "world\n",
      "hello \n",
      "world!\n",
      "'hello \\nworld!'\n",
      "|\n",
      "hello\n",
      "\" '\n",
      "haha\n",
      "!\n",
      " \n",
      "这样可以吗？\"\n",
      "可以的吧！\n",
      "\n"
     ]
    }
   ],
   "source": [
    "print(\"hello \\nworld\")\n",
    "print(str(\"hello \\nworld!\"));\n",
    "print(repr(\"hello \\nworld!\"));\n",
    "multstr = '''|\n",
    "hello\n",
    "\" '\n",
    "haha\n",
    "!\n",
    "'''\n",
    "multstr2 = \"\"\"\n",
    "这样可以吗？\"\\n可以的吧！\n",
    "\"\"\"\n",
    "print(multstr, multstr2)"
   ]
  },
  {
   "cell_type": "code",
   "execution_count": 28,
   "metadata": {},
   "outputs": [
    {
     "name": "stdout",
     "output_type": "stream",
     "text": [
      "hi!girl \n",
      "6\n"
     ]
    }
   ],
   "source": [
    "multstr3 = \"hi!\\\n",
    "girl \\\n",
    "\"\n",
    "print(multstr3)\n",
    "\n",
    "print \\\n",
    "  (1 + \\\n",
    "2 +   \\\n",
    "  3)"
   ]
  },
  {
   "cell_type": "code",
   "execution_count": 40,
   "metadata": {},
   "outputs": [
    {
     "name": "stdout",
     "output_type": "stream",
     "text": [
      "C:\n",
      "owhere\\js\n",
      "C:\\nowhere\\js\n",
      "C:\\nowhere\\js\n",
      "C:\\nowhere\\js\\'\n",
      "C:\\Program Files\\foo\\bar\\\n"
     ]
    },
    {
     "name": "stderr",
     "output_type": "stream",
     "text": [
      "<>:1: SyntaxWarning: invalid escape sequence '\\j'\n",
      "<>:1: SyntaxWarning: invalid escape sequence '\\j'\n",
      "/var/folders/j6/1gjc65zd4v5412fw3t28v63h0000gn/T/ipykernel_99320/1758679907.py:1: SyntaxWarning: invalid escape sequence '\\j'\n",
      "  path = \"C:\\nowhere\\js\"\n"
     ]
    }
   ],
   "source": [
    "path = \"C:\\nowhere\\js\"\n",
    "print(path)\n",
    "path = \"C:\\\\nowhere\\\\js\"\n",
    "print(path)\n",
    "print(r'C:\\nowhere\\js')\n",
    "print(r'C:\\nowhere\\js\\'')\n",
    "print(r\"C:\\Program Files\\foo\\bar\" '\\\\')"
   ]
  },
  {
   "cell_type": "code",
   "execution_count": 44,
   "metadata": {},
   "outputs": [
    {
     "name": "stdout",
     "output_type": "stream",
     "text": [
      "Æ\n",
      "😊\n",
      "This is cat: 🐈\n",
      "b'hello world'\n",
      "b'hell world'\n",
      "b'\\xff\\xfe\\x00\\x00h\\x00\\x00\\x00e\\x00\\x00\\x00l\\x00\\x00\\x00l\\x00\\x00\\x00 \\x00\\x00\\x00w\\x00\\x00\\x00o\\x00\\x00\\x00r\\x00\\x00\\x00l\\x00\\x00\\x00d\\x00\\x00\\x00'\n",
      "b'\\xff\\xfe\\x00\\x00h\\x00\\x00\\x00e\\x00\\x00\\x00l\\x00\\x00\\x00l\\x00\\x00\\x00o\\x00\\x00\\x00 \\x00\\x00\\x00w\\x00\\x00\\x00o\\x00\\x00\\x00r\\x00\\x00\\x00l\\x00\\x00\\x00d\\x00\\x00\\x00'\n"
     ]
    }
   ],
   "source": [
    "print(\"\\u00C6\")\n",
    "print('\\U0001f60A')\n",
    "print(\"This is cat: \\N{Cat}\")\n",
    "print(\"hello world\".encode(\"ASCII\"))\n",
    "print(\"hell world\".encode('utf-8'))\n",
    "print(\"hell world\".encode('UTF-32'))\n",
    "print(bytes(\"hello world\", encoding='utf-32'))"
   ]
  },
  {
   "cell_type": "code",
   "execution_count": 45,
   "metadata": {},
   "outputs": [
    {
     "name": "stdout",
     "output_type": "stream",
     "text": [
      "hell world\n",
      "Hello world\n"
     ]
    }
   ],
   "source": [
    "print(b'\\xff\\xfe\\x00\\x00h\\x00\\x00\\x00e\\x00\\x00\\x00l\\x00\\x00\\x00l\\x00\\x00\\x00 \\x00\\x00\\x00w\\x00\\x00\\x00o\\x00\\x00\\x00r\\x00\\x00\\x00l\\x00\\x00\\x00d\\x00\\x00\\x00'.decode(\"utf-32\"))\n",
    "print(str(b'\\xff\\xfe\\x00\\x00H\\x00\\x00\\x00e\\x00\\x00\\x00l\\x00\\x00\\x00l\\x00\\x00\\x00o\\x00\\x00\\x00 \\x00\\x00\\x00w\\x00\\x00\\x00o\\x00\\x00\\x00r\\x00\\x00\\x00l\\x00\\x00\\x00d\\x00\\x00\\x00', encoding='utf-32'))"
   ]
  },
  {
   "cell_type": "code",
   "execution_count": 46,
   "metadata": {},
   "outputs": [
    {
     "name": "stdout",
     "output_type": "stream",
     "text": [
      "bytearray(b'hbllo!')\n",
      "hbllo!\n"
     ]
    }
   ],
   "source": [
    "x = bytearray(b'hello!')\n",
    "x[1] = ord(b'b')\n",
    "print(x)\n",
    "print(str(x, encoding='utf-8'))\n"
   ]
  },
  {
   "cell_type": "markdown",
   "metadata": {},
   "source": [
    "## 字符串格式化\n",
    "\n",
    "- f\n",
    "- format方法\n",
    "- %\n",
    "- 字符串模版"
   ]
  },
  {
   "cell_type": "code",
   "execution_count": 48,
   "metadata": {},
   "outputs": [
    {
     "name": "stdout",
     "output_type": "stream",
     "text": [
      "http://github.com\n",
      "My name is Dreamer, I'm 23 years old\n"
     ]
    }
   ],
   "source": [
    "website = 'http://github.com'\n",
    "# 字符串是不可变，不能进行索引赋值和切片赋值\n",
    "# website[-3:] = 'cn'\n",
    "print(website)\n",
    "\n",
    "# 字符串格式化\n",
    "\n",
    "value = ('Dreamer', 23)\n",
    "show_str = \"My name is %s, I'm %d years old\"\n",
    "print(show_str % value)"
   ]
  },
  {
   "cell_type": "code",
   "execution_count": 49,
   "metadata": {},
   "outputs": [
    {
     "name": "stdout",
     "output_type": "stream",
     "text": [
      "My name is Dreamer, I'm 23 years old\n"
     ]
    }
   ],
   "source": [
    "from string import Template\n",
    "temp = Template(\"My name is $name, I'm $age years old\")\n",
    "\n",
    "value = ('Dreamer', 23)\n",
    "print(temp.substitute(name = value[0], age= value[1]))\n"
   ]
  },
  {
   "cell_type": "code",
   "execution_count": 50,
   "metadata": {},
   "outputs": [
    {
     "name": "stdout",
     "output_type": "stream",
     "text": [
      "Dreamer, King and Jefi\n",
      "King, Dreamer and King\n",
      "to be or not to be\n"
     ]
    }
   ],
   "source": [
    "\n",
    "fstr = \"{}, {} and {}\".format(\"Dreamer\", \"King\", \"Jefi\")\n",
    "print(fstr)\n",
    "\n",
    "fstr = \"{1}, {0} and {1}\".format(\"Dreamer\", \"King\", \"Jefi\")\n",
    "print(fstr)\n",
    "\n",
    "print(\"{3} {0} {2} {1} {3} {0}\".format(\"be\", \"not\", \"or\",\"to\"))"
   ]
  },
  {
   "cell_type": "code",
   "execution_count": 52,
   "metadata": {},
   "outputs": [
    {
     "name": "stdout",
     "output_type": "stream",
     "text": [
      "PI is 3.14\n",
      "PI is 3.14\n",
      "PI is 3.141592653589793\n",
      "e is 2.718 and pi is 3.14159\n",
      "Pi is 3.141593\n"
     ]
    }
   ],
   "source": [
    "from math import pi, e\n",
    "\n",
    "print(\"{name} is {:.2f}\".format(pi, name=\"PI\"))\n",
    "print(\"{name} is {value:.2f}\".format(value = pi, name=\"PI\"))\n",
    "print(\"{name} is {value}\".format(value = pi, name = \"PI\"))\n",
    "print(\"e is {:.3f} and pi is {:.5f}\".format(e, pi))\n",
    "print(f\"Pi is {pi:.6f}\")"
   ]
  },
  {
   "cell_type": "code",
   "execution_count": 60,
   "metadata": {},
   "outputs": [
    {
     "name": "stdout",
     "output_type": "stream",
     "text": [
      "{name}\n"
     ]
    }
   ],
   "source": [
    "name = \"King\"\n",
    "# print(\"{'name'}\".format())\n",
    "# print(\"{name}\".format())\n",
    "print(\"{{name}}\".format())"
   ]
  },
  {
   "cell_type": "code",
   "execution_count": 61,
   "metadata": {},
   "outputs": [
    {
     "name": "stdout",
     "output_type": "stream",
     "text": [
      "0123456789\n",
      "abcdefghijklmnopqrstuvwxyzABCDEFGHIJKLMNOPQRSTUVWXYZ\n",
      "ABCDEFGHIJKLMNOPQRSTUVWXYZ\n",
      "abcdefghijklmnopqrstuvwxyzABCDEFGHIJKLMNOPQRSTUVWXYZ\n",
      "'0123456789abcdefghijklmnopqrstuvwxyzABCDEFGHIJKLMNOPQRSTUVWXYZ!\"#$%&\\'()*+,-./:;<=>?@[\\\\]^_`{|}~ \\t\\n\\r\\x0b\\x0c'\n",
      "!\"#$%&'()*+,-./:;<=>?@[\\]^_`{|}~\n"
     ]
    }
   ],
   "source": [
    "import string\n",
    "\n",
    "# 字符串常量\n",
    "print(string.digits)\n",
    "print(string.ascii_letters)\n",
    "print(string.ascii_uppercase)\n",
    "print(string.ascii_letters)\n",
    "print(repr(string.printable))\n",
    "print(string.punctuation)\n"
   ]
  },
  {
   "cell_type": "code",
   "execution_count": 62,
   "metadata": {},
   "outputs": [
    {
     "name": "stdout",
     "output_type": "stream",
     "text": [
      "   Hello Python!    \n",
      "***Hello Python!****\n",
      "###############Hello\n",
      "0000000Hello Python!\n",
      "Hello###############\n"
     ]
    }
   ],
   "source": [
    "import string\n",
    "\n",
    "# 字符串填充对齐\n",
    "print(\"Hello Python!\".center(20))\n",
    "print(\"Hello Python!\".center(20, '*'))\n",
    "print(\"Hello\".rjust(20, '#'))\n",
    "print(\"Hello Python!\".zfill(20))\n",
    "print(\"Hello\".ljust(20, '#'))\n"
   ]
  },
  {
   "cell_type": "code",
   "execution_count": 63,
   "metadata": {},
   "outputs": [
    {
     "name": "stdout",
     "output_type": "stream",
     "text": [
      "2\n",
      "5\n",
      "-1\n"
     ]
    }
   ],
   "source": [
    "print(\"This is jokes\".find('is'))\n",
    "print(\"This is jokes\".find('is',3))\n",
    "print(\"This is jokes\".find('Ais'))"
   ]
  },
  {
   "cell_type": "code",
   "execution_count": 66,
   "metadata": {},
   "outputs": [
    {
     "name": "stdout",
     "output_type": "stream",
     "text": [
      "7\n",
      "8\n",
      "-1\n",
      "16\n",
      "17\n",
      "4\n",
      "4\n",
      "True\n",
      "True\n",
      "True\n"
     ]
    }
   ],
   "source": [
    "title = \"$$$ is $$$$ has $$$$ dend\"\n",
    "print(title.find('$$$', 1))\n",
    "print(title.find('$$$', 8, 12))\n",
    "print(title.find('$$$', 9, 16))\n",
    "print(title.find('$$$', 9))\n",
    "print(title.rfind('$$$'))\n",
    "print(title.index('is'))\n",
    "print(title.index('is', 4, 10)) # index 没找到会报错\n",
    "print(title.startswith(\"$$$\"))\n",
    "print(title.startswith(\"$$$\", 16))\n",
    "print(title.endswith('end'))"
   ]
  },
  {
   "cell_type": "code",
   "execution_count": 68,
   "metadata": {},
   "outputs": [
    {
     "name": "stdout",
     "output_type": "stream",
     "text": [
      "3\n",
      "2\n",
      "1\n"
     ]
    }
   ],
   "source": [
    "title = \"$$$ is $$$$ has $$$$ dend\"\n",
    "\n",
    "# 统计子串的出现频次\n",
    "print(title.count('$$$'))\n",
    "print(title.count('$$$', 1))\n",
    "print(title.count('$$$', 1, 16))"
   ]
  },
  {
   "cell_type": "code",
   "execution_count": 70,
   "metadata": {},
   "outputs": [
    {
     "name": "stdout",
     "output_type": "stream",
     "text": [
      "1*2*3\n",
      "/usr/bin/env\n",
      "C:\\usr\\bin\\env\n"
     ]
    }
   ],
   "source": [
    "# seq = [1,2,3,4,5,6]\n",
    "# print('#'.join(seq))\n",
    "\n",
    "seq = ['1', '2', '3']\n",
    "print('*'.join(seq))\n",
    "\n",
    "dirs = '', 'usr', 'bin', 'env'\n",
    "print('/'.join(dirs))\n",
    "print('C:' + '\\\\'.join(dirs))"
   ]
  },
  {
   "cell_type": "code",
   "execution_count": 72,
   "metadata": {},
   "outputs": [
    {
     "name": "stdout",
     "output_type": "stream",
     "text": [
      "['1', '2', '3', '4']\n"
     ]
    }
   ],
   "source": [
    "s = '1+2+3+4'\n",
    "print(s.split('+'))\n",
    "\n"
   ]
  },
  {
   "cell_type": "code",
   "execution_count": 73,
   "metadata": {},
   "outputs": [
    {
     "name": "stdout",
     "output_type": "stream",
     "text": [
      "['', 'usr', 'bin', 'env']\n",
      "['', 'usr', 'bin/env']\n",
      "['/usr', 'bin', 'env']\n"
     ]
    }
   ],
   "source": [
    "path = '/usr/bin/env'\n",
    "print(path.split('/'))\n",
    "print(path.split('/', 2))\n",
    "print(path.rsplit('/', 2))"
   ]
  },
  {
   "cell_type": "code",
   "execution_count": 75,
   "metadata": {},
   "outputs": [
    {
     "name": "stdout",
     "output_type": "stream",
     "text": [
      "['This', 'is', 'word', 'hahshs', 'end']\n",
      "['This is word', '  hahshs end']\n",
      "('This', ' ', 'is word\\n  hahshs end')\n",
      "('This is word', '\\n', '  hahshs end')\n"
     ]
    }
   ],
   "source": [
    "\n",
    "sentence = 'This is word\\n\\\n",
    "  hahshs \\\n",
    "end'\n",
    "print(sentence.split())\n",
    "print(sentence.splitlines())\n",
    "print(sentence.partition(' '))\n",
    "print(sentence.partition('\\n'))"
   ]
  },
  {
   "cell_type": "code",
   "execution_count": 76,
   "metadata": {},
   "outputs": [
    {
     "name": "stdout",
     "output_type": "stream",
     "text": [
      "('', '/', 'usr/bin/env')\n",
      "('/usr/bin', '/', 'env')\n"
     ]
    }
   ],
   "source": [
    "path = '/usr/bin/env'\n",
    "\n",
    "print(path.partition('/'))\n",
    "print(path.rpartition('/'))"
   ]
  },
  {
   "cell_type": "code",
   "execution_count": 77,
   "metadata": {},
   "outputs": [
    {
     "name": "stdout",
     "output_type": "stream",
     "text": [
      "we are family, we live in the world\n",
      "WE ARE FAMILY, WE LIVE IN THE WORLD\n",
      "We are family, we live in the world\n",
      "we are family, we live in the world\n",
      "WE ARE FAMILY, wE LIVE IN THE WORLD\n",
      "We Are Family, We Live In The World\n",
      "We Are Family, We Live In The World\n",
      "We Are Family, We Live In The World\n"
     ]
    }
   ],
   "source": [
    "\n",
    "str1 = \"we are family, We live in the world\"\n",
    "print(str1.lower())\n",
    "print(str1.upper())\n",
    "print(str1.capitalize())\n",
    "print(str1.casefold())\n",
    "print(str1.swapcase())\n",
    "print(str1.title())\n",
    "print(string.capwords(str1))\n",
    "print(string.capwords(str1, ' '))"
   ]
  },
  {
   "cell_type": "code",
   "execution_count": 78,
   "metadata": {},
   "outputs": [
    {
     "name": "stdout",
     "output_type": "stream",
     "text": [
      "True\n",
      "False\n",
      "True\n",
      "True\n",
      "True\n",
      "True\n",
      "False\n",
      "True\n",
      "True\n",
      "False\n"
     ]
    }
   ],
   "source": [
    "str2 = 'we are brother'\n",
    "print(str2.islower())\n",
    "print(str2.isupper())\n",
    "str2 = \"We\"\n",
    "print(str2.istitle())\n",
    "str2 = '23'\n",
    "print(str2.isalnum())\n",
    "print(str2.isdecimal())\n",
    "print(str2.isdigit())\n",
    "print(str2.isidentifier())\n",
    "print(str2.isnumeric())\n",
    "print(str2.isprintable())\n",
    "print(str2.isspace())"
   ]
  },
  {
   "cell_type": "code",
   "execution_count": 85,
   "metadata": {},
   "outputs": [
    {
     "name": "stdout",
     "output_type": "stream",
     "text": [
      "{104: 108, 105: 111}\n",
      "lala lo \n",
      "hilohilo hi \n"
     ]
    }
   ],
   "source": [
    "str2 = 'haha hi '\n",
    "# 转换表 字符码点映射 替换字符要与被替换字符具有一致的长度 第三个参数是要删除的字符\n",
    "table = str.maketrans('hi','lo')\n",
    "# table = str.maketrans('hi','lo', ' ')\n",
    "\n",
    "print(table)\n",
    "print(str2.translate(table))\n",
    "\n",
    "print(str2.replace('ha', 'hilo'))\n"
   ]
  },
  {
   "cell_type": "code",
   "execution_count": 84,
   "metadata": {},
   "outputs": [
    {
     "name": "stdout",
     "output_type": "stream",
     "text": [
      "H       e       l       l       o\n",
      "H\te\tl\tl\to\n"
     ]
    }
   ],
   "source": [
    "txt = \"H\\te\\tl\\tl\\to\"\n",
    "print(txt.expandtabs())\n",
    "print(txt)"
   ]
  },
  {
   "cell_type": "code",
   "execution_count": 87,
   "metadata": {},
   "outputs": [
    {
     "name": "stdout",
     "output_type": "stream",
     "text": [
      "The expandtabs() method sets the tab size to the specified number of whitespaces.\n",
      "   The expandtabs() method sets the tab size to the specified number of whitespaces.\n"
     ]
    }
   ],
   "source": [
    "\n",
    "# 删除首位空白或指定字符\n",
    "text = '   The expandtabs() method sets the tab size to the specified number of whitespaces.  '\n",
    "print(text.strip())\n",
    "print(text.rstrip())"
   ]
  },
  {
   "cell_type": "code",
   "execution_count": 89,
   "metadata": {},
   "outputs": [
    {
     "name": "stdout",
     "output_type": "stream",
     "text": [
      " strip * and *! one \n"
     ]
    }
   ],
   "source": [
    "\n",
    "text = \"*** strip * and *! one ****!\"\n",
    "print(text.strip('!*'))\n"
   ]
  },
  {
   "cell_type": "code",
   "execution_count": 90,
   "metadata": {},
   "outputs": [
    {
     "name": "stdout",
     "output_type": "stream",
     "text": [
      "'hello'\n"
     ]
    }
   ],
   "source": [
    "\n",
    "print(ascii('hello'))"
   ]
  },
  {
   "cell_type": "markdown",
   "metadata": {},
   "source": [
    "## 列表\n",
    "可变 元素可不变，列表长度可变"
   ]
  },
  {
   "cell_type": "code",
   "execution_count": 69,
   "metadata": {},
   "outputs": [
    {
     "name": "stdout",
     "output_type": "stream",
     "text": [
      "['h', 'e', 'l', 'l', 'o']\n",
      "hello\n"
     ]
    }
   ],
   "source": [
    "l = list('hello')\n",
    "print(l)\n",
    "print(''.join(l))"
   ]
  },
  {
   "cell_type": "code",
   "execution_count": 72,
   "metadata": {},
   "outputs": [
    {
     "name": "stdout",
     "output_type": "stream",
     "text": [
      "[1, 4, 3]\n"
     ]
    }
   ],
   "source": [
    "x = [1,2,3]\n",
    "# 修改列表元素\n",
    "x[1] = 4\n",
    "print(x)\n",
    "# 不能给不存在的列表元素进行赋值\n",
    "# x[3] = 9\n",
    "# print(x)"
   ]
  },
  {
   "cell_type": "code",
   "execution_count": 73,
   "metadata": {},
   "outputs": [
    {
     "name": "stdout",
     "output_type": "stream",
     "text": [
      "['Alice', 'Beth', 'Cecil', 'Earl']\n"
     ]
    }
   ],
   "source": [
    "# 删除列表中元素\n",
    "names = [\"Alice\", \"Beth\", \"Cecil\", 'Dee', 'Earl']\n",
    "# 会自动改变列表长度\n",
    "del names[3]\n",
    "print(names)"
   ]
  },
  {
   "cell_type": "code",
   "execution_count": 74,
   "metadata": {},
   "outputs": [
    {
     "name": "stdout",
     "output_type": "stream",
     "text": [
      "['P', 'e', 'r', 'l']\n",
      "['P', 'e', 'a', 'r']\n"
     ]
    }
   ],
   "source": [
    "# 切片赋值\n",
    "name = list('Perl')\n",
    "print(name)\n",
    "# 保留指定索引前的，替换指定索引之后的元素\n",
    "name[2:] = list('ar')\n",
    "print(name)"
   ]
  },
  {
   "cell_type": "code",
   "execution_count": 76,
   "metadata": {},
   "outputs": [
    {
     "name": "stdout",
     "output_type": "stream",
     "text": [
      "[1, 2, 3, 4, 5]\n",
      "[1, 5]\n",
      "[1, 2, 3, 4, 5]\n",
      "[1, 5]\n"
     ]
    }
   ],
   "source": [
    "numbers = [1,5]\n",
    "# 指定插入位置\n",
    "numbers[1:1] = [2,3,4]\n",
    "print(numbers)\n",
    "\n",
    "numbers[1:4] = []\n",
    "print(numbers)\n",
    "\n",
    "numbers[1:] = [2,3,4,5]\n",
    "print(numbers)\n",
    "del numbers[1:4]\n",
    "print(numbers)\n"
   ]
  },
  {
   "cell_type": "code",
   "execution_count": 77,
   "metadata": {},
   "outputs": [
    {
     "name": "stdout",
     "output_type": "stream",
     "text": [
      "[1, 2, 3, 4, 5, 7, 8]\n"
     ]
    }
   ],
   "source": [
    "numbers = [1,2,3,4,5,6,7,8,9]\n",
    "del numbers[-1:2:-3]\n",
    "print(numbers)"
   ]
  },
  {
   "cell_type": "code",
   "execution_count": null,
   "metadata": {},
   "outputs": [],
   "source": [
    "\n",
    "numbers = [1,3]\n",
    "numbers = numbers*2\n",
    "print(numbers)"
   ]
  },
  {
   "cell_type": "code",
   "execution_count": 72,
   "metadata": {},
   "outputs": [
    {
     "name": "stdout",
     "output_type": "stream",
     "text": [
      "<class 'list'> [1, 2, 3]\n",
      "[1, 2, 2]\n",
      "[1, 2, 2]\n",
      "[1, 2, 2] ['Hello', 'Hi', 'Goodbye']\n",
      "True\n",
      "[1, 2, 2, 'Hello', 'Hi', 'Goodbye']\n",
      "[[1, 2, 2], ['Hello', 'Hi', 'Goodbye']]\n",
      "Hi\n",
      "[2, 2]\n",
      "3\n",
      "[[1, 2, 2], ['Hello', 'Hi', 'Goodbye'], 23]\n",
      "[[1, 2, 2], ['Hello', 'Hi', 'Goodbye'], 12, 23]\n",
      "[[1, 2, 2], ['Hello', 'Hi', 'Goodbye'], 23]\n",
      "[[1, 2, 2], ['Hello', 'Hi', 'Goodbye']]\n",
      "[[1, 2, 2], ['Hello', 'Hi', 'Goodbye']]\n",
      "True\n"
     ]
    }
   ],
   "source": [
    "l1 = [1, 2, 3]\n",
    "l2 = ['Hello', 'Hi', 'Goodbye']\n",
    "print(type(l1), l1)\n",
    "l1[2] = 2\n",
    "print(l1)\n",
    "# 不可越界赋值\n",
    "# l1[3] = 6\n",
    "print(l1)\n",
    "print(l1, l2)\n",
    "\n",
    "print('Hi' in l2)\n",
    "\n",
    "# 列表拼接\n",
    "l3 = l1 + l2\n",
    "print(l3)\n",
    "l4 = [l1, l2]\n",
    "print(l4)\n",
    "print(l4[1][1])\n",
    "print(l4[0][1:])\n",
    "l4.append(23)\n",
    "print(len(l4))\n",
    "print(l4)\n",
    "# 在指定位置插入元素\n",
    "l4.insert(2, 12)\n",
    "print(l4)\n",
    "# 移除列表中的匹配的第一元素，如果不匹配则报错\n",
    "l4.remove(12)\n",
    "print(l4)\n",
    "# 删除指定索引位置的元素\n",
    "del l4[2]\n",
    "print(l4)\n",
    "l5 = list(l4)\n",
    "print(l5)\n",
    "print(l4 == l5)\n"
   ]
  },
  {
   "cell_type": "code",
   "execution_count": 26,
   "metadata": {},
   "outputs": [
    {
     "name": "stdout",
     "output_type": "stream",
     "text": [
      "l o 好\n"
     ]
    }
   ],
   "source": [
    "hello = \"hello world\"\n",
    "print(hello[2], hello[-4], '你好'[1])"
   ]
  },
  {
   "cell_type": "code",
   "execution_count": 25,
   "metadata": {},
   "outputs": [
    {
     "name": "stdout",
     "output_type": "stream",
     "text": [
      "[['king', 20], ['john', 32]]\n",
      "['john', 32]\n",
      "['king', 20]\n"
     ]
    }
   ],
   "source": [
    "king = ['king', 20]\n",
    "john = ['john', 32]\n",
    "employee = [king, john]\n",
    "print(employee)\n",
    "print(employee[1])\n",
    "print(employee[-2])\n"
   ]
  },
  {
   "cell_type": "code",
   "execution_count": 28,
   "metadata": {},
   "outputs": [
    {
     "name": "stdout",
     "output_type": "stream",
     "text": [
      "4\n"
     ]
    }
   ],
   "source": [
    "\n",
    "fourth = input('Year:\\n')[-1]\n",
    "print(fourth)"
   ]
  },
  {
   "cell_type": "code",
   "execution_count": 29,
   "metadata": {},
   "outputs": [
    {
     "name": "stdout",
     "output_type": "stream",
     "text": [
      "juejin.cn\n"
     ]
    }
   ],
   "source": [
    "# 切片 :分隔 start:end:step 不包含end\n",
    "\n",
    "tag = 'https://juejin.cn/post/6844904068888920071'\n",
    "print(tag[8 : 17])"
   ]
  },
  {
   "cell_type": "code",
   "execution_count": 30,
   "metadata": {},
   "outputs": [
    {
     "name": "stdout",
     "output_type": "stream",
     "text": [
      "[2, 3, 4, 5]\n",
      "[]\n"
     ]
    }
   ],
   "source": [
    "numbers = [0,1,2,3,4,5,6,7,8,9]\n",
    "print(numbers[2:6])\n",
    "print(numbers[6:6])"
   ]
  },
  {
   "cell_type": "code",
   "execution_count": 31,
   "metadata": {},
   "outputs": [
    {
     "name": "stdout",
     "output_type": "stream",
     "text": [
      "[3, 4, 5, 6, 7]\n",
      "[0, 1, 2, 3, 4, 5, 6, 7]\n"
     ]
    }
   ],
   "source": [
    "numbers = [0,1,2,3,4,5,6,7,8,9]\n",
    "print(numbers[3: -2])\n",
    "print(numbers[:-2])"
   ]
  },
  {
   "cell_type": "code",
   "execution_count": 32,
   "metadata": {},
   "outputs": [
    {
     "name": "stdout",
     "output_type": "stream",
     "text": [
      "[5, 6, 7, 8, 9]\n",
      "[7, 8, 9]\n",
      "[]\n"
     ]
    }
   ],
   "source": [
    "numbers = [0,1,2,3,4,5,6,7,8,9]\n",
    "print(numbers[5:]) # 序列前n个元素\n",
    "print(numbers[-3:]) # 序列后n个元素\n",
    "print(numbers[-3:0])"
   ]
  },
  {
   "cell_type": "code",
   "execution_count": 33,
   "metadata": {},
   "outputs": [
    {
     "name": "stdout",
     "output_type": "stream",
     "text": [
      "[0, 1, 2, 3, 4, 5, 6, 7, 8, 9]\n",
      "True\n"
     ]
    }
   ],
   "source": [
    "numbers = [0,1,2,3,4,5,6,7,8,9]\n",
    "l = numbers[:]\n",
    "print(l) # 复制序列\n",
    "print(l == numbers)"
   ]
  },
  {
   "cell_type": "code",
   "execution_count": 34,
   "metadata": {},
   "outputs": [
    {
     "name": "stdout",
     "output_type": "stream",
     "text": [
      "[1, 3, 5, 7, 9]\n",
      "[0, 4, 8]\n"
     ]
    }
   ],
   "source": [
    "numbers = [0,1,2,3,4,5,6,7,8,9, 10, 11]\n",
    "print(numbers[1:10:2])\n",
    "print(numbers[::4])"
   ]
  },
  {
   "cell_type": "code",
   "execution_count": 35,
   "metadata": {},
   "outputs": [
    {
     "name": "stdout",
     "output_type": "stream",
     "text": [
      "[8, 6, 4]\n",
      "[]\n",
      "[11, 9, 7, 5]\n",
      "[8, 5, 2]\n"
     ]
    }
   ],
   "source": [
    "# 步长为负的情况\n",
    "numbers = [0,1,2,3,4,5,6,7,8,9, 10, 11]\n",
    "print(numbers[8:3:-2]) # 步长可以为负值，表示从右向左提取元素\n",
    "print(numbers[3:8:-2])\n",
    "# print(numbers[2:6:0]) # 步长不能为0\n",
    "print(numbers[:3:-2])\n",
    "print(numbers[8::-3])"
   ]
  },
  {
   "cell_type": "code",
   "execution_count": 38,
   "metadata": {},
   "outputs": [
    {
     "name": "stdout",
     "output_type": "stream",
     "text": [
      "[1, 2, 3, 4, 5]\n",
      "[1, 2, 3, 'hello']\n"
     ]
    }
   ],
   "source": [
    "a = [1,2,3]\n",
    "b = [4,5]\n",
    "print(a + b)\n",
    "# print(a + 'hello')\n",
    "print(a + ['hello'])"
   ]
  },
  {
   "cell_type": "code",
   "execution_count": 39,
   "metadata": {},
   "outputs": [
    {
     "name": "stdout",
     "output_type": "stream",
     "text": [
      "[23, 23, 23]\n",
      "[None, None, None, None, None]\n"
     ]
    }
   ],
   "source": [
    "print([23]*3)\n",
    "print([None]*5)"
   ]
  },
  {
   "cell_type": "code",
   "execution_count": 40,
   "metadata": {},
   "outputs": [
    {
     "name": "stdout",
     "output_type": "stream",
     "text": [
      "True\n",
      "False\n"
     ]
    }
   ],
   "source": [
    "permission = 'rw'\n",
    "print('w' in permission)\n",
    "print('x' in permission)"
   ]
  },
  {
   "cell_type": "code",
   "execution_count": 41,
   "metadata": {},
   "outputs": [
    {
     "data": {
      "text/plain": [
       "True"
      ]
     },
     "execution_count": 41,
     "metadata": {},
     "output_type": "execute_result"
    }
   ],
   "source": [
    "users = ['mlh', 'foo', 'bar']\n",
    "input('Enter your user name: ') in users"
   ]
  },
  {
   "cell_type": "code",
   "execution_count": 42,
   "metadata": {},
   "outputs": [
    {
     "name": "stdout",
     "output_type": "stream",
     "text": [
      "True\n"
     ]
    }
   ],
   "source": [
    "subject = '$$$ get rich now!!! $$$'\n",
    "print('$$$' in subject)"
   ]
  },
  {
   "cell_type": "code",
   "execution_count": 47,
   "metadata": {},
   "outputs": [
    {
     "name": "stdout",
     "output_type": "stream",
     "text": [
      "[1, 2, 3]\n",
      "[1, 2, 3, 4]\n",
      "[]\n"
     ]
    }
   ],
   "source": [
    "lst = [1,2,3]\n",
    "print(lst)\n",
    "# 只能单个追加\n",
    "lst.append(4)\n",
    "print(lst)\n",
    "\n",
    "# 清空列表\n",
    "lst[:] = []\n",
    "# lst.clear()\n",
    "print(lst)"
   ]
  },
  {
   "cell_type": "code",
   "execution_count": 48,
   "metadata": {},
   "outputs": [
    {
     "name": "stdout",
     "output_type": "stream",
     "text": [
      "[1, 4, 5, 6, 2, 3]\n"
     ]
    }
   ],
   "source": [
    "a = [1,2,3]\n",
    "b = a\n",
    "b[1:1] = [4,5,6]\n",
    "print(a)"
   ]
  },
  {
   "cell_type": "code",
   "execution_count": 49,
   "metadata": {},
   "outputs": [
    {
     "name": "stdout",
     "output_type": "stream",
     "text": [
      "[[2, 2], 2, 3, 4]\n",
      "[[2, 2], 2, 3]\n",
      "[[2, 2], 2, 3]\n"
     ]
    }
   ],
   "source": [
    "# 复制列表\n",
    "l = [[1,2],2,3]\n",
    "l2 = l.copy()\n",
    "l2.append(4)\n",
    "l2[0][0] = 2\n",
    "print(l2)\n",
    "print(l)\n",
    "\n",
    "l3 = l[:]\n",
    "print(l3);"
   ]
  },
  {
   "cell_type": "code",
   "execution_count": 50,
   "metadata": {},
   "outputs": [
    {
     "name": "stdout",
     "output_type": "stream",
     "text": [
      "[[1, 2], 2, 3, 2]\n",
      "2\n"
     ]
    }
   ],
   "source": [
    "# 统计元素出现频次\n",
    "l = [[1,2],2,3]\n",
    "l4 = list(l)\n",
    "l4.append(2)\n",
    "print(l4)\n",
    "print(l4.count(2))"
   ]
  },
  {
   "cell_type": "code",
   "execution_count": 54,
   "metadata": {},
   "outputs": [
    {
     "name": "stdout",
     "output_type": "stream",
     "text": [
      "[1, 2, 3, 4, 5]\n",
      "[4, 5]\n"
     ]
    }
   ],
   "source": [
    "# 扩展列表\n",
    "a = [1,2,3]\n",
    "b = [4,5]\n",
    "a.extend(b)\n",
    "print(a)\n",
    "print(b)"
   ]
  },
  {
   "cell_type": "code",
   "execution_count": 57,
   "metadata": {},
   "outputs": [
    {
     "name": "stdout",
     "output_type": "stream",
     "text": [
      "[1, 2, 3, 4, 5]\n"
     ]
    }
   ],
   "source": [
    "a = [1,2,3]\n",
    "b = [4,5]\n",
    "a = a + b\n",
    "print(a)"
   ]
  },
  {
   "cell_type": "code",
   "execution_count": 56,
   "metadata": {},
   "outputs": [
    {
     "name": "stdout",
     "output_type": "stream",
     "text": [
      "[1, 2, 3, 4, 5]\n",
      "[1, 2, 3]\n",
      "[4, 5]\n"
     ]
    }
   ],
   "source": [
    "# 拼接列表\n",
    "a = [1,2,3]\n",
    "b = [4,5]\n",
    "c = a + b\n",
    "print(c)\n",
    "print(a)\n",
    "print(b)"
   ]
  },
  {
   "cell_type": "code",
   "execution_count": 52,
   "metadata": {},
   "outputs": [
    {
     "name": "stdout",
     "output_type": "stream",
     "text": [
      "[1, 2, 3, 4, 5]\n",
      "[4, 5]\n"
     ]
    }
   ],
   "source": [
    "# 扩展列表\n",
    "a = [1,2,3]\n",
    "b = [4,5]\n",
    "a[len(a):] = b\n",
    "print(a)\n",
    "print(b)"
   ]
  },
  {
   "cell_type": "code",
   "execution_count": 60,
   "metadata": {},
   "outputs": [
    {
     "name": "stdout",
     "output_type": "stream",
     "text": [
      "6\n",
      "who 4\n"
     ]
    }
   ],
   "source": [
    "\n",
    "# 查找元素\n",
    "knight = ['we', 'are', 'the', 'knight', 'who', 'say', 'hi']\n",
    "print(knight.index('hi'))\n",
    "index = knight.index('who')\n",
    "print(knight[index], index)\n",
    "# print(knight.index('hello'))"
   ]
  },
  {
   "cell_type": "code",
   "execution_count": 61,
   "metadata": {},
   "outputs": [
    {
     "name": "stdout",
     "output_type": "stream",
     "text": [
      "[1, 'bar', 2, 3, 4, 5, 6, 'hi']\n"
     ]
    }
   ],
   "source": [
    "# 插入元素\n",
    "numbers = [1,2,3,4,5,6]\n",
    "numbers.insert(7,'hi')\n",
    "# numbers.insert(1,'bar')\n",
    "numbers[1:1] = ['bar']\n",
    "print(numbers)"
   ]
  },
  {
   "cell_type": "code",
   "execution_count": 62,
   "metadata": {},
   "outputs": [
    {
     "name": "stdout",
     "output_type": "stream",
     "text": [
      "[1] 3 2\n"
     ]
    }
   ],
   "source": [
    "# 删除元素\n",
    "x = [1,2,3]\n",
    "y = x.pop() # 返回被删除的元素\n",
    "z = x.pop(1)\n",
    "print(x, y, z)"
   ]
  },
  {
   "cell_type": "code",
   "execution_count": 63,
   "metadata": {},
   "outputs": [
    {
     "name": "stdout",
     "output_type": "stream",
     "text": [
      "['to', 'or', 'not', 'to', 'be'] None\n"
     ]
    }
   ],
   "source": [
    "x = ['to', 'be', 'or', 'not', 'to', 'be']\n",
    "# 删除第一次找到的元素,无返回值\n",
    "y = x.remove('be')\n",
    "# x.remove('are')\n",
    "print(x, y)"
   ]
  },
  {
   "cell_type": "code",
   "execution_count": 65,
   "metadata": {},
   "outputs": [
    {
     "name": "stdout",
     "output_type": "stream",
     "text": [
      "[6, 3, 1, 2]\n"
     ]
    }
   ],
   "source": [
    "x = [2, 1, 3, 6]\n",
    "x.reverse()\n",
    "print(x)"
   ]
  },
  {
   "cell_type": "code",
   "execution_count": 66,
   "metadata": {},
   "outputs": [
    {
     "name": "stdout",
     "output_type": "stream",
     "text": [
      "[6, 3, 1, 2]\n",
      "[2, 1, 3, 6]\n"
     ]
    }
   ],
   "source": [
    "x = [2, 1, 3, 6]\n",
    "x2 = list(reversed(x))\n",
    "print(x2)\n",
    "print(x)"
   ]
  },
  {
   "cell_type": "code",
   "execution_count": 67,
   "metadata": {},
   "outputs": [
    {
     "name": "stdout",
     "output_type": "stream",
     "text": [
      "[2, 1, 3, 6]\n",
      "[1, 2, 3, 6]\n"
     ]
    }
   ],
   "source": [
    "x = [2, 1, 3, 6]\n",
    "# x.sort()\n",
    "y = sorted(x)\n",
    "print(x)\n",
    "print(y)"
   ]
  },
  {
   "cell_type": "code",
   "execution_count": 68,
   "metadata": {},
   "outputs": [
    {
     "name": "stdout",
     "output_type": "stream",
     "text": [
      "['ss', 'kkdd', 'avjjd', 'aeejjdd', 'jsksksksfse']\n",
      "['jsksksksfse', 'aeejjdd', 'avjjd', 'kkdd', 'ss']\n"
     ]
    }
   ],
   "source": [
    "x = ['aeejjdd', 'avjjd', 'kkdd', 'ss', 'jsksksksfse']\n",
    "x.sort(key=len);\n",
    "print(x)\n",
    "x.sort(key=len, reverse=True)\n",
    "print(x)\n"
   ]
  },
  {
   "cell_type": "code",
   "execution_count": 27,
   "metadata": {},
   "outputs": [
    {
     "name": "stdout",
     "output_type": "stream",
     "text": [
      "5\n",
      "233\n",
      "89\n",
      "99\n",
      "1\n"
     ]
    }
   ],
   "source": [
    "numbers = [100, 123, 99, 89, 233]\n",
    "print(len(numbers))\n",
    "print(max(numbers))\n",
    "print(min(numbers))\n",
    "\n",
    "print(max(23, 1, 9, 99))\n",
    "print(min(23, 2, 900, 6, 1, 334))"
   ]
  },
  {
   "cell_type": "code",
   "execution_count": 22,
   "metadata": {},
   "outputs": [
    {
     "name": "stdout",
     "output_type": "stream",
     "text": [
      "Domain: sbcode\n"
     ]
    }
   ],
   "source": [
    "url = input(\"Please intput a url:\")\n",
    "first = url.find('//') + 2\n",
    "last = url.find('.')\n",
    "domain = url[first:last]\n",
    "print(\"Domain:\", domain)"
   ]
  },
  {
   "cell_type": "code",
   "execution_count": 24,
   "metadata": {},
   "outputs": [
    {
     "name": "stdout",
     "output_type": "stream",
     "text": [
      "Access grandted!\n"
     ]
    }
   ],
   "source": [
    "database = [\n",
    "  ['albert', '1234'],\n",
    "  ['dilbert', '4242'],\n",
    "  ['smith', '7524'],\n",
    "  ['jones', '9832']\n",
    "]\n",
    "\n",
    "username = input('User Name:')\n",
    "pin = input('PIN:')\n",
    "\n",
    "if [username, pin] in database:\n",
    "  print('Access grandted!')"
   ]
  },
  {
   "cell_type": "code",
   "execution_count": 21,
   "metadata": {},
   "outputs": [
    {
     "name": "stdout",
     "output_type": "stream",
     "text": [
      "August 11th, 2024\n"
     ]
    }
   ],
   "source": [
    "mouths = [\n",
    "  \"January\",\n",
    "  \"February\",\n",
    "  \"March\",\n",
    "  \"April\",\n",
    "  \"May\",\n",
    "  \"June\",\n",
    "  \"July\",\n",
    "  \"August\",\n",
    "  \"September\",\n",
    "  \"October\",\n",
    "  \"November\",\n",
    "  \"December\"\n",
    "]\n",
    "\n",
    "endings = ['st', 'nd', 'rd'] + 17*['th'] \\\n",
    "  + ['st', 'nd', 'rd'] + ['th']*7 \\\n",
    "  + ['st']\n",
    "\n",
    "# print(endings)\n",
    "\n",
    "year = input(\"Year: \")\n",
    "mouth = input(\"Mouth (1-12): \")\n",
    "day = input(\"Day(1-31): \" )\n",
    "\n",
    "mouth_number = int(mouth)\n",
    "day_number = int(day)\n",
    "\n",
    "mouth_name = mouths[mouth_number - 1]\n",
    "day_name = day + endings[day_number - 1]\n",
    "\n",
    "print(mouth_name, day_name + ',', year)"
   ]
  },
  {
   "cell_type": "code",
   "execution_count": 23,
   "metadata": {},
   "outputs": [
    {
     "name": "stdout",
     "output_type": "stream",
     "text": [
      "\n",
      "+----------------------------+\n",
      "|               |\n",
      "|  hello king   |\n",
      "|               |\n",
      "+----------------------------+\n"
     ]
    }
   ],
   "source": [
    "sentence = input(\"Sentence:\")\n",
    "sentence_width = len(sentence)\n",
    "screen_with = sentence_width + 20\n",
    "box_width = sentence_width + 20\n",
    "left_margin = (screen_with - box_width) // 2\n",
    "\n",
    "print();\n",
    "print(' '* left_margin + '+' + '-'*(box_width - 2) + '+')\n",
    "print(' '*left_margin + '|  ' + ' '*sentence_width + '   |')\n",
    "print(' '*left_margin + '|  ' + sentence + '   |')\n",
    "print(' '*left_margin + '|  ' + ' '*sentence_width + '   |')\n",
    "print(' '* left_margin + '+' + '-'*(box_width - 2) + '+')\n"
   ]
  },
  {
   "cell_type": "markdown",
   "metadata": {},
   "source": [
    "## 元组 \n",
    "元组 () 不用也可以  \n",
    "不可变 元素不可变，长度也不可变  \n",
    "空元组和单个元素的元组需要用(),并且元素后面要加`,`"
   ]
  },
  {
   "cell_type": "code",
   "execution_count": 3,
   "metadata": {},
   "outputs": [
    {
     "name": "stdout",
     "output_type": "stream",
     "text": [
      "(1, 2, 3, 2) <class 'tuple'>\n",
      "4\n",
      "(1, 2, 3, 2)\n",
      "2\n",
      "<class 'tuple'>\n"
     ]
    }
   ],
   "source": [
    "t1 = (1, 2, 3, 2)\n",
    "print(t1, type(t1))\n",
    "print(len(t1))\n",
    "# t1[2] = 1\n",
    "print(t1)\n",
    "print(t1.count(2))\n",
    "# 一元组后必须有`,`\n",
    "t2 = 2,\n",
    "print(type(t2))"
   ]
  },
  {
   "cell_type": "code",
   "execution_count": 10,
   "metadata": {},
   "outputs": [
    {
     "name": "stdout",
     "output_type": "stream",
     "text": [
      "()\n",
      "(34,)\n",
      "7\n",
      "(7,)\n"
     ]
    }
   ],
   "source": [
    "nt = ()\n",
    "print(nt)\n",
    "st = 34,\n",
    "print(st)\n",
    "v = (3 + 4)\n",
    "print(v)\n",
    "st2 = (3 + 4,)\n",
    "print(st2)"
   ]
  },
  {
   "cell_type": "code",
   "execution_count": 11,
   "metadata": {},
   "outputs": [
    {
     "name": "stdout",
     "output_type": "stream",
     "text": [
      "(1, 2, 3)\n",
      "(2, 3)\n",
      "(1, 2, 3)\n"
     ]
    }
   ],
   "source": [
    "t = 1,2,3\n",
    "print(t)\n",
    "# 元组的切片依然是元组\n",
    "print(t[1:])\n",
    "t1 = t\n",
    "print(t1)"
   ]
  },
  {
   "cell_type": "code",
   "execution_count": 13,
   "metadata": {},
   "outputs": [
    {
     "name": "stdout",
     "output_type": "stream",
     "text": [
      "(1, 2, 3)\n"
     ]
    }
   ],
   "source": [
    "# 不支持索引赋值\n",
    "t = (1, 2, 3)\n",
    "# t[0] = 6\n",
    "print(t)"
   ]
  },
  {
   "cell_type": "code",
   "execution_count": 16,
   "metadata": {},
   "outputs": [
    {
     "name": "stdout",
     "output_type": "stream",
     "text": [
      "(2, 1, 2, 1, 2, 1)\n",
      "6\n"
     ]
    }
   ],
   "source": [
    "\n",
    "t = (2,1)\n",
    "t1 = t*3\n",
    "print(t1)\n",
    "\n",
    "t2 = (2)\n",
    "print(3*t2)"
   ]
  },
  {
   "cell_type": "code",
   "execution_count": 19,
   "metadata": {},
   "outputs": [
    {
     "name": "stdout",
     "output_type": "stream",
     "text": [
      "(2, 3, 6)\n",
      "(2, 3, 6)\n",
      "True\n"
     ]
    }
   ],
   "source": [
    "t = tuple([2,3,6])\n",
    "print(t)\n",
    "\n",
    "t1 = tuple(t)\n",
    "print(t1)\n",
    "\n",
    "print(t1 == t)"
   ]
  },
  {
   "cell_type": "markdown",
   "metadata": {},
   "source": [
    "交换值"
   ]
  },
  {
   "cell_type": "code",
   "execution_count": 1,
   "metadata": {},
   "outputs": [
    {
     "name": "stdout",
     "output_type": "stream",
     "text": [
      "25 54\n",
      "54 25\n",
      "Dreamer China Python\n"
     ]
    }
   ],
   "source": [
    "a, b = 25, 54\n",
    "print(a, b)\n",
    "a, b = b, a\n",
    "print(a, b)\n",
    "data = (\"Dreamer\", \"China\", \"Python\")\n",
    "name, country, language = data\n",
    "print(name, country, language)"
   ]
  },
  {
   "cell_type": "markdown",
   "metadata": {},
   "source": [
    "## 映射 \n",
    "值不按顺序排列，存储在指定键下。键必须是不可变类型，必须唯一，可以是字符串、数值或元组。\n",
    "对字典执行字符串格式化设置必须使用format_map,不能使用format和命名参数"
   ]
  },
  {
   "cell_type": "code",
   "execution_count": 14,
   "metadata": {},
   "outputs": [
    {
     "name": "stdout",
     "output_type": "stream",
     "text": [
      "{'Alice': '2341', 'Beth': '9102', 'Ceil': '3528'}\n",
      "{'name': 'Gumy', 'age': 23} Gumy\n",
      "26 2 26\n",
      "{'name': 'king', 'age': 20}\n",
      "True\n",
      "{'age': 20}\n",
      "False\n"
     ]
    }
   ],
   "source": [
    "# 创建字典\n",
    "phone_book = {\n",
    "  'Alice': '2341',\n",
    "  'Beth': '9102',\n",
    "  'Ceil': '3528'\n",
    "}\n",
    "print(phone_book)\n",
    "\n",
    "items = [('name', 'Gumy'),('age', 23)]\n",
    "# 键值对\n",
    "d = dict(items)\n",
    "print(d, d['name'])\n",
    "# 关键字参数\n",
    "d = dict(name='king', age=26)\n",
    "print(d)\n",
    "\n",
    "# 字典基本操作\n",
    "print(d['age'], len(d))\n",
    "\n",
    "d['age'] = 20\n",
    "print(d)\n",
    "\n",
    "print('name' in d)\n",
    "del d['name']\n",
    "print(d)\n",
    "print('name' in d)\n",
    "\n",
    "\n"
   ]
  },
  {
   "cell_type": "markdown",
   "metadata": {},
   "source": [
    "列表与字典的区别:\n",
    "- 键的类型必须是不可变类型;\n",
    "- 自动添加 列表需要调用方法添加，不能给不存在的索引赋值;\n",
    "- 成员资格 表达式k in d 在字典上查的是键而不是值，而在列表上查的是值而不是索引。"
   ]
  },
  {
   "cell_type": "code",
   "execution_count": 20,
   "metadata": {},
   "outputs": [
    {
     "name": "stdout",
     "output_type": "stream",
     "text": [
      "[2]\n",
      "{1: 'king'}\n"
     ]
    }
   ],
   "source": [
    "x = []\n",
    "# x[2] = 'king'\n",
    "x.append(2)\n",
    "print(x)\n",
    "\n",
    "y = {}\n",
    "\n",
    "y[1] = 'king'\n",
    "# y[x] = 'test'\n",
    "print(y)"
   ]
  },
  {
   "cell_type": "code",
   "execution_count": 22,
   "metadata": {},
   "outputs": [
    {
     "name": "stdout",
     "output_type": "stream",
     "text": [
      "Cecil's phone number is 3158\n"
     ]
    }
   ],
   "source": [
    "people = {\n",
    "  'Alice': {\n",
    "    'phone': '2341',\n",
    "    'addr': 'Foo drive 23'\n",
    "  },\n",
    "  'Beth': {\n",
    "    'phone': '9102',\n",
    "    'addr': 'Bar street 42'\n",
    "  },\n",
    "  'Cecil': {\n",
    "    'phone': '3158',\n",
    "    'addr': 'Baz avenue 90'\n",
    "  }\n",
    "}\n",
    "\n",
    "labels = {\n",
    "  'phone': 'phone number',\n",
    "  'addr': 'address'\n",
    "}\n",
    "\n",
    "name = input(\"Namme: \")\n",
    "request = input('Phone number (p) or address (a)? ')\n",
    "if request == 'p':\n",
    "  key = 'phone'\n",
    "\n",
    "if request == 'a':\n",
    "  key = 'addr'\n",
    "\n",
    "if name in people :\n",
    "  print(f'{name}\\'s {labels[key]} is {people[name][key]}')"
   ]
  },
  {
   "cell_type": "code",
   "execution_count": 26,
   "metadata": {},
   "outputs": [
    {
     "name": "stdout",
     "output_type": "stream",
     "text": [
      "Alice's phone numberis 2341.\n",
      "\n",
      "<!DOCTYPE html>\n",
      "<html lang=\"en\">\n",
      "<head>\n",
      "  <meta charset=\"UTF-8\">\n",
      "  <meta name=\"viewport\" content=\"width=device-width, initial-scale=1.0\">\n",
      "  <title>Rreact App</title>\n",
      "</head>\n",
      "<body>\n",
      "  <h1>Rreact App</h1>\n",
      "  <p>This is a demo</p>\n",
      "</body>\n",
      "</html>\n",
      "\n"
     ]
    }
   ],
   "source": [
    "phone_book = {\n",
    "  'Alice': '2341',\n",
    "  'Beth': '9102',\n",
    "  'Ceil': '3528'\n",
    "}\n",
    "print('Alice\\'s phone numberis {Alice}.'.format_map(phone_book))\n",
    "\n",
    "template = '''\n",
    "<!DOCTYPE html>\n",
    "<html lang=\"en\">\n",
    "<head>\n",
    "  <meta charset=\"UTF-8\">\n",
    "  <meta name=\"viewport\" content=\"width=device-width, initial-scale=1.0\">\n",
    "  <title>{title}</title>\n",
    "</head>\n",
    "<body>\n",
    "  <h1>{title}</h1>\n",
    "  <p>{text}</p>\n",
    "</body>\n",
    "</html>\n",
    "'''\n",
    "data = {'title': \"Rreact App\", 'text': 'This is a demo'}\n",
    "\n",
    "print(template.format_map(data))"
   ]
  },
  {
   "cell_type": "markdown",
   "metadata": {},
   "source": [
    "字典方法\n",
    "- clear() 清空字典\n",
    "- copy() 浅复制字典\n",
    "- fromkeys() 创建具有指定key的字典\n",
    "- get() 获取某个字典项的值\n",
    "- setdefault() 设置某个字典项，项存在时忽略这个操作\n",
    "- items() 返回字典项的列表\n",
    "- keys() 字典键组成的列表\n",
    "- values() 字典值组成的列表视图\n",
    "- pop() 删除字典中指定的项\n",
    "- popitem() 删除字典中的任意一项\n",
    "- update() 用另外的字典更新当前字典, 可以提供一个字典、一个键值对组成的序列或者关键字参数"
   ]
  },
  {
   "cell_type": "code",
   "execution_count": 43,
   "metadata": {},
   "outputs": [
    {
     "name": "stdout",
     "output_type": "stream",
     "text": [
      "{'name': 'king', 'age': 23}\n",
      "None\n",
      "{'test': 'haha'}\n",
      "{}\n",
      "{'name': 'admin', 'machines': ['bar', 'baz']}\n",
      "{'name': 'mly', 'machines': ['bar', 'baz']}\n",
      "{'names': ['Alfred', 'Bertand', 'Clive']}\n",
      "{'names': ['Alfred', 'Bertand']}\n",
      "{'name': None, 'age': None}\n",
      "{'name': 'King'}\n",
      "None\n",
      "king\n",
      "Alice\n"
     ]
    }
   ],
   "source": [
    "d = {}\n",
    "d['name'] = 'king'\n",
    "d['age'] = 23\n",
    "print(d)\n",
    "result = d.clear()\n",
    "print(result)\n",
    "\n",
    "x = {}\n",
    "y = x\n",
    "x['test'] = 'haha'\n",
    "print(y)\n",
    "# x = {}\n",
    "# 直接删除原来字典的所有元素\n",
    "x.clear()\n",
    "print(y)\n",
    "\n",
    "x = {'name': 'admin', 'machines': ['foo', 'bar', 'baz']}\n",
    "# 浅复制\n",
    "y = x.copy()\n",
    "y['name'] = 'mly'\n",
    "y['machines'].remove('foo')\n",
    "print(x)\n",
    "print(y)\n",
    "\n",
    "from copy import deepcopy\n",
    "\n",
    "d = {}\n",
    "d['names'] = ['Alfred', 'Bertand']\n",
    "c = d.copy()\n",
    "dc = deepcopy(d)\n",
    "d['names'].append('Clive')\n",
    "print(c)\n",
    "print(dc)\n",
    "\n",
    "d = {}.fromkeys(['name', 'age'])\n",
    "print(d)\n",
    "\n",
    "d1 = {}.fromkeys(['name'], 'King')\n",
    "print(d1)\n",
    "\n",
    "d = {}\n",
    "# 访问不存在的键会报错\n",
    "# print(d['name'])\n",
    "print(d.get('name'))\n",
    "print(d.get('name', 'king'))\n",
    "d['name'] = 'Alice'\n",
    "print(d.get('name'))\n"
   ]
  },
  {
   "cell_type": "code",
   "execution_count": 44,
   "metadata": {},
   "outputs": [
    {
     "name": "stdout",
     "output_type": "stream",
     "text": [
      "king's phone number is not available\n"
     ]
    }
   ],
   "source": [
    "labels = {\n",
    "  'phone': 'phone number',\n",
    "  'addr': 'address'\n",
    "}\n",
    "\n",
    "name = input('Name: ')\n",
    "request = input(\"Phone number (p) or address (a)?\")\n",
    "if request == 'p': key = 'phone'\n",
    "if request == 'a': key = 'addr'\n",
    "person = people.get(name, {})\n",
    "label = labels.get(key, key)\n",
    "result = person.get(key, 'not available')\n",
    "print(f\"{name}'s {label} is {result}\")"
   ]
  },
  {
   "cell_type": "code",
   "execution_count": 60,
   "metadata": {},
   "outputs": [
    {
     "name": "stdout",
     "output_type": "stream",
     "text": [
      "dict_items([('title', 'Python Site'), ('url', 'http://python.org'), ('spam', 0)])\n",
      "3\n",
      "True\n",
      "False\n",
      "True\n",
      "[('title', 'Python Site'), ('url', 'http://python.org'), ('spam', 0)]\n",
      "dict_keys(['title', 'url', 'spam'])\n",
      "dict_values(['Python Site', 'http://python.org', 0])\n",
      "{'title': 'Python Site', 'url': 'http://python.org'}\n",
      "{'title': 'Python Site'}\n",
      "{'title': 'Python Site', 'name': 'python'}\n",
      "{'title': 'Python Web', 'name': 'python', 'url': 'http://python.org'}\n"
     ]
    }
   ],
   "source": [
    "d = {'title': 'Python Site', 'url': 'http://python.org', 'spam': 0 }\n",
    "print(d.items())\n",
    "it = d.items()\n",
    "print(len(it))\n",
    "print(('spam', 0) in it)\n",
    "d['spam'] = 1\n",
    "print(('spam', 0) in it)\n",
    "d['spam'] = 0\n",
    "print(('spam', 0) in it)\n",
    "print(list(it))\n",
    "print(d.keys())\n",
    "print(d.values())\n",
    "d.pop('spam')\n",
    "print(d)\n",
    "# 字典项的顺序是不确定的\n",
    "d.popitem()\n",
    "print(d)\n",
    "d.setdefault('name', 'python')\n",
    "d.setdefault('title', 'Python Web')\n",
    "print(d)\n",
    "d.update({'title':'Python Web'})\n",
    "d.update(url='http://python.org')\n",
    "print(d)\n"
   ]
  },
  {
   "cell_type": "markdown",
   "metadata": {},
   "source": [
    "## 函数  \n",
    "函数体注意缩进\n",
    "不能与其他变量或函数同名  \n",
    "调用函数时如果提供参数，则提供参数的顺序不重要。\n",
    "函数可以作为值进行传递。\n",
    "\n",
    "global 声明函数内部使用全局变量"
   ]
  },
  {
   "cell_type": "code",
   "execution_count": 18,
   "metadata": {},
   "outputs": [
    {
     "name": "stdout",
     "output_type": "stream",
     "text": [
      "<class 'builtin_function_or_method'>\n",
      "Help on function hello in module __main__:\n",
      "\n",
      "hello()\n",
      "    print hello py!\n",
      "\n",
      "hello py!\n",
      "hi\n"
     ]
    }
   ],
   "source": [
    "print(type(len))\n",
    "import numpy as np\n",
    "type(np.linspace)\n",
    "# np.array?\n",
    "# len?\n",
    "\n",
    "def hello():\n",
    "  \"\"\" print hello py! \"\"\"\n",
    "  print('hello py!')\n",
    "  return 'hi'\n",
    "\n",
    "# hello?\n",
    "help(hello)\n",
    "\n",
    "hello = hello()\n",
    "print(hello)\n",
    "# hello?"
   ]
  },
  {
   "cell_type": "code",
   "execution_count": 21,
   "metadata": {},
   "outputs": [
    {
     "name": "stdout",
     "output_type": "stream",
     "text": [
      "6\n",
      "-1.0\n"
     ]
    }
   ],
   "source": [
    "def add(a, b, c):\n",
    "  \"sum of a, b, c\"\n",
    "  return a + b + c\n",
    "\n",
    "d = add(1,2,3)\n",
    "print(d)\n",
    "# d = add('l', 2, 3)\n",
    "d = add(np.sin(np.pi), np.cos(np.pi), np.tan(np.pi))\n",
    "print(d)"
   ]
  },
  {
   "cell_type": "code",
   "execution_count": 36,
   "metadata": {},
   "outputs": [
    {
     "name": "stdout",
     "output_type": "stream",
     "text": [
      "e: 6\n",
      "5 6 6\n",
      "e: 6\n",
      "6 9 6\n"
     ]
    }
   ],
   "source": [
    "# e = 2\n",
    "def add_multiply(a,b = 3):\n",
    "  global e\n",
    "  print('e:', e)\n",
    "  e = 6\n",
    "  return a + b, a * b, e\n",
    "\n",
    "a, b, d = add_multiply(2, 3)\n",
    "print(a, b, d)\n",
    "\n",
    "a, b, d = add_multiply(a = 3)\n",
    "print(a, b, d)\n"
   ]
  },
  {
   "cell_type": "markdown",
   "metadata": {},
   "source": [
    "嵌套函数  \n",
    "只有父函数可以调用内嵌函数。内嵌函数保留独立于父函数的内存区块。"
   ]
  },
  {
   "cell_type": "code",
   "execution_count": 40,
   "metadata": {},
   "outputs": [
    {
     "name": "stdout",
     "output_type": "stream",
     "text": [
      "[1.0, 1.4142135623730951, 1.0]\n"
     ]
    }
   ],
   "source": [
    "def my_dist_xyz(x, y, z):\n",
    "\n",
    "  def my_dist(x, y):\n",
    "    out = np.sqrt((x[0] - y[0]) ** 2 + (x[1] - y[1]) ** 2)\n",
    "    return out\n",
    "\n",
    "  d0 = my_dist(x, y)\n",
    "  d1 = my_dist(x, z)\n",
    "  d2 = my_dist(y, z)\n",
    "\n",
    "  return [d0, d1, d2]\n",
    "\n",
    "d = my_dist_xyz([0, 0], [0, 1], [1, 1])\n",
    "print(d)"
   ]
  },
  {
   "cell_type": "markdown",
   "metadata": {},
   "source": [
    "lamda函数\n",
    "匿名函数 只能有一个表达式"
   ]
  },
  {
   "cell_type": "code",
   "execution_count": 47,
   "metadata": {},
   "outputs": [
    {
     "name": "stdout",
     "output_type": "stream",
     "text": [
      "25\n",
      "8\n",
      "[(2, 0), (4, 1), (1, 2)]\n",
      "<class 'builtin_function_or_method'>\n",
      "5\n",
      "2.0\n",
      "28\n"
     ]
    }
   ],
   "source": [
    "square = lambda x: x ** 2\n",
    "\n",
    "print(square(5))\n",
    "\n",
    "add = lambda x, y: x + y\n",
    "print(add(2, 6))\n",
    "\n",
    "s = sorted([(1, 2), (2, 0),(4, 1)], key = lambda x: x[1])\n",
    "print(s)\n",
    "\n",
    "f = max\n",
    "print(type(f))\n",
    "print(f(5, 2, 3))\n",
    "\n",
    "def fun_plus(f, x):\n",
    "  return f(x) + 1\n",
    "\n",
    "print(fun_plus(np.sin, np.pi / 2))\n",
    "print(fun_plus(lambda x: x**x, 3))\n"
   ]
  },
  {
   "cell_type": "markdown",
   "metadata": {},
   "source": [
    "在Python 3中无需显式继承object或将__metaclass__设置为type。所有类都将隐式地继承object。\n",
    "\n",
    "构造函数 `__init__` 创建对象时自动调用\n",
    "析构函数 `__del__` 对象被销毁(作为垃圾被收集)前被调用"
   ]
  },
  {
   "cell_type": "code",
   "execution_count": 5,
   "metadata": {},
   "outputs": [
    {
     "name": "stdout",
     "output_type": "stream",
     "text": [
      "init ...\n",
      "32\n",
      "delete ... <__main__.FooBar object at 0x1063b1490>\n"
     ]
    }
   ],
   "source": [
    "class FooBar:\n",
    "  def __init__(self, value = 23):\n",
    "    print(\"init ...\")\n",
    "    self.x = value\n",
    "\n",
    "  def __del__(self):\n",
    "    print(\"delete ...\", self)\n",
    "\n",
    "foo = FooBar(32)\n",
    "print(foo.x)\n",
    "foo = None"
   ]
  },
  {
   "cell_type": "markdown",
   "metadata": {},
   "source": [
    "重写构造函数时，必须先调用父类的构造函数，否则可能无法正确初始化对象。\n",
    "super()返回一个super对象，负责执行方法解析。"
   ]
  },
  {
   "cell_type": "code",
   "execution_count": 7,
   "metadata": {},
   "outputs": [
    {
     "name": "stdout",
     "output_type": "stream",
     "text": [
      "hello B\n"
     ]
    }
   ],
   "source": [
    "class A:\n",
    "  def hello(self):\n",
    "    print(\"hello A\")\n",
    "\n",
    "class B(A):\n",
    "  def hello(self):\n",
    "    print(\"hello B\")\n",
    "\n",
    "b = B()\n",
    "b.hello()"
   ]
  },
  {
   "cell_type": "code",
   "execution_count": 10,
   "metadata": {},
   "outputs": [
    {
     "name": "stdout",
     "output_type": "stream",
     "text": [
      "Aaaa....\n",
      "No, thanks.\n",
      "Squawk\n"
     ]
    },
    {
     "ename": "AttributeError",
     "evalue": "'SongBird' object has no attribute 'hungry'",
     "output_type": "error",
     "traceback": [
      "\u001b[0;31m---------------------------------------------------------------------------\u001b[0m",
      "\u001b[0;31mAttributeError\u001b[0m                            Traceback (most recent call last)",
      "Cell \u001b[0;32mIn[10], line 24\u001b[0m\n\u001b[1;32m     22\u001b[0m s \u001b[38;5;241m=\u001b[39m SongBird()\n\u001b[1;32m     23\u001b[0m s\u001b[38;5;241m.\u001b[39msing()\n\u001b[0;32m---> 24\u001b[0m \u001b[43ms\u001b[49m\u001b[38;5;241;43m.\u001b[39;49m\u001b[43meat\u001b[49m\u001b[43m(\u001b[49m\u001b[43m)\u001b[49m\n",
      "Cell \u001b[0;32mIn[10], line 6\u001b[0m, in \u001b[0;36mBird.eat\u001b[0;34m(self)\u001b[0m\n\u001b[1;32m      5\u001b[0m \u001b[38;5;28;01mdef\u001b[39;00m \u001b[38;5;21meat\u001b[39m(\u001b[38;5;28mself\u001b[39m):\n\u001b[0;32m----> 6\u001b[0m   \u001b[38;5;28;01mif\u001b[39;00m \u001b[38;5;28;43mself\u001b[39;49m\u001b[38;5;241;43m.\u001b[39;49m\u001b[43mhungry\u001b[49m:\n\u001b[1;32m      7\u001b[0m     \u001b[38;5;28mprint\u001b[39m(\u001b[38;5;124m\"\u001b[39m\u001b[38;5;124mAaaa....\u001b[39m\u001b[38;5;124m\"\u001b[39m)\n\u001b[1;32m      8\u001b[0m     \u001b[38;5;28mself\u001b[39m\u001b[38;5;241m.\u001b[39mhungry \u001b[38;5;241m=\u001b[39m \u001b[38;5;28;01mFalse\u001b[39;00m\n",
      "\u001b[0;31mAttributeError\u001b[0m: 'SongBird' object has no attribute 'hungry'"
     ]
    }
   ],
   "source": [
    "class Bird:\n",
    "  def __init__(self):\n",
    "    self.hungry = True\n",
    "\n",
    "  def eat(self):\n",
    "    if self.hungry:\n",
    "      print(\"Aaaa....\")\n",
    "      self.hungry = False\n",
    "    else:\n",
    "      print(\"No, thanks.\")\n",
    "\n",
    "class SongBird(Bird):\n",
    "  def __init__(self):\n",
    "    self.sound = \"Squawk\"\n",
    "  def sing(self):\n",
    "    print(self.sound)\n",
    "\n",
    "b = Bird()\n",
    "b.eat()\n",
    "b.eat()\n",
    "\n",
    "s = SongBird()\n",
    "s.sing()\n",
    "s.eat()\n"
   ]
  },
  {
   "cell_type": "code",
   "execution_count": 15,
   "metadata": {},
   "outputs": [
    {
     "name": "stdout",
     "output_type": "stream",
     "text": [
      "Aaaa....\n",
      "No, thanks.\n",
      "Squawk\n",
      "Aaaa....\n",
      "No, thanks.\n"
     ]
    }
   ],
   "source": [
    "class Bird:\n",
    "  def __init__(self):\n",
    "    self.hungry = True\n",
    "\n",
    "  def eat(self):\n",
    "    if self.hungry:\n",
    "      print(\"Aaaa....\")\n",
    "      self.hungry = False\n",
    "    else:\n",
    "      print(\"No, thanks.\")\n",
    "\n",
    "class SongBird(Bird):\n",
    "  def __init__(self):\n",
    "    # 即便有多个超类也只需调用super一次\n",
    "    super().__init__()\n",
    "    # Bird.__init__(self)\n",
    "    self.sound = \"Squawk\"\n",
    "  def sing(self):\n",
    "    print(self.sound)\n",
    "\n",
    "b = Bird()\n",
    "b.eat()\n",
    "b.eat()\n",
    "\n",
    "s = SongBird()\n",
    "s.sing()\n",
    "s.eat()\n",
    "s.eat()\n",
    "\n"
   ]
  },
  {
   "cell_type": "markdown",
   "metadata": {},
   "source": [
    "协议指定对象应实现哪些方法以及这些方法应该做什么。在Python中，多态仅仅基于对象的行为。\n",
    "\n",
    "基本的序列和映射协议\n",
    "序列和映射基本上时元素的集合。可变对象要实现2个方法，不可变对象要实现4个。\n",
    "- `__len__(self)` 返回集合的项数或元素个数\n",
    "- `__getitem__(self, key)`\n",
    "- `__setitem__(self, key, value)`\n",
    "- `__delitem__(self, key)`  \n",
    "\n",
    "额外要求：\n",
    "- 对于序列需要支持负索引\n",
    "- 如果键的类型不合适,可能引发TypeError异常\n",
    "- 对于序列如果索引不在范围内，应引发IndexError异常"
   ]
  },
  {
   "cell_type": "code",
   "execution_count": 21,
   "metadata": {},
   "outputs": [
    {
     "name": "stdout",
     "output_type": "stream",
     "text": [
      "11\n",
      "8\n"
     ]
    },
    {
     "ename": "IndexError",
     "evalue": "",
     "output_type": "error",
     "traceback": [
      "\u001b[0;31m---------------------------------------------------------------------------\u001b[0m",
      "\u001b[0;31mIndexError\u001b[0m                                Traceback (most recent call last)",
      "Cell \u001b[0;32mIn[21], line 25\u001b[0m\n\u001b[1;32m     23\u001b[0m a[\u001b[38;5;241m4\u001b[39m] \u001b[38;5;241m=\u001b[39m \u001b[38;5;241m8\u001b[39m\n\u001b[1;32m     24\u001b[0m \u001b[38;5;28mprint\u001b[39m(a[\u001b[38;5;241m4\u001b[39m])\n\u001b[0;32m---> 25\u001b[0m \u001b[43ma\u001b[49m\u001b[43m[\u001b[49m\u001b[38;5;241;43m-\u001b[39;49m\u001b[38;5;241;43m1\u001b[39;49m\u001b[43m]\u001b[49m\n\u001b[1;32m     26\u001b[0m a[\u001b[38;5;124m'\u001b[39m\u001b[38;5;124mhello\u001b[39m\u001b[38;5;124m'\u001b[39m] \u001b[38;5;241m=\u001b[39m \u001b[38;5;241m21\u001b[39m\n\u001b[1;32m     27\u001b[0m \u001b[38;5;28;01mdel\u001b[39;00m a[\u001b[38;5;241m4\u001b[39m]\n",
      "Cell \u001b[0;32mIn[21], line 12\u001b[0m, in \u001b[0;36mArithmeticSequence.__getitem__\u001b[0;34m(self, key)\u001b[0m\n\u001b[1;32m     11\u001b[0m \u001b[38;5;28;01mdef\u001b[39;00m \u001b[38;5;21m__getitem__\u001b[39m(\u001b[38;5;28mself\u001b[39m, key):\n\u001b[0;32m---> 12\u001b[0m   \u001b[43mcheck_index\u001b[49m\u001b[43m(\u001b[49m\u001b[43mkey\u001b[49m\u001b[43m)\u001b[49m\n\u001b[1;32m     13\u001b[0m   \u001b[38;5;28;01mtry\u001b[39;00m: \u001b[38;5;28;01mreturn\u001b[39;00m \u001b[38;5;28mself\u001b[39m\u001b[38;5;241m.\u001b[39mchanged[key]\n\u001b[1;32m     14\u001b[0m   \u001b[38;5;28;01mexcept\u001b[39;00m \u001b[38;5;167;01mKeyError\u001b[39;00m:\n",
      "Cell \u001b[0;32mIn[21], line 3\u001b[0m, in \u001b[0;36mcheck_index\u001b[0;34m(key)\u001b[0m\n\u001b[1;32m      1\u001b[0m \u001b[38;5;28;01mdef\u001b[39;00m \u001b[38;5;21mcheck_index\u001b[39m(key):\n\u001b[1;32m      2\u001b[0m   \u001b[38;5;28;01mif\u001b[39;00m \u001b[38;5;129;01mnot\u001b[39;00m \u001b[38;5;28misinstance\u001b[39m(key, \u001b[38;5;28mint\u001b[39m): \u001b[38;5;28;01mraise\u001b[39;00m \u001b[38;5;167;01mTypeError\u001b[39;00m\n\u001b[0;32m----> 3\u001b[0m   \u001b[38;5;28;01mif\u001b[39;00m key \u001b[38;5;241m<\u001b[39m \u001b[38;5;241m0\u001b[39m: \u001b[38;5;28;01mraise\u001b[39;00m \u001b[38;5;167;01mIndexError\u001b[39;00m\n",
      "\u001b[0;31mIndexError\u001b[0m: "
     ]
    }
   ],
   "source": [
    "def check_index(key):\n",
    "  if not isinstance(key, int): raise TypeError\n",
    "  if key < 0: raise IndexError\n",
    "\n",
    "class ArithmeticSequence:\n",
    "  def __init__(self, start = 0, step = 1):\n",
    "    self.start = start\n",
    "    self.step = step\n",
    "    self.changed = {}\n",
    "\n",
    "  def __getitem__(self, key):\n",
    "    check_index(key)\n",
    "    try: return self.changed[key]\n",
    "    except KeyError:\n",
    "      return self.start + key * self.step\n",
    "\n",
    "  def __setitem__(self, key, value):\n",
    "    check_index(key)\n",
    "    self.changed[key] = value\n",
    "\n",
    "a = ArithmeticSequence(2, 3)\n",
    "print(a[3])\n",
    "a[4] = 8\n",
    "print(a[4])\n",
    "a[-1]\n",
    "a['hello'] = 21\n",
    "del a[4]\n",
    "print(a[4])\n"
   ]
  },
  {
   "cell_type": "markdown",
   "metadata": {},
   "source": [
    "collections模块提供了抽象和具体的类。\n",
    "可以直接继承内置类型"
   ]
  },
  {
   "cell_type": "code",
   "execution_count": 29,
   "metadata": {},
   "outputs": [
    {
     "name": "stdout",
     "output_type": "stream",
     "text": [
      "[0, 1, 2, 3, 4, 5, 6, 7, 8, 9]\n",
      "[9, 8, 7, 6, 5, 4, 3, 2, 1, 0] 0\n",
      "[9, 8, 7]\n",
      "0\n",
      "16\n",
      "2\n"
     ]
    }
   ],
   "source": [
    "class CounterList(list):\n",
    "  def __init__(self, *args):\n",
    "    super().__init__(*args)\n",
    "    self.counter = 0\n",
    "  def __getitem__(self, key):\n",
    "    self.counter += 1\n",
    "    return super(CounterList, self).__getitem__(key)\n",
    "\n",
    "c = CounterList(range(10))\n",
    "print(c)\n",
    "c.reverse()\n",
    "print(c, c.counter)\n",
    "del c[3:]\n",
    "print(c)\n",
    "print(c.counter)\n",
    "sum = c[0] + c[2]\n",
    "print(sum)\n",
    "print(c.counter)\n",
    "\n",
    "\n"
   ]
  },
  {
   "cell_type": "markdown",
   "metadata": {},
   "source": [
    "## 特性\n",
    "通过存取方法定义的属性通常称为特性\n",
    "property(fget, fset, fdel, doc)函数只能用于新式类。根据传参确定属性是否可读写、删除和是否带文档\n",
    "描述符协议 property其实不是函数，而是一个类。它的实例包含了一些魔法方法,如`__get__`、`__set__`和`__delete__`。只要对象实现了这些魔法方法中的任何一个，它就是一个描述符。描述符的独特之处在于其访问方式。如，读取属性时，如果它关联的是一个实现了__get__的对象,将不会返回这个对象，而是调用方法__get__并将其结果返回。这些都是隐藏在特性、关联的方法、静态方法和类方法以及super后面的机制。\n",
    "\n",
    "静态方法和类方法分别包装在staticmethod和classmethod类的对象中。静态方法没有参数self,可直接通过类调用。类方法包含类似self参数的cls参数，可以通过对象直接调用，但是参数cls将自动关联到类。"
   ]
  },
  {
   "cell_type": "code",
   "execution_count": 7,
   "metadata": {},
   "outputs": [
    {
     "name": "stdout",
     "output_type": "stream",
     "text": [
      "0 0\n",
      "12 23\n",
      "(12, 23)\n"
     ]
    }
   ],
   "source": [
    "class Retangle:\n",
    "  def __init__(self):\n",
    "    self.width = 0\n",
    "    self.heigh = 0\n",
    "\n",
    "  def set_size(self, size):\n",
    "    self.width, self.heigh = size\n",
    "\n",
    "  def get_size(self):\n",
    "    return self.width, self.heigh\n",
    "\n",
    "r = Retangle()\n",
    "print(r.width, r.heigh)\n",
    "r.set_size((12, 23))\n",
    "print(r.width, r.heigh)\n",
    "print(r.get_size())\n"
   ]
  },
  {
   "cell_type": "code",
   "execution_count": 12,
   "metadata": {},
   "outputs": [
    {
     "name": "stdout",
     "output_type": "stream",
     "text": [
      "(12, 23)\n",
      "120 230\n",
      "(120, 230)\n"
     ]
    }
   ],
   "source": [
    "class Retangle:\n",
    "  def __init__(self):\n",
    "    self.width = 0\n",
    "    self.heigh = 0\n",
    "\n",
    "  def set_size(self, size):\n",
    "    self.width, self.heigh = size\n",
    "\n",
    "  def get_size(self):\n",
    "    return self.width, self.heigh\n",
    "\n",
    "  size = property(get_size, set_size)\n",
    "\n",
    "r = Retangle()\n",
    "r.width = 12\n",
    "r.heigh = 23\n",
    "print(r.size)\n",
    "r.size = 120, 230\n",
    "print(r.width, r.heigh)\n",
    "print(r.size)"
   ]
  },
  {
   "cell_type": "code",
   "execution_count": 14,
   "metadata": {},
   "outputs": [
    {
     "name": "stdout",
     "output_type": "stream",
     "text": [
      "This is static method.\n",
      "This is class method of  <class '__main__.MyClass'>\n"
     ]
    }
   ],
   "source": [
    "class MyClass:\n",
    "  def smeth():\n",
    "    print(\"This is static method.\")\n",
    "  smeth = staticmethod(smeth)\n",
    "\n",
    "  def cmeth(cls):\n",
    "    print(\"This is class method of \", cls)\n",
    "  cmeth = classmethod(cmeth)\n",
    "\n",
    "MyClass.smeth()\n",
    "MyClass.cmeth()\n"
   ]
  },
  {
   "cell_type": "markdown",
   "metadata": {},
   "source": [
    "装饰器可用于包装任何可调用对象，并且可以用于方法和函数。\n",
    "装饰器也可用于特性。\n",
    "可指定多个装饰器，其应用的顺序与列出的顺序相反。"
   ]
  },
  {
   "cell_type": "code",
   "execution_count": 15,
   "metadata": {},
   "outputs": [
    {
     "name": "stdout",
     "output_type": "stream",
     "text": [
      "This is static method.\n",
      "This is class method of  <class '__main__.MyClass'>\n"
     ]
    }
   ],
   "source": [
    "class MyClass:\n",
    "  @staticmethod\n",
    "  def smeth():\n",
    "    print(\"This is static method.\")\n",
    "\n",
    "  @classmethod\n",
    "  def cmeth(cls):\n",
    "    print(\"This is class method of \", cls)\n",
    "\n",
    "MyClass.smeth()\n",
    "MyClass.cmeth()"
   ]
  },
  {
   "cell_type": "markdown",
   "metadata": {},
   "source": [
    "可以拦截对对象属性的所有访问企图,可以在旧式类中实现特性。\n",
    "`__getattribute__(self, name)` 在属性被访问时自动调用(只适用于新式类)\n",
    "`__getattr__(self, name)` 在属性被访问而`对象没有这样的属性`时自动调用\n",
    "`__setattr__(self, name, value)` 试图给属性赋值时自动调用\n",
    "`__delattr__(self, name)` 试图删除属性时自动调用\n",
    "\n",
    "魔法属性 `__dict__`包含所有实例属性的字典，避免再次调用`__setattr__`导致无限循环。\n",
    "`__getattribute__`拦截对所有属性的访问，包括对`__dict__`的访问,也要避免无限循环的陷阱。在`__getattribute__`中访问当前实例的属性时，唯一安全的方式是使用超类的方法`__getattribute__`(使用super)。"
   ]
  },
  {
   "cell_type": "code",
   "execution_count": 25,
   "metadata": {},
   "outputs": [
    {
     "name": "stdout",
     "output_type": "stream",
     "text": [
      "(23, 12)\n",
      "100\n",
      "23 12 (23, 12)\n"
     ]
    }
   ],
   "source": [
    "class Retangle:\n",
    "  def __init__(self):\n",
    "    self.width = 0\n",
    "    self.heigh = 0\n",
    "\n",
    "  def __setattr__(self, name, value):\n",
    "    if name == \"size\":\n",
    "      self.width, self.heigh = value\n",
    "    else:\n",
    "      self.__dict__[name] = value\n",
    "\n",
    "  def __getattr__(self, name):\n",
    "    if name == \"size\":\n",
    "      return self.width, self.heigh\n",
    "    else:\n",
    "      return self.__dict__[name]\n",
    "\n",
    "r = Retangle()\n",
    "r.size = 23, 12\n",
    "r.length = 100\n",
    "print(r.size)\n",
    "print(r.length)\n",
    "print(r.width, r.heigh, r.size)\n",
    "# print(r.x)"
   ]
  },
  {
   "cell_type": "markdown",
   "metadata": {},
   "source": [
    "## 迭代器\n",
    "可迭代对象 实现了`__iter__`方法的对象。\n",
    "迭代器 实现了`__next__`方法的对象。\n",
    "\n",
    "方法`__iter__`返回一个迭代器，它是一个包含`__next__`方法的对象，而调用这个方法时可不提供任何参数，应返回下一个值，如果没可供返回的值，应引发StopIterator异常。内置next(it)函数与`it.__next__()`等效。\n",
    "\n",
    "逐个获取，而不是一次性获取，占用内存小。"
   ]
  },
  {
   "cell_type": "code",
   "execution_count": 37,
   "metadata": {},
   "outputs": [
    {
     "name": "stdout",
     "output_type": "stream",
     "text": [
      "144\n",
      "233\n"
     ]
    }
   ],
   "source": [
    "class Fibs:\n",
    "  def __init__(self):\n",
    "    self.a = 0\n",
    "    self.b = 1\n",
    "  def __next__(self):\n",
    "    self.a, self.b = self.b, self.a + self.b\n",
    "    return self.a\n",
    "  def __iter__(self):\n",
    "    return self\n",
    "\n",
    "fibs = Fibs()\n",
    "for f in fibs:\n",
    "  if f > 100:\n",
    "    print(f)\n",
    "    break\n",
    "  # else:\n",
    "  #   print(f)\n",
    "x = iter(fibs)\n",
    "print(next(x))\n",
    "\n",
    "\n",
    "# l = [f for f in fibs if f < 100]\n",
    "# print(l)\n",
    "\n"
   ]
  },
  {
   "cell_type": "code",
   "execution_count": 42,
   "metadata": {},
   "outputs": [
    {
     "name": "stdout",
     "output_type": "stream",
     "text": [
      "[1, 2, 3, 4, 5, 6, 7, 8, 9, 10]\n"
     ]
    }
   ],
   "source": [
    "class TestIterator:\n",
    "  value = 0\n",
    "\n",
    "  def __next__(self):\n",
    "    self.value += 1\n",
    "    if self.value > 10: raise StopIteration\n",
    "    return self.value\n",
    "\n",
    "  def __iter__(self):\n",
    "    return self\n",
    "\n",
    "it = TestIterator()\n",
    "# l = list(it)\n",
    "l = [i for i in it]\n",
    "print(l)\n"
   ]
  },
  {
   "cell_type": "markdown",
   "metadata": {},
   "source": [
    "## 生成器\n",
    "使用普通函数语法定义的迭代器\n",
    "\n",
    "next()函数调用迭代器\n",
    "send() 方法向生成内部发送信息\n",
    "thow() 方法用于在生成器中(yield表达式处)引发异常，调用时可提供一个异常类型、一个可选值和一个traceback对象。\n",
    "close() 方法用于停止迭代器，调用时无需传参。\n",
    "close()方法也是基于异常的: 在yield处引发GeneratorExit异常。如果要在生成器中提供一些清理代码，可将yield放在一条try/finally语句中。也可捕获GeneratorExit异常，但随后必须重新引发它、引发其他异常或直接返回。对生成器调用close方法后，再试图获取值将导致RuntimeError异常。"
   ]
  },
  {
   "cell_type": "code",
   "execution_count": 6,
   "metadata": {},
   "outputs": [
    {
     "name": "stdout",
     "output_type": "stream",
     "text": [
      "1\n",
      "2\n",
      "3\n",
      "4\n",
      "5\n",
      "6\n",
      "h\n",
      "e\n",
      "l\n",
      "l\n",
      "o\n",
      "[1, 2, 3, 4, 5, 6, 'h', 'e', 'l', 'l', 'o']\n"
     ]
    }
   ],
   "source": [
    "def flaten(nested):\n",
    "  for sublist in nested:\n",
    "    for element in sublist:\n",
    "      yield element\n",
    "\n",
    "nested = [[1,2],[3, 4],[5,6], 'hello']\n",
    "for num in flaten(nested):\n",
    "  print(num)\n",
    "\n",
    "l = list(flaten(nested))\n",
    "print(l)"
   ]
  },
  {
   "cell_type": "markdown",
   "metadata": {},
   "source": [
    "## 生成器推导(生成器表达式)\n",
    "与列表推导相同，但不是创建一个列表，而是返回一个生成器，逐步计算获取。\n",
    "需要放在圆括号内。"
   ]
  },
  {
   "cell_type": "code",
   "execution_count": 11,
   "metadata": {},
   "outputs": [
    {
     "name": "stdout",
     "output_type": "stream",
     "text": [
      "14\n"
     ]
    }
   ],
   "source": [
    "g = ((i+2)**i for i in range(3, 10))\n",
    "next(g)\n",
    "\n",
    "result = sum(i**2 for i in range(4))\n",
    "print(result)"
   ]
  },
  {
   "cell_type": "code",
   "execution_count": 13,
   "metadata": {},
   "outputs": [
    {
     "name": "stdout",
     "output_type": "stream",
     "text": [
      "[1, 2, 3, 2, 4]\n"
     ]
    }
   ],
   "source": [
    "def flaten(nested):\n",
    "  try:\n",
    "    for sublist in nested:\n",
    "      for element in flaten(sublist):\n",
    "        yield element\n",
    "  except TypeError:\n",
    "    yield nested\n",
    "# 对于字符串会导致无限循环 字符串的第一个元素是长度为1的字符串，而这个字符就是其本身。\n",
    "l = list(flaten([[1, 2], 3, [2], 4]))\n",
    "print(l)"
   ]
  },
  {
   "cell_type": "code",
   "execution_count": 14,
   "metadata": {},
   "outputs": [
    {
     "name": "stdout",
     "output_type": "stream",
     "text": [
      "[2, 3, 'hello', 4, 5]\n"
     ]
    }
   ],
   "source": [
    "def flaten(nested):\n",
    "  try:\n",
    "    try: nested + \"\"\n",
    "    except TypeError: pass\n",
    "    else: raise TypeError\n",
    "\n",
    "    for sublist in nested:\n",
    "      for element in flaten(sublist):\n",
    "        yield element\n",
    "  except TypeError:\n",
    "    yield nested\n",
    "\n",
    "l = list(flaten([[2,3], 'hello', 4, [5]]))\n",
    "print(l)"
   ]
  },
  {
   "cell_type": "code",
   "execution_count": 17,
   "metadata": {},
   "outputs": [
    {
     "name": "stdout",
     "output_type": "stream",
     "text": [
      "<function simple_generator at 0x10ae458a0>\n",
      "<generator object simple_generator at 0x10ae303b0>\n",
      "2\n"
     ]
    }
   ],
   "source": [
    "def simple_generator():\n",
    "  yield 2\n",
    "\n",
    "print(simple_generator)\n",
    "it = simple_generator()\n",
    "print(it)\n",
    "print(next(it))"
   ]
  },
  {
   "cell_type": "code",
   "execution_count": 19,
   "metadata": {},
   "outputs": [
    {
     "name": "stdout",
     "output_type": "stream",
     "text": [
      "2\n",
      "Hello king\n"
     ]
    }
   ],
   "source": [
    "def repeat(value):\n",
    "  while True:\n",
    "    new = (yield value)\n",
    "    if new is not None: value = new\n",
    "\n",
    "r = repeat(2)\n",
    "print(next(r))\n",
    "r.send(\"Hello king\")\n",
    "print(next(r))\n"
   ]
  },
  {
   "cell_type": "code",
   "execution_count": 20,
   "metadata": {},
   "outputs": [
    {
     "name": "stdout",
     "output_type": "stream",
     "text": [
      "[2, 3, 4, 5, 'Hello', 12]\n"
     ]
    }
   ],
   "source": [
    "def flaten(nested):\n",
    "  result = []\n",
    "  try:\n",
    "    try: nested + \"\"\n",
    "    except TypeError: pass\n",
    "    else: raise TypeError\n",
    "\n",
    "    for sublist in nested:\n",
    "      for element in flaten(sublist):\n",
    "        result.append(element)\n",
    "  except TypeError:\n",
    "    result.append(nested)\n",
    "\n",
    "  return result\n",
    "\n",
    "l = flaten([2, 3, [4, 5], \"Hello\", 12])\n",
    "print(l)"
   ]
  }
 ],
 "metadata": {
  "kernelspec": {
   "display_name": "Python 3",
   "language": "python",
   "name": "python3"
  },
  "language_info": {
   "codemirror_mode": {
    "name": "ipython",
    "version": 3
   },
   "file_extension": ".py",
   "mimetype": "text/x-python",
   "name": "python",
   "nbconvert_exporter": "python",
   "pygments_lexer": "ipython3",
   "version": "3.12.1"
  }
 },
 "nbformat": 4,
 "nbformat_minor": 2
}
