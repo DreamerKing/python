{
 "cells": [
  {
   "cell_type": "markdown",
   "metadata": {},
   "source": [
    "## 基本语法\n",
    "ShellBar\n",
    "```bash\n",
    "#!/usr/bin/env python3\n",
    "```\n",
    "\n",
    "注释\n",
    "\n",
    "单行注释 `#` \n",
    "\n",
    "多行注释 `\"\"\" mutiline comment \"\"\"`"
   ]
  },
  {
   "cell_type": "markdown",
   "metadata": {},
   "source": [
    "变量"
   ]
  },
  {
   "cell_type": "code",
   "execution_count": 44,
   "metadata": {},
   "outputs": [
    {
     "name": "stdout",
     "output_type": "stream",
     "text": [
      "4\n",
      "Variable   Type    Data/Info\n",
      "----------------------------\n",
      "age        int     20\n",
      "name       str     Dreamer\n",
      "s          str     hello py!\n",
      "y          int     2\n",
      "Nothing done.\n",
      "Variable   Type    Data/Info\n",
      "----------------------------\n",
      "age        int     20\n",
      "name       str     Dreamer\n",
      "s          str     hello py!\n",
      "y          int     2\n"
     ]
    }
   ],
   "source": [
    "x = 1\n",
    "x =  x + 1\n",
    "y = 2\n",
    "print(x + y)\n",
    "# 删除变量\n",
    "del x\n",
    "\n",
    "# 未赋值变量不能使用\n",
    "# z\n",
    "# print(z)\n",
    "# 输出当前环境中的变量\n",
    "%whos\n",
    "# 清除notebook中的所有非主动定义的变量\n",
    "%reset\n",
    "%whos"
   ]
  },
  {
   "cell_type": "markdown",
   "metadata": {},
   "source": [
    "字符串"
   ]
  },
  {
   "cell_type": "code",
   "execution_count": 46,
   "metadata": {},
   "outputs": [
    {
     "name": "stdout",
     "output_type": "stream",
     "text": [
      "<class 'str'>\n",
      "9\n",
      "HELLO PY!\n",
      "123 <class 'str'>\n",
      "name: Dreamer, age: 20\n",
      "name: Dreamer, age: 20\n",
      "21\n"
     ]
    }
   ],
   "source": [
    "s = 'hello py!'\n",
    "print(type(s))\n",
    "print(len(s))\n",
    "s[1]\n",
    "# 字符串是不可变的,不能对其索引赋值\n",
    "# s[1] = 'a'\n",
    "s\n",
    "s[-3:]\n",
    "print(s.upper())\n",
    "# seq[start:end:step] 不包含end\n",
    "x = 123\n",
    "#\n",
    "# x + ''\n",
    "# 类型转换\n",
    "x = str(x)\n",
    "print(x, type(x))\n",
    "\n",
    "name, age = 'Dreamer', 20\n",
    "# % 运算符\n",
    "print('name: %s, age: %d' % (name, age))\n",
    "# v3.6 f格式化 无需进行类型转换\n",
    "print(f'name: {name}, age: {age}')\n",
    "print(f'{age + 1}')\n"
   ]
  },
  {
   "cell_type": "markdown",
   "metadata": {},
   "source": [
    "列表\n",
    "可变 元素可不变，列表长度可变"
   ]
  },
  {
   "cell_type": "code",
   "execution_count": 72,
   "metadata": {},
   "outputs": [
    {
     "name": "stdout",
     "output_type": "stream",
     "text": [
      "<class 'list'> [1, 2, 3]\n",
      "[1, 2, 2]\n",
      "[1, 2, 2]\n",
      "[1, 2, 2] ['Hello', 'Hi', 'Goodbye']\n",
      "True\n",
      "[1, 2, 2, 'Hello', 'Hi', 'Goodbye']\n",
      "[[1, 2, 2], ['Hello', 'Hi', 'Goodbye']]\n",
      "Hi\n",
      "[2, 2]\n",
      "3\n",
      "[[1, 2, 2], ['Hello', 'Hi', 'Goodbye'], 23]\n",
      "[[1, 2, 2], ['Hello', 'Hi', 'Goodbye'], 12, 23]\n",
      "[[1, 2, 2], ['Hello', 'Hi', 'Goodbye'], 23]\n",
      "[[1, 2, 2], ['Hello', 'Hi', 'Goodbye']]\n",
      "[[1, 2, 2], ['Hello', 'Hi', 'Goodbye']]\n",
      "True\n"
     ]
    }
   ],
   "source": [
    "l1 = [1, 2, 3]\n",
    "l2 = ['Hello', 'Hi', 'Goodbye']\n",
    "print(type(l1), l1)\n",
    "l1[2] = 2\n",
    "print(l1)\n",
    "# 不可越界赋值\n",
    "# l1[3] = 6\n",
    "print(l1)\n",
    "print(l1, l2)\n",
    "\n",
    "print('Hi' in l2)\n",
    "\n",
    "# 列表拼接\n",
    "l3 = l1 + l2\n",
    "print(l3)\n",
    "l4 = [l1, l2]\n",
    "print(l4)\n",
    "print(l4[1][1])\n",
    "print(l4[0][1:])\n",
    "l4.append(23)\n",
    "print(len(l4))\n",
    "print(l4)\n",
    "# 在指定位置插入元素\n",
    "l4.insert(2, 12)\n",
    "print(l4)\n",
    "# 移除列表中的匹配的第一元素，如果不匹配则报错\n",
    "l4.remove(12)\n",
    "print(l4)\n",
    "# 删除指定索引位置的元素\n",
    "del l4[2]\n",
    "print(l4)\n",
    "l5 = list(l4)\n",
    "print(l5)\n",
    "print(l4 == l5)\n"
   ]
  },
  {
   "cell_type": "markdown",
   "metadata": {},
   "source": [
    "元组 () 不要用也可以\n",
    "不可变 元素不可变，长度也不可变"
   ]
  },
  {
   "cell_type": "code",
   "execution_count": 3,
   "metadata": {},
   "outputs": [
    {
     "name": "stdout",
     "output_type": "stream",
     "text": [
      "(1, 2, 3, 2) <class 'tuple'>\n",
      "4\n",
      "(1, 2, 3, 2)\n",
      "2\n",
      "<class 'tuple'>\n"
     ]
    }
   ],
   "source": [
    "t1 = (1, 2, 3, 2)\n",
    "print(t1, type(t1))\n",
    "print(len(t1))\n",
    "# t1[2] = 1\n",
    "print(t1)\n",
    "print(t1.count(2))\n",
    "# 一元组后必须有`,`\n",
    "t2 = 2,\n",
    "print(type(t2))"
   ]
  },
  {
   "cell_type": "markdown",
   "metadata": {},
   "source": [
    "映射 \n",
    "值不按顺序排列，存储在指定键下。键必须是不可变类型，必须唯一，可以是字符串、数值或元组。\n",
    "对字典执行字符串格式化设置必须使用format_map,不能使用format和命名参数"
   ]
  },
  {
   "cell_type": "code",
   "execution_count": 14,
   "metadata": {},
   "outputs": [
    {
     "name": "stdout",
     "output_type": "stream",
     "text": [
      "{'Alice': '2341', 'Beth': '9102', 'Ceil': '3528'}\n",
      "{'name': 'Gumy', 'age': 23} Gumy\n",
      "26 2 26\n",
      "{'name': 'king', 'age': 20}\n",
      "True\n",
      "{'age': 20}\n",
      "False\n"
     ]
    }
   ],
   "source": [
    "# 创建字典\n",
    "phone_book = {\n",
    "  'Alice': '2341',\n",
    "  'Beth': '9102',\n",
    "  'Ceil': '3528'\n",
    "}\n",
    "print(phone_book)\n",
    "\n",
    "items = [('name', 'Gumy'),('age', 23)]\n",
    "# 键值对\n",
    "d = dict(items)\n",
    "print(d, d['name'])\n",
    "# 关键字参数\n",
    "d = dict(name='king', age=26)\n",
    "print(d)\n",
    "\n",
    "# 字典基本操作\n",
    "print(d['age'], len(d))\n",
    "\n",
    "d['age'] = 20\n",
    "print(d)\n",
    "\n",
    "print('name' in d)\n",
    "del d['name']\n",
    "print(d)\n",
    "print('name' in d)\n",
    "\n",
    "\n"
   ]
  },
  {
   "cell_type": "markdown",
   "metadata": {},
   "source": [
    "列表与字典的区别:\n",
    "- 键的类型必须是不可变类型;\n",
    "- 自动添加 列表需要调用方法添加，不能给不存在的索引赋值;\n",
    "- 成员资格 表达式k in d 在字典上查的是键而不是值，而在列表上查的是值而不是索引。"
   ]
  },
  {
   "cell_type": "code",
   "execution_count": 20,
   "metadata": {},
   "outputs": [
    {
     "name": "stdout",
     "output_type": "stream",
     "text": [
      "[2]\n",
      "{1: 'king'}\n"
     ]
    }
   ],
   "source": [
    "x = []\n",
    "# x[2] = 'king'\n",
    "x.append(2)\n",
    "print(x)\n",
    "\n",
    "y = {}\n",
    "\n",
    "y[1] = 'king'\n",
    "# y[x] = 'test'\n",
    "print(y)"
   ]
  },
  {
   "cell_type": "code",
   "execution_count": 22,
   "metadata": {},
   "outputs": [
    {
     "name": "stdout",
     "output_type": "stream",
     "text": [
      "Cecil's phone number is 3158\n"
     ]
    }
   ],
   "source": [
    "people = {\n",
    "  'Alice': {\n",
    "    'phone': '2341',\n",
    "    'addr': 'Foo drive 23'\n",
    "  },\n",
    "  'Beth': {\n",
    "    'phone': '9102',\n",
    "    'addr': 'Bar street 42'\n",
    "  },\n",
    "  'Cecil': {\n",
    "    'phone': '3158',\n",
    "    'addr': 'Baz avenue 90'\n",
    "  }\n",
    "}\n",
    "\n",
    "labels = {\n",
    "  'phone': 'phone number',\n",
    "  'addr': 'address'\n",
    "}\n",
    "\n",
    "name = input(\"Namme: \")\n",
    "request = input('Phone number (p) or address (a)? ')\n",
    "if request == 'p':\n",
    "  key = 'phone'\n",
    "\n",
    "if request == 'a':\n",
    "  key = 'addr'\n",
    "\n",
    "if name in people :\n",
    "  print(f'{name}\\'s {labels[key]} is {people[name][key]}')"
   ]
  },
  {
   "cell_type": "code",
   "execution_count": 26,
   "metadata": {},
   "outputs": [
    {
     "name": "stdout",
     "output_type": "stream",
     "text": [
      "Alice's phone numberis 2341.\n",
      "\n",
      "<!DOCTYPE html>\n",
      "<html lang=\"en\">\n",
      "<head>\n",
      "  <meta charset=\"UTF-8\">\n",
      "  <meta name=\"viewport\" content=\"width=device-width, initial-scale=1.0\">\n",
      "  <title>Rreact App</title>\n",
      "</head>\n",
      "<body>\n",
      "  <h1>Rreact App</h1>\n",
      "  <p>This is a demo</p>\n",
      "</body>\n",
      "</html>\n",
      "\n"
     ]
    }
   ],
   "source": [
    "phone_book = {\n",
    "  'Alice': '2341',\n",
    "  'Beth': '9102',\n",
    "  'Ceil': '3528'\n",
    "}\n",
    "print('Alice\\'s phone numberis {Alice}.'.format_map(phone_book))\n",
    "\n",
    "template = '''\n",
    "<!DOCTYPE html>\n",
    "<html lang=\"en\">\n",
    "<head>\n",
    "  <meta charset=\"UTF-8\">\n",
    "  <meta name=\"viewport\" content=\"width=device-width, initial-scale=1.0\">\n",
    "  <title>{title}</title>\n",
    "</head>\n",
    "<body>\n",
    "  <h1>{title}</h1>\n",
    "  <p>{text}</p>\n",
    "</body>\n",
    "</html>\n",
    "'''\n",
    "data = {'title': \"Rreact App\", 'text': 'This is a demo'}\n",
    "\n",
    "print(template.format_map(data))"
   ]
  },
  {
   "cell_type": "markdown",
   "metadata": {},
   "source": [
    "字典方法\n",
    "- clear() 清空字典\n",
    "- copy() 浅复制字典\n",
    "- fromkeys() 创建具有指定key的字典\n",
    "- get() 获取某个字典项的值\n",
    "- setdefault() 设置某个字典项，项存在时忽略这个操作\n",
    "- items() 返回字典项的列表\n",
    "- keys() 字典键组成的列表\n",
    "- values() 字典值组成的列表视图\n",
    "- pop() 删除字典中指定的项\n",
    "- popitem() 删除字典中的任意一项\n",
    "- update() 用另外的字典更新当前字典, 可以提供一个字典、一个键值对组成的序列或者关键字参数"
   ]
  },
  {
   "cell_type": "code",
   "execution_count": 43,
   "metadata": {},
   "outputs": [
    {
     "name": "stdout",
     "output_type": "stream",
     "text": [
      "{'name': 'king', 'age': 23}\n",
      "None\n",
      "{'test': 'haha'}\n",
      "{}\n",
      "{'name': 'admin', 'machines': ['bar', 'baz']}\n",
      "{'name': 'mly', 'machines': ['bar', 'baz']}\n",
      "{'names': ['Alfred', 'Bertand', 'Clive']}\n",
      "{'names': ['Alfred', 'Bertand']}\n",
      "{'name': None, 'age': None}\n",
      "{'name': 'King'}\n",
      "None\n",
      "king\n",
      "Alice\n"
     ]
    }
   ],
   "source": [
    "d = {}\n",
    "d['name'] = 'king'\n",
    "d['age'] = 23\n",
    "print(d)\n",
    "result = d.clear()\n",
    "print(result)\n",
    "\n",
    "x = {}\n",
    "y = x\n",
    "x['test'] = 'haha'\n",
    "print(y)\n",
    "# x = {}\n",
    "# 直接删除原来字典的所有元素\n",
    "x.clear()\n",
    "print(y)\n",
    "\n",
    "x = {'name': 'admin', 'machines': ['foo', 'bar', 'baz']}\n",
    "# 浅复制\n",
    "y = x.copy()\n",
    "y['name'] = 'mly'\n",
    "y['machines'].remove('foo')\n",
    "print(x)\n",
    "print(y)\n",
    "\n",
    "from copy import deepcopy\n",
    "\n",
    "d = {}\n",
    "d['names'] = ['Alfred', 'Bertand']\n",
    "c = d.copy()\n",
    "dc = deepcopy(d)\n",
    "d['names'].append('Clive')\n",
    "print(c)\n",
    "print(dc)\n",
    "\n",
    "d = {}.fromkeys(['name', 'age'])\n",
    "print(d)\n",
    "\n",
    "d1 = {}.fromkeys(['name'], 'King')\n",
    "print(d1)\n",
    "\n",
    "d = {}\n",
    "# 访问不存在的键会报错\n",
    "# print(d['name'])\n",
    "print(d.get('name'))\n",
    "print(d.get('name', 'king'))\n",
    "d['name'] = 'Alice'\n",
    "print(d.get('name'))\n"
   ]
  },
  {
   "cell_type": "code",
   "execution_count": 44,
   "metadata": {},
   "outputs": [
    {
     "name": "stdout",
     "output_type": "stream",
     "text": [
      "king's phone number is not available\n"
     ]
    }
   ],
   "source": [
    "labels = {\n",
    "  'phone': 'phone number',\n",
    "  'addr': 'address'\n",
    "}\n",
    "\n",
    "name = input('Name: ')\n",
    "request = input(\"Phone number (p) or address (a)?\")\n",
    "if request == 'p': key = 'phone'\n",
    "if request == 'a': key = 'addr'\n",
    "person = people.get(name, {})\n",
    "label = labels.get(key, key)\n",
    "result = person.get(key, 'not available')\n",
    "print(f\"{name}'s {label} is {result}\")"
   ]
  },
  {
   "cell_type": "code",
   "execution_count": 60,
   "metadata": {},
   "outputs": [
    {
     "name": "stdout",
     "output_type": "stream",
     "text": [
      "dict_items([('title', 'Python Site'), ('url', 'http://python.org'), ('spam', 0)])\n",
      "3\n",
      "True\n",
      "False\n",
      "True\n",
      "[('title', 'Python Site'), ('url', 'http://python.org'), ('spam', 0)]\n",
      "dict_keys(['title', 'url', 'spam'])\n",
      "dict_values(['Python Site', 'http://python.org', 0])\n",
      "{'title': 'Python Site', 'url': 'http://python.org'}\n",
      "{'title': 'Python Site'}\n",
      "{'title': 'Python Site', 'name': 'python'}\n",
      "{'title': 'Python Web', 'name': 'python', 'url': 'http://python.org'}\n"
     ]
    }
   ],
   "source": [
    "d = {'title': 'Python Site', 'url': 'http://python.org', 'spam': 0 }\n",
    "print(d.items())\n",
    "it = d.items()\n",
    "print(len(it))\n",
    "print(('spam', 0) in it)\n",
    "d['spam'] = 1\n",
    "print(('spam', 0) in it)\n",
    "d['spam'] = 0\n",
    "print(('spam', 0) in it)\n",
    "print(list(it))\n",
    "print(d.keys())\n",
    "print(d.values())\n",
    "d.pop('spam')\n",
    "print(d)\n",
    "# 字典项的顺序是不确定的\n",
    "d.popitem()\n",
    "print(d)\n",
    "d.setdefault('name', 'python')\n",
    "d.setdefault('title', 'Python Web')\n",
    "print(d)\n",
    "d.update({'title':'Python Web'})\n",
    "d.update(url='http://python.org')\n",
    "print(d)\n"
   ]
  }
 ],
 "metadata": {
  "kernelspec": {
   "display_name": "Python 3",
   "language": "python",
   "name": "python3"
  },
  "language_info": {
   "codemirror_mode": {
    "name": "ipython",
    "version": 3
   },
   "file_extension": ".py",
   "mimetype": "text/x-python",
   "name": "python",
   "nbconvert_exporter": "python",
   "pygments_lexer": "ipython3",
   "version": "3.12.1"
  }
 },
 "nbformat": 4,
 "nbformat_minor": 2
}
