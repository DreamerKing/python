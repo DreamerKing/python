{
 "cells": [
  {
   "cell_type": "markdown",
   "metadata": {},
   "source": [
    "# 集合、堆、双端队列"
   ]
  },
  {
   "cell_type": "markdown",
   "metadata": {},
   "source": [
    "## 集合 \n",
    "使用序列或其他可迭代对象作为set参数来创建集合，也可以使用大括号显示地指定(不能指定空集,必须无参调用set创建)。\n",
    "集合中元素不能重复，顺序不确定，集合元素必须是不可变的。"
   ]
  },
  {
   "cell_type": "code",
   "execution_count": 9,
   "metadata": {},
   "outputs": [
    {
     "name": "stdout",
     "output_type": "stream",
     "text": [
      "<class 'set'>\n",
      "{1}\n",
      "{0, 1, 2, 3, 4, 5, 6, 7, 8, 9}\n",
      "set()\n",
      "{} <class 'dict'>\n"
     ]
    }
   ],
   "source": [
    "s = {\n",
    "    1,\n",
    "}\n",
    "print(type(s))\n",
    "print(s)\n",
    "s1 = set(range(0, 10))\n",
    "print(s1)\n",
    "none = set()\n",
    "print(none)\n",
    "print({}, type({}))"
   ]
  },
  {
   "cell_type": "code",
   "execution_count": 12,
   "metadata": {},
   "outputs": [
    {
     "name": "stdout",
     "output_type": "stream",
     "text": [
      "{1, 2, 3, 5, 6, 11, 'hello'}\n"
     ]
    }
   ],
   "source": [
    "s = {1, 2, 3, 11, 2, 3, 5, 6, 3, 6, \"hello\"}\n",
    "print(s)"
   ]
  },
  {
   "cell_type": "code",
   "execution_count": 38,
   "metadata": {},
   "outputs": [
    {
     "name": "stdout",
     "output_type": "stream",
     "text": [
      "{1, 2, 3, 4, 5}\n",
      "{2, 4}\n",
      "{1, 3}\n",
      "{1, 3, 5}\n",
      "True\n",
      "True\n"
     ]
    }
   ],
   "source": [
    "a = {1, 2, 3, 4}\n",
    "b = {2, 4, 5}\n",
    "c = a | b\n",
    "print(c)\n",
    "d = a & b\n",
    "print(d)\n",
    "e = a - b\n",
    "print(e)\n",
    "f = a ^ b\n",
    "print(f)\n",
    "\n",
    "print(d < a)\n",
    "print(a <= c)"
   ]
  },
  {
   "cell_type": "code",
   "execution_count": 29,
   "metadata": {},
   "outputs": [
    {
     "name": "stdout",
     "output_type": "stream",
     "text": [
      "{1, 2, 3, 4, 5}\n",
      "{2, 4}\n",
      "{1, 3}\n",
      "{1, 3, 5}\n",
      "True True\n",
      "False\n"
     ]
    }
   ],
   "source": [
    "a = {1, 2, 3, 4}\n",
    "b = {2, 4, 5}\n",
    "c = a.union(b)\n",
    "print(c)\n",
    "d = a.intersection(b)\n",
    "print(d)\n",
    "e = a.difference(b)\n",
    "print(e)\n",
    "f = a.symmetric_difference(b)\n",
    "print(f)\n",
    "print(c.issuperset(a), b.issubset(c))\n",
    "print(f.issubset(a))"
   ]
  },
  {
   "cell_type": "code",
   "execution_count": 20,
   "metadata": {},
   "outputs": [
    {
     "name": "stdout",
     "output_type": "stream",
     "text": [
      "{1, 3}\n"
     ]
    }
   ],
   "source": [
    "a = {1, 2, 3, 4}\n",
    "b = {2, 4, 5}\n",
    "a.difference_update(b)\n",
    "print(a)"
   ]
  },
  {
   "cell_type": "code",
   "execution_count": 21,
   "metadata": {},
   "outputs": [
    {
     "name": "stdout",
     "output_type": "stream",
     "text": [
      "{2, 4}\n"
     ]
    }
   ],
   "source": [
    "a = {1, 2, 3, 4}\n",
    "b = {2, 4, 5}\n",
    "a.intersection_update(b)\n",
    "print(a)"
   ]
  },
  {
   "cell_type": "code",
   "execution_count": 22,
   "metadata": {},
   "outputs": [
    {
     "name": "stdout",
     "output_type": "stream",
     "text": [
      "{1, 3, 5}\n"
     ]
    }
   ],
   "source": [
    "a = {1, 2, 3, 4}\n",
    "b = {2, 4, 5}\n",
    "a.symmetric_difference_update(b)\n",
    "print(a)"
   ]
  },
  {
   "cell_type": "code",
   "execution_count": 31,
   "metadata": {},
   "outputs": [
    {
     "name": "stdout",
     "output_type": "stream",
     "text": [
      "{1, 2, 3, 4}\n",
      "True\n",
      "False\n"
     ]
    }
   ],
   "source": [
    "a = {1, 2, 3, 4}\n",
    "b = a.copy()\n",
    "print(b)\n",
    "print(a == b)\n",
    "print(d is a)"
   ]
  },
  {
   "cell_type": "code",
   "execution_count": 36,
   "metadata": {},
   "outputs": [
    {
     "name": "stdout",
     "output_type": "stream",
     "text": [
      "{1, 2, 3}\n",
      "{1, 2, 3, 5}\n"
     ]
    }
   ],
   "source": [
    "a = {1, 2, 3, 4}\n",
    "a.remove(4)\n",
    "print(a)\n",
    "a.add(5)\n",
    "print(a)"
   ]
  },
  {
   "cell_type": "code",
   "execution_count": 45,
   "metadata": {},
   "outputs": [
    {
     "name": "stdout",
     "output_type": "stream",
     "text": [
      "{1, 2}\n",
      "{1}\n",
      "{1, frozenset({2, 3})}\n",
      "frozenset({2, 3})\n",
      "{1}\n"
     ]
    }
   ],
   "source": [
    "a = {1, 2}\n",
    "b = {2}\n",
    "l = [2, 3]\n",
    "\n",
    "# b.add(a)\n",
    "b.add(frozenset(b))\n",
    "print(a)\n",
    "a.remove(2)\n",
    "print(a)\n",
    "a.add(frozenset(l))\n",
    "print(a)\n",
    "f = frozenset(l)\n",
    "print(f)\n",
    "a.remove(f)\n",
    "print(a)"
   ]
  },
  {
   "cell_type": "markdown",
   "metadata": {},
   "source": [
    "## 堆\n",
    "一种优先队列, 可以以任意顺序添加元素，并随时返回堆中最小的元素。\n",
    "python中没有独立的堆类型，而提供了一个包含一些堆操作函数的模块heapq。必须使用列表来表示堆。\n",
    "- heappush(heap, x) 将x加入堆中\n",
    "- heappop(heap) 弹出最小元素\n",
    "- heapify(list) 使list具有堆特征\n",
    "- heapreplace(heap, x) 弹出最小元素，并x加入堆\n",
    "- nlargest(n, iter) 返回iter中n个最大的元素\n",
    "- nsmallest(n, iter) 返回iter中n个最小的元素"
   ]
  },
  {
   "cell_type": "code",
   "execution_count": 50,
   "metadata": {},
   "outputs": [
    {
     "name": "stdout",
     "output_type": "stream",
     "text": [
      "[16, 14, 9, 6, 17, 12, 7, 3, 0, 19, 4, 5, 2, 11, 1, 18, 10, 15, 8, 13]\n",
      "[0, 3, 1, 6, 4, 5, 2, 10, 8, 13, 17, 14, 7, 12, 11, 18, 16, 15, 9, 19]\n",
      "0\n",
      "[1, 3, 2, 6, 4, 5, 11, 10, 8, 13, 17, 14, 7, 12, 19, 18, 16, 15, 9]\n",
      "1\n",
      "[2, 3, 5, 6, 4, 7, 11, 10, 8, 13, 17, 14, 9, 12, 19, 18, 16, 15]\n",
      "[2, 2, 5, 3, 4, 7, 11, 10, 6, 13, 17, 14, 9, 12, 19, 18, 16, 15, 8]\n"
     ]
    }
   ],
   "source": [
    "from heapq import *\n",
    "from random import shuffle\n",
    "\n",
    "data = list(range(0, 20))\n",
    "shuffle(data)\n",
    "print(data)\n",
    "heap = []\n",
    "for h in data:\n",
    "    heappush(heap, h)\n",
    "\n",
    "print(heap)\n",
    "print(heappop(heap))\n",
    "print(heap)\n",
    "print(heappop(heap))\n",
    "print(heap)\n",
    "heappush(heap, 2)\n",
    "print(heap)"
   ]
  },
  {
   "cell_type": "code",
   "execution_count": 54,
   "metadata": {},
   "outputs": [
    {
     "name": "stdout",
     "output_type": "stream",
     "text": [
      "[9, 4, 6, 15, 1, 8, 11, 5, 19, 10, 0, 16, 7, 13, 14, 3, 17, 2, 18, 12]\n",
      "[0, 1, 6, 2, 4, 7, 11, 3, 15, 10, 9, 16, 8, 13, 14, 5, 17, 19, 18, 12]\n",
      "0\n",
      "[1, 1.6, 6, 2, 4, 7, 11, 3, 15, 10, 9, 16, 8, 13, 14, 5, 17, 19, 18, 12]\n"
     ]
    }
   ],
   "source": [
    "from heapq import *\n",
    "from random import shuffle\n",
    "\n",
    "heap = list(range(0, 20))\n",
    "shuffle(heap)\n",
    "print(heap)\n",
    "heapify(heap)\n",
    "print(heap)\n",
    "\n",
    "m = heapreplace(heap, 1.6)\n",
    "print(m)\n",
    "print(heap)"
   ]
  },
  {
   "cell_type": "code",
   "execution_count": 65,
   "metadata": {},
   "outputs": [
    {
     "name": "stdout",
     "output_type": "stream",
     "text": [
      "[6, 7, 10, 17, 14, 2, 9, 1, 15, 0, 11, 12, 5, 4, 13, 8, 18, 19, 16, 3]\n",
      "[19, 18, 17]\n",
      "[0, 1, 2, 3, 4, 5]\n",
      "[19, 18, 17]\n"
     ]
    }
   ],
   "source": [
    "from heapq import *\n",
    "from random import shuffle\n",
    "\n",
    "data = list(range(0, 20))\n",
    "shuffle(data)\n",
    "print(data)\n",
    "nl = nlargest(3, data)\n",
    "print(nl)\n",
    "ns = nsmallest(6, data)\n",
    "print(ns)\n",
    "sdata = sorted(data, key=None, reverse=True)\n",
    "print(sdata[0:3])"
   ]
  },
  {
   "cell_type": "markdown",
   "metadata": {},
   "source": [
    "## 双端队列\n",
    "元素需要有序添加和移除时，双端队列很有用。\n",
    "队列首端在尾部"
   ]
  },
  {
   "cell_type": "code",
   "execution_count": 70,
   "metadata": {},
   "outputs": [
    {
     "name": "stdout",
     "output_type": "stream",
     "text": [
      "deque([0, 1, 2, 3, 4])\n",
      "deque([6, 0, 1, 2, 3, 4, 5])\n",
      "5\n",
      "deque([6, 0, 1, 2, 3, 4])\n",
      "6\n",
      "deque([0, 1, 2, 3, 4])\n"
     ]
    }
   ],
   "source": [
    "from collections import deque\n",
    "\n",
    "q = deque(range(5))\n",
    "print(q)\n",
    "q.append(5)\n",
    "q.appendleft(6)\n",
    "print(q)\n",
    "a = q.pop()\n",
    "print(a)\n",
    "print(q)\n",
    "b = q.popleft()\n",
    "print(b)\n",
    "print(q)"
   ]
  },
  {
   "cell_type": "code",
   "execution_count": 75,
   "metadata": {},
   "outputs": [
    {
     "name": "stdout",
     "output_type": "stream",
     "text": [
      "deque([1, 2, 0, 4, 3])\n",
      "deque([0, 4, 3, 1, 2])\n",
      "deque([3, 1, 2, 0, 4])\n"
     ]
    }
   ],
   "source": [
    "from collections import deque\n",
    "from random import shuffle\n",
    "\n",
    "l = list(range(5))\n",
    "shuffle(l)\n",
    "q = deque(l)\n",
    "print(q)\n",
    "q.rotate(3)\n",
    "print(q)\n",
    "q.rotate(-2)\n",
    "print(q)"
   ]
  },
  {
   "cell_type": "code",
   "execution_count": 77,
   "metadata": {},
   "outputs": [
    {
     "name": "stdout",
     "output_type": "stream",
     "text": [
      "deque([1, 2, 3])\n",
      "deque([1, 2, 3, 4, 5, 6])\n",
      "deque([9, 8, 7, 1, 2, 3, 4, 5, 6])\n"
     ]
    }
   ],
   "source": [
    "from collections import deque\n",
    "q = deque([1, 2, 3])\n",
    "print(q)\n",
    "q.extend([4,5,6])\n",
    "print(q)\n",
    "q.extendleft([7, 8, 9])\n",
    "print(q)\n"
   ]
  }
 ],
 "metadata": {
  "kernelspec": {
   "display_name": "base",
   "language": "python",
   "name": "python3"
  },
  "language_info": {
   "codemirror_mode": {
    "name": "ipython",
    "version": 3
   },
   "file_extension": ".py",
   "mimetype": "text/x-python",
   "name": "python",
   "nbconvert_exporter": "python",
   "pygments_lexer": "ipython3",
   "version": "3.12.1"
  }
 },
 "nbformat": 4,
 "nbformat_minor": 2
}
