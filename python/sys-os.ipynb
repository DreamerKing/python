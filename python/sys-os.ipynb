{
 "cells": [
  {
   "cell_type": "code",
   "execution_count": null,
   "metadata": {},
   "outputs": [],
   "source": [
    "# sys\n",
    "与解释器相关\n",
    "- argv 命令行参数\n",
    "- path 模块查找目录列表\n",
    "- platform 系统/平台标识\n",
    "- modules 模块名映射\n",
    "- exit([arg]) 退出当前程序\n",
    "- stdin/stdout/stderr 标准输入输出流对象"
   ]
  },
  {
   "cell_type": "code",
   "execution_count": 2,
   "metadata": {},
   "outputs": [
    {
     "name": "stdout",
     "output_type": "stream",
     "text": [
      "darwin\n",
      "['/Users/dreamerking/miniconda3/lib/python3.12/site-packages/ipykernel_launcher.py', '--f=/Users/dreamerking/Library/Jupyter/runtime/kernel-v2-2096TNUdCBecJDtZ.json']\n"
     ]
    }
   ],
   "source": [
    "import sys\n",
    "from pprint import pprint\n",
    "\n",
    "print(sys.platform)\n",
    "# sys.exit(1)\n",
    "# %tb?\n",
    "# exit()\n",
    "# l = [p for p in dir(sys) if not p.startswith(\"_\")]\n",
    "# pprint(sys.modules)\n",
    "# pprint(l)\n",
    "print(sys.argv)"
   ]
  },
  {
   "cell_type": "code",
   "execution_count": 5,
   "metadata": {},
   "outputs": [
    {
     "name": "stdout",
     "output_type": "stream",
     "text": [
      "--f=/Users/dreamerking/Library/Jupyter/runtime/kernel-v2-2096TNUdCBecJDtZ.json\n"
     ]
    }
   ],
   "source": [
    "import sys\n",
    "\n",
    "args = sys.argv[1:]\n",
    "args.reverse()\n",
    "print(\":\".join(args))"
   ]
  },
  {
   "cell_type": "markdown",
   "metadata": {},
   "source": [
    "## os\n",
    "访问操作系统服务 文件/目录操作 进程管理 权限设置 访问系统环境变量 执行外部程序\n",
    "\n",
    "- envrion 系统环境变量映射\n",
    "- system(cmd) 在子shell中执行命令\n",
    "- startfile(cmdpath) 启动外部程序\n",
    "- sep 路径中使用的分隔符\n",
    "- pathsep 路径分隔符\n",
    "- linesep 行分隔符\n",
    "- urandom(n) 返回n个强加密的字符"
   ]
  },
  {
   "cell_type": "code",
   "execution_count": 19,
   "metadata": {},
   "outputs": [
    {
     "name": "stdout",
     "output_type": "stream",
     "text": [
      "total 424\n",
      "drwxr-xr-x  10 dreamerking  staff    320 May 23 07:05 \u001b[1m\u001b[36mayscio\u001b[m\u001b[m\n",
      "-rw-r--r--   1 dreamerking  staff  86247 May 24 00:57 basic.ipynb\n",
      "-rw-r--r--   1 dreamerking  staff   3467 Apr 30 23:43 exase.ipynb\n",
      "-rw-r--r--   1 dreamerking  staff  18796 May 18 00:07 execption.ipynb\n",
      "-rw-r--r--   1 dreamerking  staff  11529 May  6 11:31 funtion.ipynb\n",
      "drwxr-xr-x   5 dreamerking  staff    160 May 24 07:57 \u001b[1m\u001b[36mhi\u001b[m\u001b[m\n",
      "-rw-r--r--   1 dreamerking  staff   1797 May 24 12:09 jupyter.ipynb\n",
      "-rw-r--r--   1 dreamerking  staff   1272 May 18 00:10 math.ipynb\n",
      "-rw-r--r--   1 dreamerking  staff   9634 May 24 11:45 module.ipynb\n",
      "-rw-r--r--   1 dreamerking  staff  15710 May  6 10:32 oop.ipynb\n",
      "-rw-r--r--   1 dreamerking  staff  29954 May 18 00:13 print.ipynb\n",
      "-rw-r--r--   1 dreamerking  staff   5404 May  6 11:08 recusive.ipynb\n",
      "drwxr-xr-x   3 dreamerking  staff     96 May 11 12:31 \u001b[1m\u001b[36msys\u001b[m\u001b[m\n",
      "-rw-r--r--   1 dreamerking  staff   3669 May 24 23:19 sys-os.ipynb\n",
      "-rw-r--r--   1 dreamerking  staff"
     ]
    },
    {
     "data": {
      "text/plain": [
       "0"
      ]
     },
     "execution_count": 19,
     "metadata": {},
     "output_type": "execute_result"
    },
    {
     "name": "stdout",
     "output_type": "stream",
     "text": [
      "    266 May 24 08:01 test.py\n",
      "-rw-r--r--   1 dreamerking  staff    267 May 24 11:42 todo.md\n",
      "drwxr-xr-x   4 dreamerking  staff    128 May 22 09:39 \u001b[1m\u001b[36mturtle\u001b[m\u001b[m\n"
     ]
    }
   ],
   "source": [
    "import os\n",
    "from pprint import pprint\n",
    "\n",
    "# print(os.urandom(6))\n",
    "# print(os.sep, os.pathsep, repr(os.linesep))\n",
    "# pprint(os.environ)\n",
    "# print(os.getuid(), os.getgid(), os.name)\n",
    "\n",
    "# l = [p for p in dir(os) if not p.startswith(\"_\") and not p.isupper()]\n",
    "# pprint(l)\n",
    "# os.system(\"ls -l\")"
   ]
  },
  {
   "cell_type": "code",
   "execution_count": 20,
   "metadata": {},
   "outputs": [
    {
     "data": {
      "text/plain": [
       "True"
      ]
     },
     "execution_count": 20,
     "metadata": {},
     "output_type": "execute_result"
    }
   ],
   "source": [
    "import webbrowser\n",
    "\n",
    "webbrowser.open(\"https://python.org\")"
   ]
  },
  {
   "cell_type": "markdown",
   "metadata": {},
   "source": [
    "## fileinput 迭代文件中的行\n",
    "\n",
    "- input([files, [, inplace [, backup]]]) 迭代多个输入流中的行\n",
    "- filename() 返回文件名\n",
    "- lineno() 累计的当前行号\n",
    "- filelineno() 当前文件的行号\n",
    "- isfirstline() 是否当前文件的起始行\n",
    "- isstdin() 检查当前是否来自stdin\n",
    "- nextfile() 关当前文件移动到下一个文件,且忽略跳过的行\n",
    "- close() 关闭序列"
   ]
  },
  {
   "cell_type": "code",
   "execution_count": 23,
   "metadata": {},
   "outputs": [
    {
     "ename": "FileNotFoundError",
     "evalue": "[Errno 2] No such file or directory: '--f=/Users/dreamerking/Library/Jupyter/runtime/kernel-v2-20965dM4b978Fv0W.json' -> '--f=/Users/dreamerking/Library/Jupyter/runtime/kernel-v2-20965dM4b978Fv0W.json.bak'",
     "output_type": "error",
     "traceback": [
      "\u001b[0;31m---------------------------------------------------------------------------\u001b[0m",
      "\u001b[0;31mFileNotFoundError\u001b[0m                         Traceback (most recent call last)",
      "Cell \u001b[0;32mIn[23], line 3\u001b[0m\n\u001b[1;32m      1\u001b[0m \u001b[38;5;28;01mimport\u001b[39;00m \u001b[38;5;21;01mfileinput\u001b[39;00m\n\u001b[0;32m----> 3\u001b[0m \u001b[38;5;28;43;01mfor\u001b[39;49;00m\u001b[43m \u001b[49m\u001b[43mline\u001b[49m\u001b[43m \u001b[49m\u001b[38;5;129;43;01min\u001b[39;49;00m\u001b[43m \u001b[49m\u001b[43mfileinput\u001b[49m\u001b[38;5;241;43m.\u001b[39;49m\u001b[43minput\u001b[49m\u001b[43m(\u001b[49m\u001b[43minplace\u001b[49m\u001b[38;5;241;43m=\u001b[39;49m\u001b[38;5;28;43;01mTrue\u001b[39;49;00m\u001b[43m)\u001b[49m\u001b[43m:\u001b[49m\n\u001b[1;32m      4\u001b[0m \u001b[43m  \u001b[49m\u001b[43mline\u001b[49m\u001b[43m \u001b[49m\u001b[38;5;241;43m=\u001b[39;49m\u001b[43m \u001b[49m\u001b[43mline\u001b[49m\u001b[38;5;241;43m.\u001b[39;49m\u001b[43mrstrip\u001b[49m\u001b[43m(\u001b[49m\u001b[43m)\u001b[49m\n\u001b[1;32m      5\u001b[0m \u001b[43m  \u001b[49m\u001b[43mnum\u001b[49m\u001b[43m \u001b[49m\u001b[38;5;241;43m=\u001b[39;49m\u001b[43m \u001b[49m\u001b[43mfileinput\u001b[49m\u001b[38;5;241;43m.\u001b[39;49m\u001b[43mlineno\u001b[49m\u001b[43m(\u001b[49m\u001b[43m)\u001b[49m\n",
      "File \u001b[0;32m~/miniconda3/lib/python3.12/fileinput.py:251\u001b[0m, in \u001b[0;36mFileInput.__next__\u001b[0;34m(self)\u001b[0m\n\u001b[1;32m    249\u001b[0m \u001b[38;5;28;01mdef\u001b[39;00m \u001b[38;5;21m__next__\u001b[39m(\u001b[38;5;28mself\u001b[39m):\n\u001b[1;32m    250\u001b[0m     \u001b[38;5;28;01mwhile\u001b[39;00m \u001b[38;5;28;01mTrue\u001b[39;00m:\n\u001b[0;32m--> 251\u001b[0m         line \u001b[38;5;241m=\u001b[39m \u001b[38;5;28;43mself\u001b[39;49m\u001b[38;5;241;43m.\u001b[39;49m\u001b[43m_readline\u001b[49m\u001b[43m(\u001b[49m\u001b[43m)\u001b[49m\n\u001b[1;32m    252\u001b[0m         \u001b[38;5;28;01mif\u001b[39;00m line:\n\u001b[1;32m    253\u001b[0m             \u001b[38;5;28mself\u001b[39m\u001b[38;5;241m.\u001b[39m_filelineno \u001b[38;5;241m+\u001b[39m\u001b[38;5;241m=\u001b[39m \u001b[38;5;241m1\u001b[39m\n",
      "File \u001b[0;32m~/miniconda3/lib/python3.12/fileinput.py:337\u001b[0m, in \u001b[0;36mFileInput._readline\u001b[0;34m(self)\u001b[0m\n\u001b[1;32m    335\u001b[0m     \u001b[38;5;28;01mpass\u001b[39;00m\n\u001b[1;32m    336\u001b[0m \u001b[38;5;66;03m# The next few lines may raise OSError\u001b[39;00m\n\u001b[0;32m--> 337\u001b[0m \u001b[43mos\u001b[49m\u001b[38;5;241;43m.\u001b[39;49m\u001b[43mrename\u001b[49m\u001b[43m(\u001b[49m\u001b[38;5;28;43mself\u001b[39;49m\u001b[38;5;241;43m.\u001b[39;49m\u001b[43m_filename\u001b[49m\u001b[43m,\u001b[49m\u001b[43m \u001b[49m\u001b[38;5;28;43mself\u001b[39;49m\u001b[38;5;241;43m.\u001b[39;49m\u001b[43m_backupfilename\u001b[49m\u001b[43m)\u001b[49m\n\u001b[1;32m    338\u001b[0m \u001b[38;5;28mself\u001b[39m\u001b[38;5;241m.\u001b[39m_file \u001b[38;5;241m=\u001b[39m \u001b[38;5;28mopen\u001b[39m(\u001b[38;5;28mself\u001b[39m\u001b[38;5;241m.\u001b[39m_backupfilename, \u001b[38;5;28mself\u001b[39m\u001b[38;5;241m.\u001b[39m_mode,\n\u001b[1;32m    339\u001b[0m                   encoding\u001b[38;5;241m=\u001b[39mencoding, errors\u001b[38;5;241m=\u001b[39m\u001b[38;5;28mself\u001b[39m\u001b[38;5;241m.\u001b[39m_errors)\n\u001b[1;32m    340\u001b[0m \u001b[38;5;28;01mtry\u001b[39;00m:\n",
      "\u001b[0;31mFileNotFoundError\u001b[0m: [Errno 2] No such file or directory: '--f=/Users/dreamerking/Library/Jupyter/runtime/kernel-v2-20965dM4b978Fv0W.json' -> '--f=/Users/dreamerking/Library/Jupyter/runtime/kernel-v2-20965dM4b978Fv0W.json.bak'"
     ]
    }
   ],
   "source": [
    "import fileinput\n",
    "\n",
    "for line in fileinput.input(inplace=True):\n",
    "  line = line.rstrip()\n",
    "  num = fileinput.lineno()\n",
    "  print(f'{line:<50} # {num:2d}')\n",
    "\n",
    "  %python3 test.py"
   ]
  }
 ],
 "metadata": {
  "kernelspec": {
   "display_name": "base",
   "language": "python",
   "name": "python3"
  },
  "language_info": {
   "codemirror_mode": {
    "name": "ipython",
    "version": 3
   },
   "file_extension": ".py",
   "mimetype": "text/x-python",
   "name": "python",
   "nbconvert_exporter": "python",
   "pygments_lexer": "ipython3",
   "version": "3.12.1"
  }
 },
 "nbformat": 4,
 "nbformat_minor": 2
}
