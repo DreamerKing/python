{
 "cells": [
  {
   "cell_type": "markdown",
   "metadata": {},
   "source": [
    "# 模块\n",
    "\n",
    "导入模块时在模块所在目录会创建__pycache__的子目录，包含了处理后的文件。\n",
    "模块仅导入一次,模块并不是用来执行操作的，而是定义一些可复用的代码的。\n",
    "```bash\n",
    "python -m module args\n",
    "```"
   ]
  },
  {
   "cell_type": "code",
   "execution_count": 57,
   "metadata": {},
   "outputs": [
    {
     "name": "stdout",
     "output_type": "stream",
     "text": [
      "Hi py! haha\n"
     ]
    }
   ],
   "source": [
    "import math\n",
    "math.sin(1)\n",
    "import sys\n",
    "import os\n",
    "import importlib\n",
    "# 重新加载模块创建的对象与重新加载之前创建的是不同的。\n",
    "\"\"\"\n",
    "h = importlib.reload(hi)\n",
    "h.hi()\n",
    "\"\"\"\n",
    "hi = importlib.reload(hi)\n",
    "# import hi\n",
    "hi.hi()\n",
    "# import hi\n",
    "# 指定解释器查找模块的路径 需要使用完整的路径\n",
    "# sys.path.append('C:/python')\n",
    "# os.path.expanduser('~/python')\n",
    "# print(sys.path.remove('C:/python'))\n",
    "# sys.path.remove('/Users/dreamerking/python/python')\n",
    "# print(sys.path)"
   ]
  }
 ],
 "metadata": {
  "kernelspec": {
   "display_name": "base",
   "language": "python",
   "name": "python3"
  },
  "language_info": {
   "codemirror_mode": {
    "name": "ipython",
    "version": 3
   },
   "file_extension": ".py",
   "mimetype": "text/x-python",
   "name": "python",
   "nbconvert_exporter": "python",
   "pygments_lexer": "ipython3",
   "version": "3.12.1"
  }
 },
 "nbformat": 4,
 "nbformat_minor": 2
}
