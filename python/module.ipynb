{
 "cells": [
  {
   "cell_type": "markdown",
   "metadata": {},
   "source": [
    "# 模块\n",
    "\n",
    "导入模块时在模块所在目录会创建__pycache__的子目录，包含了处理后的文件。\n",
    "模块仅导入一次,模块并不是用来执行操作的，而是定义一些可复用的代码的。\n",
    "```bash\n",
    "python -m module args\n",
    "```"
   ]
  },
  {
   "cell_type": "code",
   "execution_count": 57,
   "metadata": {},
   "outputs": [
    {
     "name": "stdout",
     "output_type": "stream",
     "text": [
      "Hi py! haha\n"
     ]
    }
   ],
   "source": [
    "import math\n",
    "math.sin(1)\n",
    "import sys\n",
    "import os\n",
    "import importlib\n",
    "# 重新加载模块创建的对象与重新加载之前创建的是不同的。\n",
    "\"\"\"\n",
    "h = importlib.reload(hi)\n",
    "h.hi()\n",
    "\"\"\"\n",
    "hi = importlib.reload(hi)\n",
    "# import hi\n",
    "hi.hi()\n",
    "# import hi\n",
    "# 指定解释器查找模块的路径 需要使用完整的路径\n",
    "# sys.path.append('C:/python')\n",
    "# os.path.expanduser('~/python')\n",
    "# print(sys.path.remove('C:/python'))\n",
    "# sys.path.remove('/Users/dreamerking/python/python')\n",
    "# print(sys.path)"
   ]
  },
  {
   "cell_type": "code",
   "execution_count": 1,
   "metadata": {},
   "outputs": [
    {
     "name": "stdout",
     "output_type": "stream",
     "text": [
      "23 -23 4.795831523312719\n"
     ]
    }
   ],
   "source": [
    "import math\n",
    "from math import sqrt\n",
    "\n",
    "print(math.floor(23.56), math.ceil(-23.1), sqrt(23))"
   ]
  },
  {
   "cell_type": "code",
   "execution_count": 2,
   "metadata": {},
   "outputs": [
    {
     "name": "stdout",
     "output_type": "stream",
     "text": [
      "3\t2.34\n",
      "6\t-2\n",
      "32\t2.62\t2.62\n",
      "3\t-4\n",
      "2.63\t-3.63\t-3.63\n"
     ]
    }
   ],
   "source": [
    "\"\"\"\n",
    "Python中内置的数学函数\n",
    "1. abs(x)\n",
    "2. max(x1,x2,...)\n",
    "3. min(x1,x2,...)\n",
    "4. pow(a,b)\n",
    "5. rand(x)\n",
    "   rand(x,n)\n",
    "\"\"\"\n",
    "\n",
    "# 取绝对值\n",
    "print(\"%d\\t%.2f\" % (abs(-3), abs(-2.34)))\n",
    "\n",
    "# 取数列中的最大值和最小值\n",
    "print(\"%d\\t%d\" % (max(-2, 3, 1, 6), min(-2, 3, 1, 6)))\n",
    "\n",
    "# 计算乘方\n",
    "print(\"%d\\t%.2f\\t%.2f\" % (pow(2, 5), pow(2.1, 1.3), (2.1 ** 1.3)))\n",
    "\n",
    "# rand(x) 返回最接近x的整数,如果x与两个数接近程度相同则返回偶数的那个\n",
    "print(\"%d\\t%d\" % (round(2.6), round(-3.6)))\n",
    "\n",
    "# rand(x, n) 返回保留n位小数\n",
    "test1, test2 = round(2.634, 2), round(-3.63326, 2)\n",
    "print(\"%.2f\\t%.2f\\t%.2f\" % (test1, test2, round(-3.63326, 2)))\n"
   ]
  }
 ],
 "metadata": {
  "kernelspec": {
   "display_name": "base",
   "language": "python",
   "name": "python3"
  },
  "language_info": {
   "codemirror_mode": {
    "name": "ipython",
    "version": 3
   },
   "file_extension": ".py",
   "mimetype": "text/x-python",
   "name": "python",
   "nbconvert_exporter": "python",
   "pygments_lexer": "ipython3",
   "version": "3.12.1"
  }
 },
 "nbformat": 4,
 "nbformat_minor": 2
}
