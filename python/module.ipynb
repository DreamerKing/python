{
 "cells": [
  {
   "cell_type": "markdown",
   "metadata": {},
   "source": [
    "# 模块\n",
    "\n",
    "导入模块时在模块所在目录会创建__pycache__的子目录，包含了处理后的文件。  \n",
    "模块仅导入一次(可以避免循环导入),模块并不是用来执行操作的，而是定义一些可复用的代码的。\n",
    "模块在首次被导入时程序时执行。有自己的作用域，模块中定义的函数和类以及对其进行赋值的变量都将成为模块的属性。\n",
    "```bash\n",
    "python -m module args\n",
    "```\n",
    "\n",
    "可使用importlib模块中的reload函数重新加载指定模块。同名模块重新加载前创建的实例与重新加载后创建的实例不同。\n",
    "\n",
    "`__name__` 当前模块名\n"
   ]
  },
  {
   "cell_type": "markdown",
   "metadata": {},
   "source": [
    "## 模块的位置\n",
    "- 环境变量`PYTHONPATH` 添加模块解析路径\n",
    "- sys模块的sys.path 查看模块路径或添加模块解析路径\n",
    "\n",
    "dir() 列出对象或模块所有属性\n",
    "`__all__` 定义模块的公开接口,需要在模块内部设置\n",
    "使用help()函数获取帮信息\n",
    "使用函数属性`__doc__`获取函数说明\n",
    "使用模块属性`__file__`获取源码文件路径"
   ]
  },
  {
   "cell_type": "code",
   "execution_count": 81,
   "metadata": {},
   "outputs": [
    {
     "name": "stdout",
     "output_type": "stream",
     "text": [
      "/Users/dreamerking/python/python/hi/thi.py\n",
      "Hi py!\n"
     ]
    }
   ],
   "source": [
    "import hi\n",
    "from hi import thi\n",
    "\n",
    "print(thi.__file__)\n",
    "thi.hi()"
   ]
  },
  {
   "cell_type": "code",
   "execution_count": 88,
   "metadata": {},
   "outputs": [
    {
     "name": "stdout",
     "output_type": "stream",
     "text": [
      "/Users/dreamerking/python/python/hi/__init__.py\n",
      "Hi py!\n"
     ]
    }
   ],
   "source": [
    "import hi as tt\n",
    "from hi import thi\n",
    "\n",
    "print(tt.__file__)\n",
    "# print(hi.__file__)\n",
    "# import importlib\n",
    "\n",
    "# print(dir(hi))\n",
    "# print(dir(hi.hi))\n",
    "# print(\"1:\", hi, hi.a)\n",
    "thi.hi()\n",
    "# tt = importlib.reload(tt)\n",
    "# print(\"2:\", hi.a)\n",
    "# print(dir(tt))\n",
    "# tt.hi()"
   ]
  },
  {
   "cell_type": "code",
   "execution_count": 79,
   "metadata": {},
   "outputs": [
    {
     "name": "stdout",
     "output_type": "stream",
     "text": [
      "Help on function copy in module copy:\n",
      "\n",
      "copy(x)\n",
      "    Shallow copy operation on arbitrary Python objects.\n",
      "\n",
      "    See the module's __doc__ string for more info.\n",
      "\n",
      "Shallow copy operation on arbitrary Python objects.\n",
      "\n",
      "    See the module's __doc__ string for more info.\n",
      "    \n"
     ]
    }
   ],
   "source": [
    "import numpy as np\n",
    "\n",
    "help(copy.copy)\n",
    "print(copy.copy.__doc__)\n",
    "# help(np)\n",
    "# print(np.__all__)"
   ]
  },
  {
   "cell_type": "markdown",
   "metadata": {},
   "source": [
    "## 包\n",
    "包含`__init__.py`文件目录\n",
    "将模块加入包中只需将文件放入包目录中即可"
   ]
  },
  {
   "cell_type": "code",
   "execution_count": 57,
   "metadata": {},
   "outputs": [
    {
     "name": "stdout",
     "output_type": "stream",
     "text": [
      "Hi py! haha\n"
     ]
    }
   ],
   "source": [
    "import math\n",
    "\n",
    "math.sin(1)\n",
    "import sys\n",
    "import os\n",
    "import importlib\n",
    "\n",
    "# 重新加载模块创建的对象与重新加载之前创建的是不同的。\n",
    "\"\"\"\n",
    "h = importlib.reload(hi)\n",
    "h.hi()\n",
    "\"\"\"\n",
    "hi = importlib.reload(hi)\n",
    "# import hi\n",
    "hi.hi()\n",
    "# import hi\n",
    "# 指定解释器查找模块的路径 需要使用完整的路径\n",
    "# sys.path.append('C:/python')\n",
    "# os.path.expanduser('~/python')\n",
    "# print(sys.path.remove('C:/python'))\n",
    "# sys.path.remove('/Users/dreamerking/python/python')\n",
    "# print(sys.path)"
   ]
  },
  {
   "cell_type": "code",
   "execution_count": 1,
   "metadata": {},
   "outputs": [
    {
     "name": "stdout",
     "output_type": "stream",
     "text": [
      "23 -23 4.795831523312719\n"
     ]
    }
   ],
   "source": [
    "import math\n",
    "from math import sqrt\n",
    "\n",
    "print(math.floor(23.56), math.ceil(-23.1), sqrt(23))"
   ]
  },
  {
   "cell_type": "code",
   "execution_count": 2,
   "metadata": {},
   "outputs": [
    {
     "name": "stdout",
     "output_type": "stream",
     "text": [
      "3\t2.34\n",
      "6\t-2\n",
      "32\t2.62\t2.62\n",
      "3\t-4\n",
      "2.63\t-3.63\t-3.63\n"
     ]
    }
   ],
   "source": [
    "\"\"\"\n",
    "Python中内置的数学函数\n",
    "1. abs(x)\n",
    "2. max(x1,x2,...)\n",
    "3. min(x1,x2,...)\n",
    "4. pow(a,b)\n",
    "5. rand(x)\n",
    "   rand(x,n)\n",
    "\"\"\"\n",
    "\n",
    "# 取绝对值\n",
    "print(\"%d\\t%.2f\" % (abs(-3), abs(-2.34)))\n",
    "\n",
    "# 取数列中的最大值和最小值\n",
    "print(\"%d\\t%d\" % (max(-2, 3, 1, 6), min(-2, 3, 1, 6)))\n",
    "\n",
    "# 计算乘方\n",
    "print(\"%d\\t%.2f\\t%.2f\" % (pow(2, 5), pow(2.1, 1.3), (2.1**1.3)))\n",
    "\n",
    "# rand(x) 返回最接近x的整数,如果x与两个数接近程度相同则返回偶数的那个\n",
    "print(\"%d\\t%d\" % (round(2.6), round(-3.6)))\n",
    "\n",
    "# rand(x, n) 返回保留n位小数\n",
    "test1, test2 = round(2.634, 2), round(-3.63326, 2)\n",
    "print(\"%.2f\\t%.2f\\t%.2f\" % (test1, test2, round(-3.63326, 2)))"
   ]
  },
  {
   "cell_type": "code",
   "execution_count": 65,
   "metadata": {},
   "outputs": [
    {
     "name": "stdout",
     "output_type": "stream",
     "text": [
      "['/Users/dreamerking/miniconda3/lib/python312.zip',\n",
      " '/Users/dreamerking/miniconda3/lib/python3.12',\n",
      " '/Users/dreamerking/miniconda3/lib/python3.12/lib-dynload',\n",
      " '',\n",
      " '/Users/dreamerking/.local/lib/python3.12/site-packages',\n",
      " '/Users/dreamerking/miniconda3/lib/python3.12/site-packages',\n",
      " '/Users/dreamerking/python/python/hi']\n"
     ]
    }
   ],
   "source": [
    "import sys\n",
    "from pprint import pprint\n",
    "\n",
    "# pprint(sys.path)\n",
    "# sys.path.remove(\"/Users/dreamerking/python/python/hi\")\n",
    "pprint(sys.path)\n",
    "\n",
    "# sys.path.append(\"/Users/dreamerking/python/python/hi\")"
   ]
  },
  {
   "cell_type": "code",
   "execution_count": 71,
   "metadata": {},
   "outputs": [
    {
     "name": "stdout",
     "output_type": "stream",
     "text": [
      "['hi', 'pprint', 'sys', 'test']\n"
     ]
    },
    {
     "ename": "AttributeError",
     "evalue": "module 'hi' has no attribute '__all__'",
     "output_type": "error",
     "traceback": [
      "\u001b[0;31m---------------------------------------------------------------------------\u001b[0m",
      "\u001b[0;31mAttributeError\u001b[0m                            Traceback (most recent call last)",
      "Cell \u001b[0;32mIn[71], line 7\u001b[0m\n\u001b[1;32m      5\u001b[0m l \u001b[38;5;241m=\u001b[39m [n \u001b[38;5;28;01mfor\u001b[39;00m n \u001b[38;5;129;01min\u001b[39;00m \u001b[38;5;28mdir\u001b[39m(thi) \u001b[38;5;28;01mif\u001b[39;00m \u001b[38;5;129;01mnot\u001b[39;00m n\u001b[38;5;241m.\u001b[39mstartswith(\u001b[38;5;124m'\u001b[39m\u001b[38;5;124m_\u001b[39m\u001b[38;5;124m'\u001b[39m)]\n\u001b[1;32m      6\u001b[0m \u001b[38;5;28mprint\u001b[39m(l)\n\u001b[0;32m----> 7\u001b[0m \u001b[38;5;28mprint\u001b[39m(\u001b[43mhi\u001b[49m\u001b[38;5;241;43m.\u001b[39;49m\u001b[43m__all__\u001b[49m)\n\u001b[1;32m      8\u001b[0m \u001b[38;5;28mprint\u001b[39m(copy\u001b[38;5;241m.\u001b[39m__all__)\n",
      "\u001b[0;31mAttributeError\u001b[0m: module 'hi' has no attribute '__all__'"
     ]
    }
   ],
   "source": [
    "from hi import thi\n",
    "import hi\n",
    "import copy\n",
    "\n",
    "l = [n for n in dir(thi) if not n.startswith(\"_\")]\n",
    "print(l)\n",
    "# print(hi.__all__)\n",
    "print(copy.__all__)"
   ]
  },
  {
   "cell_type": "code",
   "execution_count": 2,
   "metadata": {},
   "outputs": [
    {
     "name": "stdout",
     "output_type": "stream",
     "text": [
      "Hi py! 233\n",
      "/Users/dreamerking/python/python/hi/__init__.py\n"
     ]
    }
   ],
   "source": [
    "\n",
    "\n",
    "import hi as tt\n",
    "from hi import thi\n",
    "import sys\n",
    "from pprint import pprint\n",
    "from importlib import reload\n",
    "\n",
    "# pprint(sys.modules)\n",
    "\n",
    "# from imp import  reload\n",
    "reload(tt)\n",
    "\n",
    "# import importlib\n",
    "# del tt\n",
    "# print(dir(hi))\n",
    "# print(dir(hi.hi))\n",
    "# print(\"1:\", hi, hi.a)\n",
    "thi.hi()\n",
    "# tt = importlib.reload(tt)\n",
    "# print(\"2:\", hi.a)\n",
    "print(tt.__file__)\n",
    "# print(dir(tt))\n",
    "# print(tt.a)\n",
    "# tt.hi()"
   ]
  }
 ],
 "metadata": {
  "kernelspec": {
   "display_name": "base",
   "language": "python",
   "name": "python3"
  },
  "language_info": {
   "codemirror_mode": {
    "name": "ipython",
    "version": 3
   },
   "file_extension": ".py",
   "mimetype": "text/x-python",
   "name": "python",
   "nbconvert_exporter": "python",
   "pygments_lexer": "ipython3",
   "version": "3.12.1"
  }
 },
 "nbformat": 4,
 "nbformat_minor": 2
}
