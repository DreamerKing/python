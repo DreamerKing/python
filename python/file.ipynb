{
 "cells": [
  {
   "cell_type": "markdown",
   "metadata": {},
   "source": [
    "# 文件操作\n",
    "- 打开文件 open()\n",
    "- 文件模式\n",
    "  - r 只读模式\n",
    "  - w 写入模式\n",
    "  - x 独占写模式\n",
    "  - a 附加模式\n",
    "  - t 文本模式\n",
    "  - + 读写模式\n",
    "  - r+与w+的区别 w+会删除内容\n",
    "- 读取 read()/readline()\n",
    "- 写入 write()\n",
    "- seek(offset [, whence]) 将读写位置移动到offset位置 \n",
    "  whence 的取值\n",
    "  - io.SEEK_SET(0) 相对文件开头 默认值\n",
    "  - is.SEEK_CUR(1) 相对当前位置 \n",
    "  - io.SEEK_END(2) 相对文件结尾\n",
    "- tell() 当前位置\n",
    "- flush() 将缓冲区内容写入文件\n",
    "- close() 关闭文件"
   ]
  },
  {
   "cell_type": "code",
   "execution_count": 9,
   "metadata": {},
   "outputs": [],
   "source": [
    "f = open(\"./test/text.txt\", \"w+\")\n",
    "f.write(\"Hello\")\n",
    "f.write(\"King\")\n",
    "\n",
    "# print(f)\n",
    "f.close()"
   ]
  },
  {
   "cell_type": "code",
   "execution_count": 14,
   "metadata": {},
   "outputs": [
    {
     "name": "stdout",
     "output_type": "stream",
     "text": [
      "HelloK\n",
      "ing\n",
      " hi body\n",
      "hi body\n"
     ]
    }
   ],
   "source": [
    "f = open(\"./test/text.txt\", \"r+\")\n",
    "t = f.read(6)\n",
    "print(t)\n",
    "t = f.read()\n",
    "print(t)\n",
    "# f.write(\"\\nhi body\")\n",
    "# print(f)\n",
    "f.close()"
   ]
  },
  {
   "cell_type": "code",
   "execution_count": 16,
   "metadata": {},
   "outputs": [
    {
     "name": "stdout",
     "output_type": "stream",
     "text": [
      "HelloKing\n",
      "\n",
      " hi body\n",
      "hi body\n"
     ]
    }
   ],
   "source": [
    "f = open(\"./test/text.txt\", \"r+\")\n",
    "t = f.readline()\n",
    "print(t)\n",
    "t = f.read()\n",
    "print(t)\n",
    "# f.write(\"\\nhi body\")\n",
    "# print(f)\n",
    "f.close()"
   ]
  },
  {
   "cell_type": "code",
   "execution_count": 35,
   "metadata": {},
   "outputs": [
    {
     "name": "stdout",
     "output_type": "stream",
     "text": [
      "5\n",
      "01234\n",
      "He\n",
      "7\n"
     ]
    }
   ],
   "source": [
    "import io\n",
    "\n",
    "f = open(\"./test/text.txt\", \"w\")\n",
    "f.write(\"012345678901345789\")\n",
    "index = f.seek(5)\n",
    "print(index)\n",
    "f.write(\"Hello world\")\n",
    "f.close()\n",
    "f = open(\"./test/text.txt\")\n",
    "t = f.read(5)\n",
    "print(t)\n",
    "t = f.read(2)\n",
    "print(t)\n",
    "index = f.tell()\n",
    "print(index)\n",
    "f.close()"
   ]
  },
  {
   "cell_type": "markdown",
   "metadata": {},
   "source": [
    "按行读取和写入\n",
    "readline()\n",
    "readlines([offeset]) 读取所有行或读取到指定位置到列表\n",
    "wreadlines(seq) 将任何序列或可迭代对象写入文件或流(不会自动加换行符) "
   ]
  },
  {
   "cell_type": "code",
   "execution_count": 65,
   "metadata": {},
   "outputs": [
    {
     "name": "stdout",
     "output_type": "stream",
     "text": [
      "48\n",
      "['1\\n', '2\\n']\n"
     ]
    }
   ],
   "source": [
    "f = open(\"./test/text.txt\", \"r+\")\n",
    "# t = f.readlines()\n",
    "# print(t)\n",
    "# l = list(map(lambda s: str(s) + \"\\n\", list(range(10))))\n",
    "# print(l)\n",
    "# f.writelines(l)\n",
    "l = len(\"'01234Hello world8901234Hello world8901234567890\")\n",
    "print(l)\n",
    "f.seek(48)\n",
    "t = f.readlines(3)\n",
    "print(t)\n",
    "f.close()"
   ]
  },
  {
   "cell_type": "markdown",
   "metadata": {},
   "source": [
    "## 上下文管理器\n",
    "支持方法__enter__和__exit__的对象  \n",
    "`__enter__`方法不接受任何参数，返回值作为as后面变量的值,`__exit__`接受三个参数:异常类型、异常对象和异常跟踪，如果返回False,将抑制所有异常。"
   ]
  },
  {
   "cell_type": "code",
   "execution_count": 66,
   "metadata": {},
   "outputs": [
    {
     "name": "stdout",
     "output_type": "stream",
     "text": [
      "['01234Hello world8901234Hello world8901234567890\\n', '1\\n', '2\\n', '3\\n', '4\\n', '5\\n', '6\\n', '7\\n', '8\\n', '9\\n', '0\\n', '1\\n', '2\\n', '3\\n', '4\\n', '5\\n', '6\\n', '7\\n', '8\\n', '9\\n']\n"
     ]
    }
   ],
   "source": [
    "with open(\"./test/text.txt\") as f:\n",
    "    lines = f.readlines()\n",
    "    print(lines)"
   ]
  },
  {
   "cell_type": "code",
   "execution_count": 69,
   "metadata": {},
   "outputs": [
    {
     "name": "stdout",
     "output_type": "stream",
     "text": [
      "0: 01234Hello world8901234Hello world8901234567890\n",
      "1: 1\n",
      "2: 2\n",
      "3: 3\n",
      "4: 4\n",
      "5: 5\n",
      "6: 6\n",
      "7: 7\n",
      "8: 8\n",
      "9: 9\n"
     ]
    }
   ],
   "source": [
    "f = open(\"./test/text.txt\")\n",
    "for i in range(10):\n",
    "    print(str(i) + \": \" + f.readline(), end=\"\")\n",
    "f.close()"
   ]
  },
  {
   "cell_type": "code",
   "execution_count": 71,
   "metadata": {},
   "outputs": [
    {
     "name": "stdout",
     "output_type": "stream",
     "text": [
      "count:  86\n"
     ]
    }
   ],
   "source": [
    "with open(\"./test/text.txt\") as f:\n",
    "    count = 0\n",
    "    char = f.read(1)\n",
    "    while char:\n",
    "        count += 1\n",
    "        char = f.read(1)\n",
    "    print(\"count: \", count)"
   ]
  },
  {
   "cell_type": "code",
   "execution_count": 72,
   "metadata": {},
   "outputs": [
    {
     "name": "stdout",
     "output_type": "stream",
     "text": [
      "count:  86\n"
     ]
    }
   ],
   "source": [
    "with open(\"./test/text.txt\") as f:\n",
    "    count = 0\n",
    "    while True:\n",
    "        char = f.read(1)\n",
    "        if not char:\n",
    "            break\n",
    "        count += 1\n",
    "    print(\"count: \", count)"
   ]
  },
  {
   "cell_type": "code",
   "execution_count": 79,
   "metadata": {},
   "outputs": [
    {
     "name": "stdout",
     "output_type": "stream",
     "text": [
      "line number:  24\n"
     ]
    }
   ],
   "source": [
    "with open(\"./test/text.txt\") as f:\n",
    "    lines = 0\n",
    "    while True:\n",
    "        line = f.readline()\n",
    "        if not line:\n",
    "            break\n",
    "        lines += 1\n",
    "    print(\"line number: \", lines)"
   ]
  },
  {
   "cell_type": "code",
   "execution_count": 81,
   "metadata": {},
   "outputs": [],
   "source": [
    "with open(\"./test/text.txt\") as f:\n",
    "    for line in f.readlines():\n",
    "        # print(line)\n",
    "        pass"
   ]
  },
  {
   "cell_type": "markdown",
   "metadata": {},
   "source": [
    "## shelve \n",
    "python数据存储到文件"
   ]
  },
  {
   "cell_type": "code",
   "execution_count": 5,
   "metadata": {},
   "outputs": [
    {
     "name": "stdout",
     "output_type": "stream",
     "text": [
      "['a', 'b', 'c']\n"
     ]
    }
   ],
   "source": [
    "import shelve\n",
    "\n",
    "# l = [p for p in dir(shelve) if not p.startswith('_')]\n",
    "# print(l)\n",
    "# help(shelve.open)\n",
    "s = shelve.open(\"./test/test.dat\")\n",
    "s[\"x\"] = [\"a\", \"b\", \"c\"]\n",
    "s[\"x\"].append(\"d\")\n",
    "print(s[\"x\"])\n",
    "s.close()"
   ]
  },
  {
   "cell_type": "code",
   "execution_count": 6,
   "metadata": {},
   "outputs": [
    {
     "name": "stdout",
     "output_type": "stream",
     "text": [
      "['a', 'b', 'c', 'd']\n"
     ]
    }
   ],
   "source": [
    "import shelve\n",
    "\n",
    "s = shelve.open(\"./test/test.dat\", writeback=True)\n",
    "s[\"x\"] = [\"a\", \"b\", \"c\"]\n",
    "s[\"x\"].append(\"d\")\n",
    "print(s[\"x\"])\n",
    "s.close()"
   ]
  },
  {
   "cell_type": "code",
   "execution_count": 21,
   "metadata": {},
   "outputs": [
    {
     "name": "stdout",
     "output_type": "stream",
     "text": [
      "['a', 'b', 'c', 'd']\n",
      "x ['a', 'b', 'c', 'd']\n"
     ]
    }
   ],
   "source": [
    "import shelve\n",
    "\n",
    "with shelve.open(\"./test/test.dat\") as s:\n",
    "    s[\"x\"] = [\"a\", \"b\", \"c\"]\n",
    "    temp = s[\"x\"]\n",
    "    temp.append(\"d\")\n",
    "    s[\"x\"] = temp\n",
    "    print(s[\"x\"])\n",
    "    # print(dir(s))\n",
    "    for [k, v] in s.items():\n",
    "        print(k, v)\n",
    "\n",
    "    s.clear()"
   ]
  },
  {
   "cell_type": "markdown",
   "metadata": {},
   "source": [
    "## json/pickle\n",
    "- dumps() 数据类型转换成字符串\n",
    "- dump() 数据类型转换成字符串并保存入文件\n",
    "- loads() 字符串转换成数据类型\n",
    "- load() 读取文件并转换成数据类型\n",
    "\n",
    "json可以在不同语言之间交换数据, pickle只在python中使用\n",
    "json只能序列化基本类型，如列表、字典、字符串、数值等，不能序列化日期、类对象等\n",
    "pickle可以序列化所有类型，包括类、函数等\n"
   ]
  },
  {
   "cell_type": "code",
   "execution_count": 52,
   "metadata": {},
   "outputs": [
    {
     "name": "stdout",
     "output_type": "stream",
     "text": [
      "{\"name\": \"King\", \"phone\": \"15658001296\", \"address\": [\"浙江省\", \"杭州市\"]}\n",
      "{'name': 'King', 'phone': '15658001296', 'address': ['浙江省', '杭州市']}\n",
      "King\n"
     ]
    }
   ],
   "source": [
    "import json\n",
    "\n",
    "# data = json.load(\"./test/test.json\")\n",
    "\n",
    "# l = [p for p in dir(json) if not p.startswith('_')]\n",
    "# print(l)\n",
    "\n",
    "with open(\"./test/test.json\", \"r+\") as json_file:\n",
    "    content = json_file.read()\n",
    "    json_content = json.loads(content)\n",
    "    print(content)\n",
    "    print(json_content)\n",
    "    print(json_content[\"name\"])"
   ]
  },
  {
   "cell_type": "code",
   "execution_count": 53,
   "metadata": {},
   "outputs": [],
   "source": [
    "import json\n",
    "\n",
    "# l = [p for p in dir(json) if not p.startswith('_')]\n",
    "# print(l)\n",
    "# help(json.dumps)"
   ]
  },
  {
   "cell_type": "code",
   "execution_count": 51,
   "metadata": {},
   "outputs": [
    {
     "name": "stdout",
     "output_type": "stream",
     "text": [
      "{'name': 'King', 'phone': '15658001296', 'address': '[\"浙江省\", \"杭州市\"]'}\n",
      "King\n"
     ]
    }
   ],
   "source": [
    "import json\n",
    "\n",
    "with open(\"./test/test.json\", \"r+\") as json_file:\n",
    "    content = json.load(json_file)\n",
    "    print(content)\n",
    "    print(content[\"name\"])\n",
    "    content[\"phone\"] = \"15658001296\"\n",
    "    address = [\"浙江省\", \"杭州市\"]\n",
    "    content[\"address\"] = address\n",
    "    with open(\"./test/test.json\", \"w\") as w_file:\n",
    "        json.dump(content, w_file, ensure_ascii=False)"
   ]
  }
 ],
 "metadata": {
  "kernelspec": {
   "display_name": "base",
   "language": "python",
   "name": "python3"
  },
  "language_info": {
   "codemirror_mode": {
    "name": "ipython",
    "version": 3
   },
   "file_extension": ".py",
   "mimetype": "text/x-python",
   "name": "python",
   "nbconvert_exporter": "python",
   "pygments_lexer": "ipython3",
   "version": "3.12.1"
  }
 },
 "nbformat": 4,
 "nbformat_minor": 2
}
