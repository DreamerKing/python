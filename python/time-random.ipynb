{
 "cells": [
  {
   "cell_type": "code",
   "execution_count": null,
   "metadata": {},
   "outputs": [],
   "source": [
    "# time and random"
   ]
  },
  {
   "cell_type": "markdown",
   "metadata": {},
   "source": [
    "## time\n",
    "日期时间操作和解析\n",
    "- asctime([tuple]) 元组转字符串\n",
    "- strptime(string [, format]) 字符串转元组\n",
    "- mktime(tuple) 元组转秒数\n",
    "- time() 返回当前秒数\n",
    "- localtime([secs]) 秒数转元组\n",
    "- sleep(secs) 休眠secs秒"
   ]
  },
  {
   "cell_type": "code",
   "execution_count": 24,
   "metadata": {},
   "outputs": [
    {
     "name": "stdout",
     "output_type": "stream",
     "text": [
      "Tue May 20 10:56:36 2024\n",
      "Sat May 25 21:30:49 2024\n",
      "time.struct_time(tm_year=1970, tm_mon=1, tm_mday=24, tm_hour=11, tm_min=33, tm_sec=20, tm_wday=5, tm_yday=24, tm_isdst=0)\n",
      "time.struct_time(tm_year=2024, tm_mon=5, tm_mday=20, tm_hour=10, tm_min=56, tm_sec=23, tm_wday=0, tm_yday=141, tm_isdst=-1)\n",
      "1716643849.662684\n",
      "time.struct_time(tm_year=2024, tm_mon=5, tm_mday=25, tm_hour=21, tm_min=22, tm_sec=50, tm_wday=5, tm_yday=146, tm_isdst=0)\n",
      "Sat May 25 21:22:50 2024\n"
     ]
    }
   ],
   "source": [
    "import time\n",
    "\n",
    "# help(time.asctime)\n",
    "p = (2024, 5, 20, 10, 56, 36, 1, 2, 0)  # 年月日时分秒星期儒略日夏令时 9个元素的元组\n",
    "\n",
    "pt = time.asctime(p)\n",
    "print(pt)\n",
    "t = time.asctime()\n",
    "print(t)\n",
    "l = time.localtime(2000000)\n",
    "print(l)\n",
    "\n",
    "# help(time.strptime)\n",
    "t1 = time.strptime(\"2024 5 20 10:56:23\", \"%Y %m %d %H:%M:%S\")\n",
    "print(t1)\n",
    "\n",
    "t2 = time.time()\n",
    "print(t2)\n",
    "t3 = time.localtime(1716643370)\n",
    "print(t3)\n",
    "t4 = time.asctime(t3)\n",
    "print(t4)"
   ]
  },
  {
   "cell_type": "markdown",
   "metadata": {},
   "source": [
    "## datetime"
   ]
  },
  {
   "cell_type": "code",
   "execution_count": 33,
   "metadata": {},
   "outputs": [
    {
     "name": "stdout",
     "output_type": "stream",
     "text": [
      "2024-05-20\n",
      "23:56:59\n",
      "2024-05-21 10:23:36\n",
      "Tue May 21 10:23:36 2024\n"
     ]
    }
   ],
   "source": [
    "import datetime as dt\n",
    "from pprint import pprint\n",
    "\n",
    "# l = [p for p in dir(dt) if not p.startswith(\"_\")]\n",
    "# pprint(l)\n",
    "\n",
    "# help(dt.date)\n",
    "d = dt.date(2024, 5, 20)\n",
    "print(d)\n",
    "t = dt.time(23, 56, 59)\n",
    "print(t)\n",
    "\n",
    "dts = dt.datetime(2024, 5, 21, 10, 23, 36)\n",
    "print(dts)\n",
    "ct = dts.ctime()\n",
    "print(ct)"
   ]
  },
  {
   "cell_type": "markdown",
   "metadata": {},
   "source": [
    "## timeit"
   ]
  },
  {
   "cell_type": "code",
   "execution_count": 38,
   "metadata": {},
   "outputs": [
    {
     "name": "stdout",
     "output_type": "stream",
     "text": [
      "['Timer',\n",
      " 'default_number',\n",
      " 'default_repeat',\n",
      " 'default_timer',\n",
      " 'dummy_src_name',\n",
      " 'gc',\n",
      " 'itertools',\n",
      " 'main',\n",
      " 'reindent',\n",
      " 'repeat',\n",
      " 'sys',\n",
      " 'template',\n",
      " 'time',\n",
      " 'timeit']\n",
      "Tue May 20 10:56:36 2024\n"
     ]
    }
   ],
   "source": [
    "import timeit as t\n",
    "from pprint import pprint\n",
    "\n",
    "l = [p for p in dir(t) if not p.startswith(\"_\")]\n",
    "pprint(l)\n",
    "p = (2024, 5, 20, 10, 56, 36, 1, 2, 0)\n",
    "# help(t.time)\n",
    "t1 = t.time.asctime(p)\n",
    "print(t1)"
   ]
  },
  {
   "cell_type": "markdown",
   "metadata": {},
   "source": [
    "## random\n",
    "生成伪随机数\n",
    "- random() 0~1之间的随机数\n",
    "- uniform(a,b) 返回a~b之间的一个数\n",
    "- getrandombits(n) 返回长度为n二进制序列\n",
    "- randrange([start], stop [, step]) 返回范围之内的一个随机数\n",
    "- choice(seq) 从序列中随机选取一个元素\n",
    "- shuffle(seq [, random]) 打乱seq\n",
    "- sample(seq, n) 从序列中随机选取n个不同的元素"
   ]
  },
  {
   "cell_type": "code",
   "execution_count": 59,
   "metadata": {},
   "outputs": [
    {
     "name": "stdout",
     "output_type": "stream",
     "text": [
      "4.550568972648166\n",
      "b'|7(\\x8b\\xf17\\x88\\xcd'\n",
      "89.61742933297761\n",
      "10\n",
      "9\n",
      "[0, 1, 2, 3, 4, 5, 6, 7, 8, 9]\n",
      "[8, 9, 3, 2, 6, 5, 1, 7, 4, 0]\n",
      "[0, 3, 5]\n"
     ]
    }
   ],
   "source": [
    "from random import random, randbytes, uniform, randrange, choice, shuffle, sample\n",
    "\n",
    "r = random() * 10\n",
    "print(r)\n",
    "b = randbytes(8)\n",
    "print(b)\n",
    "\n",
    "u = uniform(20, 100)\n",
    "print(u)\n",
    "\n",
    "rr = randrange(1, 12)\n",
    "print(rr)\n",
    "\n",
    "l = list(range(10))\n",
    "c = choice(l)\n",
    "print(c)\n",
    "print(l)\n",
    "shuffle(l)\n",
    "print(l)\n",
    "s = sample(l, 3)\n",
    "print(s)"
   ]
  },
  {
   "cell_type": "code",
   "execution_count": 64,
   "metadata": {},
   "outputs": [
    {
     "name": "stdout",
     "output_type": "stream",
     "text": [
      "Thu Jun  6 10:26:46 2024\n"
     ]
    }
   ],
   "source": [
    "from random import *\n",
    "from time import *\n",
    "\n",
    "date1 = (2024, 5, 23, 10, 23, 26, 0, 256, 0)\n",
    "date2 = (2024, 6, 23, 10, 23, 26, 0, 256, 0)\n",
    "\n",
    "d1 = mktime(date1)\n",
    "d2 = mktime(date2)\n",
    "d = uniform(d1, d2)\n",
    "ds = asctime(localtime(d))\n",
    "print(ds)"
   ]
  },
  {
   "cell_type": "code",
   "execution_count": 65,
   "metadata": {},
   "outputs": [
    {
     "ename": "FileNotFoundError",
     "evalue": "[Errno 2] No such file or directory: '--f=/Users/dreamerking/Library/Jupyter/runtime/kernel-v2-2096v8imx9G5JXBR.json'",
     "output_type": "error",
     "traceback": [
      "\u001b[0;31m---------------------------------------------------------------------------\u001b[0m",
      "\u001b[0;31mFileNotFoundError\u001b[0m                         Traceback (most recent call last)",
      "Cell \u001b[0;32mIn[65], line 3\u001b[0m\n\u001b[1;32m      1\u001b[0m \u001b[38;5;28;01mimport\u001b[39;00m \u001b[38;5;21;01mfileinput\u001b[39;00m\u001b[38;5;241m,\u001b[39m \u001b[38;5;21;01mrandom\u001b[39;00m\n\u001b[0;32m----> 3\u001b[0m fortunes \u001b[38;5;241m=\u001b[39m \u001b[38;5;28;43mlist\u001b[39;49m\u001b[43m(\u001b[49m\u001b[43mfileinput\u001b[49m\u001b[38;5;241;43m.\u001b[39;49m\u001b[43minput\u001b[49m\u001b[43m(\u001b[49m\u001b[43m)\u001b[49m\u001b[43m)\u001b[49m\n\u001b[1;32m      4\u001b[0m \u001b[38;5;28mprint\u001b[39m(random\u001b[38;5;241m.\u001b[39mchoice(fortunes))\n",
      "File \u001b[0;32m~/miniconda3/lib/python3.12/fileinput.py:251\u001b[0m, in \u001b[0;36mFileInput.__next__\u001b[0;34m(self)\u001b[0m\n\u001b[1;32m    249\u001b[0m \u001b[38;5;28;01mdef\u001b[39;00m \u001b[38;5;21m__next__\u001b[39m(\u001b[38;5;28mself\u001b[39m):\n\u001b[1;32m    250\u001b[0m     \u001b[38;5;28;01mwhile\u001b[39;00m \u001b[38;5;28;01mTrue\u001b[39;00m:\n\u001b[0;32m--> 251\u001b[0m         line \u001b[38;5;241m=\u001b[39m \u001b[38;5;28;43mself\u001b[39;49m\u001b[38;5;241;43m.\u001b[39;49m\u001b[43m_readline\u001b[49m\u001b[43m(\u001b[49m\u001b[43m)\u001b[49m\n\u001b[1;32m    252\u001b[0m         \u001b[38;5;28;01mif\u001b[39;00m line:\n\u001b[1;32m    253\u001b[0m             \u001b[38;5;28mself\u001b[39m\u001b[38;5;241m.\u001b[39m_filelineno \u001b[38;5;241m+\u001b[39m\u001b[38;5;241m=\u001b[39m \u001b[38;5;241m1\u001b[39m\n",
      "File \u001b[0;32m~/miniconda3/lib/python3.12/fileinput.py:370\u001b[0m, in \u001b[0;36mFileInput._readline\u001b[0;34m(self)\u001b[0m\n\u001b[1;32m    367\u001b[0m                 \u001b[38;5;28mself\u001b[39m\u001b[38;5;241m.\u001b[39m_file \u001b[38;5;241m=\u001b[39m \u001b[38;5;28mself\u001b[39m\u001b[38;5;241m.\u001b[39m_openhook(\n\u001b[1;32m    368\u001b[0m                     \u001b[38;5;28mself\u001b[39m\u001b[38;5;241m.\u001b[39m_filename, \u001b[38;5;28mself\u001b[39m\u001b[38;5;241m.\u001b[39m_mode, encoding\u001b[38;5;241m=\u001b[39m\u001b[38;5;28mself\u001b[39m\u001b[38;5;241m.\u001b[39m_encoding, errors\u001b[38;5;241m=\u001b[39m\u001b[38;5;28mself\u001b[39m\u001b[38;5;241m.\u001b[39m_errors)\n\u001b[1;32m    369\u001b[0m         \u001b[38;5;28;01melse\u001b[39;00m:\n\u001b[0;32m--> 370\u001b[0m             \u001b[38;5;28mself\u001b[39m\u001b[38;5;241m.\u001b[39m_file \u001b[38;5;241m=\u001b[39m \u001b[38;5;28;43mopen\u001b[39;49m\u001b[43m(\u001b[49m\u001b[38;5;28;43mself\u001b[39;49m\u001b[38;5;241;43m.\u001b[39;49m\u001b[43m_filename\u001b[49m\u001b[43m,\u001b[49m\u001b[43m \u001b[49m\u001b[38;5;28;43mself\u001b[39;49m\u001b[38;5;241;43m.\u001b[39;49m\u001b[43m_mode\u001b[49m\u001b[43m,\u001b[49m\u001b[43m \u001b[49m\u001b[43mencoding\u001b[49m\u001b[38;5;241;43m=\u001b[39;49m\u001b[43mencoding\u001b[49m\u001b[43m,\u001b[49m\u001b[43m \u001b[49m\u001b[43merrors\u001b[49m\u001b[38;5;241;43m=\u001b[39;49m\u001b[38;5;28;43mself\u001b[39;49m\u001b[38;5;241;43m.\u001b[39;49m\u001b[43m_errors\u001b[49m\u001b[43m)\u001b[49m\n\u001b[1;32m    371\u001b[0m \u001b[38;5;28mself\u001b[39m\u001b[38;5;241m.\u001b[39m_readline \u001b[38;5;241m=\u001b[39m \u001b[38;5;28mself\u001b[39m\u001b[38;5;241m.\u001b[39m_file\u001b[38;5;241m.\u001b[39mreadline  \u001b[38;5;66;03m# hide FileInput._readline\u001b[39;00m\n\u001b[1;32m    372\u001b[0m \u001b[38;5;28;01mreturn\u001b[39;00m \u001b[38;5;28mself\u001b[39m\u001b[38;5;241m.\u001b[39m_readline()\n",
      "\u001b[0;31mFileNotFoundError\u001b[0m: [Errno 2] No such file or directory: '--f=/Users/dreamerking/Library/Jupyter/runtime/kernel-v2-2096v8imx9G5JXBR.json'"
     ]
    }
   ],
   "source": [
    "import fileinput, random\n",
    "\n",
    "fortunes = list(fileinput.input())\n",
    "print(random.choice(fortunes))\n"
   ]
  }
 ],
 "metadata": {
  "kernelspec": {
   "display_name": "base",
   "language": "python",
   "name": "python3"
  },
  "language_info": {
   "codemirror_mode": {
    "name": "ipython",
    "version": 3
   },
   "file_extension": ".py",
   "mimetype": "text/x-python",
   "name": "python",
   "nbconvert_exporter": "python",
   "pygments_lexer": "ipython3",
   "version": "3.12.1"
  }
 },
 "nbformat": 4,
 "nbformat_minor": 2
}
