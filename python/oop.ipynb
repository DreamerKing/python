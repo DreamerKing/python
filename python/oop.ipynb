{
 "cells": [
  {
   "cell_type": "markdown",
   "metadata": {},
   "source": [
    "# OOP\n",
    "+ callable(object)\n",
    "+ getattr(object, name [, default])\n",
    "+ setatte(object, name, value)\n",
    "+ hasattr(object, name)\n",
    "+ isinstance(object, class)\n",
    "+ issubclss(A, B)\n",
    "+ type(object)\n",
    "\n",
    "- 类 创建对象的模版\n",
    "- 对象 具有特征(属性/变量)和行为(方法/函数)\n",
    "\n",
    "创建自定义对象\n",
    "\n",
    "实例属性\n",
    "类属性 所有实例共享\n",
    "\n",
    "- 封装 对外隐藏内部实现细节\n",
    "- 继承 类之间关系，子类继承超类的所有方法和属性，并且可以新增或覆盖。\n",
    "- 多态 一种将不同的特殊行为和单个泛化记号相关联的能力  \n",
    "  - 特设多态/函数重载/运算符重载/隐式类型转换(强迫多态)\n",
    "  - 参数多态 泛化函数 泛化数据类型\n",
    "  - 包含多态/子类型 相同的消息给予不同类别的对象会引发不同的动作  \n",
    "\n",
    "多态让你无需知道对象所属的类就能调用方法，封装让你无需知道对象的构造就能使用它。\n",
    "\n",
    "多态可分为变量多态与函数多态\n",
    "变量多态 基类型的变量可以被赋值基类型对象，也可以被赋值派生类型的对象 \n",
    "函数多态 相同的函数调用对于不同类型的对象可能具有不同的行为\n",
    "\n",
    "变量多态是函数多态的基础\n",
    "\n",
    "- 动态多态\n",
    "- 静态多态 将不同的特殊行为和单个泛化记号相关联，在编译期处理这些关联 可以用来实现类型安全、运行高效的同质对象集合操作。\n",
    "\n",
    "以`__`开头的属性或方法是私有的，只能内部访问\n",
    "\n",
    "POP "
   ]
  },
  {
   "cell_type": "code",
   "execution_count": 82,
   "metadata": {},
   "outputs": [
    {
     "name": "stdout",
     "output_type": "stream",
     "text": [
      "Dreamer 23 1\n",
      "Greeting Dreamer\n",
      "2 2 2\n",
      "Greeting King\n",
      "king 16 JN 3\n",
      "Hi!, king, JN, student\n",
      "1.0.0\n",
      "student\n",
      "True\n"
     ]
    }
   ],
   "source": [
    "class People:\n",
    "  count = 0\n",
    "  # 实例化时调用\n",
    "  def __init__(self, name, age):\n",
    "    self.name = name\n",
    "    self.age = age\n",
    "    People.count += 1\n",
    "  # 方法第一个参数是实例本身\n",
    "  def greet(self):\n",
    "    print(f\"Greeting {self.name}\")\n",
    "\n",
    "class Student(People):\n",
    "  def __init__(self, name, age, school):\n",
    "    super().__init__(name, age)\n",
    "    self.school = school\n",
    "    self._verson = '1.0.0'\n",
    "    self.__type = 'student'\n",
    "  def greet(self):\n",
    "    print(f\"Hi!, {self.name}, {self.school}, {self.__type}\")\n",
    "\n",
    "  def type(self):\n",
    "    return self.__type\n",
    "p1 = People(name = \"Dreamer\", age = 23)\n",
    "print(p1.name, p1.age, p1.count)\n",
    "p1.greet()\n",
    "\n",
    "p2 = People(name = \"King\", age = 24)\n",
    "print(p1.count, People.count, p2.count)\n",
    "p2.greet()\n",
    "\n",
    "s1 = Student('king', 16, \"JN\")\n",
    "print(s1.name, s1.age, s1.school, s1.count)\n",
    "s1.greet()\n",
    "print(s1._verson)\n",
    "# print(s1.__type)\n",
    "# p1.greet(p1)\n",
    "print(s1.type())\n",
    "print(isinstance(s1, Student))"
   ]
  },
  {
   "cell_type": "markdown",
   "metadata": {},
   "source": [
    "## 多态例子 同一方法名可以在不同类别的对象上调用。"
   ]
  },
  {
   "cell_type": "code",
   "execution_count": 31,
   "metadata": {},
   "outputs": [
    {
     "name": "stdout",
     "output_type": "stream",
     "text": [
      "1\n",
      "1\n",
      "2\n"
     ]
    }
   ],
   "source": [
    "from random import choice\n",
    "\n",
    "c = 'abc'.count('a')\n",
    "print(c)\n",
    "c = [1, 2, 'a'].count('a')\n",
    "print(c)\n",
    "x = choice(['hello world!', [1, 2, 'e', 'e', 4]])\n",
    "c = x.count('e')\n",
    "print(c)"
   ]
  },
  {
   "cell_type": "markdown",
   "metadata": {},
   "source": [
    "## 多态实例 运算符重载"
   ]
  },
  {
   "cell_type": "code",
   "execution_count": 35,
   "metadata": {},
   "outputs": [
    {
     "name": "stdout",
     "output_type": "stream",
     "text": [
      "3\n",
      "hellopython\n",
      "3\n",
      "hibaby\n",
      "[1, 2, 3, 4]\n",
      "The message of 'Hello Dreamer' is 13\n",
      "The message of [1, 2, 3] is 3\n"
     ]
    }
   ],
   "source": [
    "print(1 + 2)\n",
    "print(\"hello\" + \"python\")\n",
    "\n",
    "def add(x, y):\n",
    "  return x + y\n",
    "\n",
    "print(add(1, 2))\n",
    "print(add('hi', 'baby'))\n",
    "print(add([1,2], [3, 4]))\n",
    "\n",
    "def length_message(x):\n",
    "  print(f\"The message of {repr(x)} is {len(x)}\")\n",
    "\n",
    "length_message('Hello Dreamer')\n",
    "length_message([1, 2 ,3])"
   ]
  },
  {
   "cell_type": "markdown",
   "metadata": {},
   "source": [
    "很多函数和运算符都是多态的，破坏多态的唯一办法是使用type、isinstance、issubclass等函数显式地执行类型检查。"
   ]
  },
  {
   "cell_type": "code",
   "execution_count": 40,
   "metadata": {},
   "outputs": [
    {
     "name": "stdout",
     "output_type": "stream",
     "text": [
      "King\n",
      "Hello world! I'm King\n"
     ]
    }
   ],
   "source": [
    "# __metaclass__ = type # python2创建新式类需要，python3不需要\n",
    "\n",
    "class Person:\n",
    "  def set_name(self, name):\n",
    "    self.name = name\n",
    "\n",
    "  def get_name(self):\n",
    "    return self.name\n",
    "\n",
    "  def greet(self):\n",
    "    print(\"Hello world! I'm {}\".format(self.name))\n",
    "\n",
    "p = Person()\n",
    "p.set_name(\"King\")\n",
    "print(p.get_name())\n",
    "p.greet()"
   ]
  },
  {
   "cell_type": "code",
   "execution_count": null,
   "metadata": {},
   "outputs": [],
   "source": [
    "方法和函数的区别\n",
    "方法自动将第一个参数关联到它所属的对象，调用方法时无需提供这个参数。"
   ]
  },
  {
   "cell_type": "code",
   "execution_count": 41,
   "metadata": {},
   "outputs": [
    {
     "name": "stdout",
     "output_type": "stream",
     "text": [
      "I have self\n",
      "I don't ...\n"
     ]
    }
   ],
   "source": [
    "class Class:\n",
    "  def method(self):\n",
    "    print('I have self')\n",
    "\n",
    "def function():\n",
    "  print(\"I don't ...\")\n",
    "\n",
    "instance =  Class()\n",
    "instance.method()\n",
    "instance.method = function\n",
    "instance.method()\n"
   ]
  },
  {
   "cell_type": "code",
   "execution_count": 45,
   "metadata": {},
   "outputs": [
    {
     "name": "stdout",
     "output_type": "stream",
     "text": [
      "Squaawk!\n",
      "Squaawk!\n"
     ]
    }
   ],
   "source": [
    "class Bird:\n",
    "  song = \"Squaawk!\"\n",
    "  def sing(self):\n",
    "    print(self.song)\n",
    "\n",
    "bird = Bird()\n",
    "bird.sing()\n",
    "\n",
    "birdsong = bird.sing\n",
    "birdsong()"
   ]
  },
  {
   "cell_type": "markdown",
   "metadata": {},
   "source": [
    "默认情况下，可以从外部访问对象的属性，并没有完全隐藏对象的状态。要让方法或属性成为私有的，只需让其名称以`__`开头即可。在类的定义中，对所有以`__`开头的名称都进行转换，即在开头加上一个下划线和类名。"
   ]
  },
  {
   "cell_type": "code",
   "execution_count": 54,
   "metadata": {},
   "outputs": [
    {
     "name": "stdout",
     "output_type": "stream",
     "text": [
      "The secret message is:\n",
      "Bet you can't see me ...\n",
      "Bet you can't see me ...\n",
      "20\n"
     ]
    }
   ],
   "source": [
    "class Secretive:\n",
    "  _a = 12\n",
    "  def __insaccessible(self):\n",
    "    print(\"Bet you can't see me ...\")\n",
    "\n",
    "  def accessible(self):\n",
    "    print(\"The secret message is:\")\n",
    "    self.__insaccessible()\n",
    "\n",
    "s = Secretive()\n",
    "# s.__insaccessible()\n",
    "s.accessible()\n",
    "s._Secretive__insaccessible()\n",
    "s._a = 20\n",
    "print(s._a)\n"
   ]
  },
  {
   "cell_type": "code",
   "execution_count": 55,
   "metadata": {},
   "outputs": [
    {
     "name": "stdout",
     "output_type": "stream",
     "text": [
      "9\n",
      "16\n"
     ]
    }
   ],
   "source": [
    "def foo(x): return x * x\n",
    "foo2 = lambda x: x * x\n",
    "print(foo(3))\n",
    "print(foo2(4))"
   ]
  },
  {
   "cell_type": "markdown",
   "metadata": {},
   "source": [
    "类中的代码以类作为命名空间来执行,每个实例都可以访问这个类作用域内的变量"
   ]
  },
  {
   "cell_type": "code",
   "execution_count": 60,
   "metadata": {},
   "outputs": [
    {
     "name": "stdout",
     "output_type": "stream",
     "text": [
      "Class C being defined ...\n"
     ]
    }
   ],
   "source": [
    "class C:\n",
    "  print(\"Class C being defined ...\")"
   ]
  },
  {
   "cell_type": "code",
   "execution_count": 66,
   "metadata": {},
   "outputs": [
    {
     "name": "stdout",
     "output_type": "stream",
     "text": [
      "1 1\n",
      "2 2\n",
      "2 hi\n",
      "opps hi\n"
     ]
    }
   ],
   "source": [
    "class MemberCounter:\n",
    "  members = 0\n",
    "  def init(self):\n",
    "    MemberCounter.members += 1\n",
    "\n",
    "m1 = MemberCounter()\n",
    "m1.init()\n",
    "print(MemberCounter.members, m1.members)\n",
    "\n",
    "m2 = MemberCounter()\n",
    "m2.init()\n",
    "print(MemberCounter.members, m2.members)\n",
    "\n",
    "m1.members = 'hi'\n",
    "print(m2.members, m1.members)\n",
    "\n",
    "MemberCounter.members = 'opps'\n",
    "print(m2.members, m1.members)"
   ]
  },
  {
   "cell_type": "code",
   "execution_count": 76,
   "metadata": {},
   "outputs": [
    {
     "name": "stdout",
     "output_type": "stream",
     "text": [
      "[1, 2, 3]\n",
      "['eggs', 'bacon']\n",
      "True\n",
      "False\n",
      "(<class '__main__.Filter'>,) (<class 'object'>,)\n",
      "True False\n",
      "<class '__main__.SPAMFilter'> <class '__main__.SPAMFilter'>\n"
     ]
    }
   ],
   "source": [
    "class Filter:\n",
    "  def init(self):\n",
    "    self.blocked = []\n",
    "\n",
    "  def filter(self, sequence):\n",
    "    return [x for x in sequence if x not in self.blocked]\n",
    "\n",
    "class SPAMFilter(Filter):\n",
    "  def init(self):\n",
    "    self.blocked = ['SPAM']\n",
    "\n",
    "f = Filter()\n",
    "f.init()\n",
    "result = f.filter([1, 2, 3])\n",
    "print(result)\n",
    "\n",
    "s = SPAMFilter()\n",
    "s.init()\n",
    "result = s.filter(['SPAM', 'SPAM', 'eggs', 'bacon', 'SPAM'])\n",
    "print(result)\n",
    "\n",
    "print(issubclass(SPAMFilter, Filter))\n",
    "print(issubclass(Filter, SPAMFilter))\n",
    "print(SPAMFilter.__bases__, Filter.__bases__)\n",
    "print(isinstance(s, Filter), isinstance(f, SPAMFilter))\n",
    "print(s.__class__, type(s))\n"
   ]
  },
  {
   "cell_type": "markdown",
   "metadata": {},
   "source": [
    "多重继承\n",
    "如果多个超类以不同的方式实现了同一个方法，必须在class语句中小心排列这些超类，以避免后面的类方法覆盖前面的。\n",
    "方法解析顺序(MRO) 查找特定方法或属性时访问超类的顺序。python3采用了C3算法。"
   ]
  },
  {
   "cell_type": "code",
   "execution_count": 80,
   "metadata": {},
   "outputs": [
    {
     "name": "stdout",
     "output_type": "stream",
     "text": [
      "Hi, value is: 7\n",
      "(<class '__main__.TalkingCaculator'>, <class '__main__.Caculator'>, <class '__main__.Talker'>, <class 'object'>)\n",
      "[<class '__main__.TalkingCaculator'>, <class '__main__.Caculator'>, <class '__main__.Talker'>, <class 'object'>]\n"
     ]
    }
   ],
   "source": [
    "class Caculator:\n",
    "  def caculate(self, expression):\n",
    "    self.value = eval(expression)\n",
    "\n",
    "class Talker:\n",
    "  def talk(this):\n",
    "    print(f'Hi, value is: {this.value}')\n",
    "\n",
    "class TalkingCaculator(Caculator, Talker):\n",
    "  pass\n",
    "\n",
    "tc = TalkingCaculator()\n",
    "tc.caculate('1 + 2 * 3')\n",
    "tc.talk()\n",
    "print(TalkingCaculator.__mro__)\n",
    "print(TalkingCaculator.mro())\n"
   ]
  },
  {
   "cell_type": "markdown",
   "metadata": {},
   "source": [
    "接口和内省\n",
    "处理多态对象时，应只关心其是否实现特定的接口。"
   ]
  },
  {
   "cell_type": "code",
   "execution_count": 104,
   "metadata": {},
   "outputs": [
    {
     "name": "stdout",
     "output_type": "stream",
     "text": [
      "False True\n",
      "False True\n",
      "list\n",
      "{'name': 'list'}\n",
      "False True\n"
     ]
    }
   ],
   "source": [
    "from inspect import getmembers, getfile, isclass\n",
    "\n",
    "print(hasattr(tuple, 'append'), hasattr(list, 'append'))\n",
    "print(callable(getattr(tuple, 'append', None)), callable(getattr(list, 'append', None)))\n",
    "\n",
    "class Person:\n",
    "  pass\n",
    "\n",
    "p = Person()\n",
    "# 不能设置内置对象属性\n",
    "setattr(p, 'name', 'list')\n",
    "print(p.name)\n",
    "print(p.__dict__)\n",
    "# print(signature(p))\n",
    "# print(getmembers(p))\n",
    "print(isclass(p), isclass(Person))"
   ]
  },
  {
   "cell_type": "code",
   "execution_count": null,
   "metadata": {},
   "outputs": [],
   "source": [
    "抽象类 指定子类需要提供的功能实现，自身却不用实现。不能实例化\n",
    "通过第三方模块提供显示指定接口的理念。\n",
    "不关心对象是什么，只关心对象能做什么。\n",
    "\n",
    "- 相关的属性和方法内聚在一起\n",
    "- 对象之间松耦合，方法只关心对象自身的状态\n",
    "- 慎用继承，尤其是多重继承\n",
    "- 保持简单"
   ]
  },
  {
   "cell_type": "code",
   "execution_count": 122,
   "metadata": {},
   "outputs": [
    {
     "name": "stdout",
     "output_type": "stream",
     "text": [
      "Knigger\n",
      "Hi!\n",
      "Hello!\n",
      "True False False\n",
      "True True True\n"
     ]
    }
   ],
   "source": [
    "from abc import ABC, abstractmethod\n",
    "\n",
    "class Talker(ABC):\n",
    "  @abstractmethod\n",
    "  def talk(self):\n",
    "    pass\n",
    "\n",
    "# t = Talker()\n",
    "class Knigger(Talker):\n",
    "  print('Knigger')\n",
    "  def talk(self):\n",
    "    print('Hi!')\n",
    "\n",
    "s = Knigger()\n",
    "s.talk()\n",
    "\n",
    "class Herring:\n",
    "  def talk(self):\n",
    "    print(\"Hello!\")\n",
    "\n",
    "h = Herring()\n",
    "h.talk()\n",
    "print(isinstance(s, Talker), isinstance(h, Talker), issubclass(Herring, Talker))\n",
    "\n",
    "Talker.register(Herring) # 会使派生类失去保障\n",
    "print(isinstance(s, Talker), isinstance(h, Talker), issubclass(Herring, Talker))\n"
   ]
  }
 ],
 "metadata": {
  "kernelspec": {
   "display_name": "base",
   "language": "python",
   "name": "python3"
  },
  "language_info": {
   "codemirror_mode": {
    "name": "ipython",
    "version": 3
   },
   "file_extension": ".py",
   "mimetype": "text/x-python",
   "name": "python",
   "nbconvert_exporter": "python",
   "pygments_lexer": "ipython3",
   "version": "3.12.1"
  }
 },
 "nbformat": 4,
 "nbformat_minor": 2
}
