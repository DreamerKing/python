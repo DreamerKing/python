{
 "cells": [
  {
   "cell_type": "code",
   "execution_count": null,
   "metadata": {},
   "outputs": [],
   "source": [
    "# print\n",
    "自动转换为字符串\n",
    "默认空格分隔"
   ]
  },
  {
   "cell_type": "code",
   "execution_count": 10,
   "metadata": {},
   "outputs": [
    {
     "name": "stdout",
     "output_type": "stream",
     "text": [
      "hello world\n",
      "hello, world\n",
      "hello , world\n",
      "hello*world\n",
      "hello world*\n",
      "hello*world#opps\n"
     ]
    }
   ],
   "source": [
    "greeting = 'hello'\n",
    "print(greeting, \"world\")\n",
    "print(greeting + ',', 'world')\n",
    "print(greeting, ',', 'world')\n",
    "print(greeting, 'world', sep='*')\n",
    "print(greeting, 'world', end='*\\n')\n",
    "print(greeting, 'world', end='#', sep='*')\n",
    "print('opps')\n",
    "\n",
    "\n"
   ]
  },
  {
   "cell_type": "markdown",
   "metadata": {},
   "source": [
    "## import\n",
    "- import module [as moduleName]\n",
    "- from module import fn\n",
    "- from module import *\n",
    "- from module import fn1, fn2 as fn"
   ]
  },
  {
   "cell_type": "code",
   "execution_count": 11,
   "metadata": {},
   "outputs": [
    {
     "name": "stdout",
     "output_type": "stream",
     "text": [
      "1.0\n"
     ]
    }
   ],
   "source": [
    "from math import sin as s, pi\n",
    "print(s(pi/2))"
   ]
  }
 ],
 "metadata": {
  "kernelspec": {
   "display_name": "base",
   "language": "python",
   "name": "python3"
  },
  "language_info": {
   "codemirror_mode": {
    "name": "ipython",
    "version": 3
   },
   "file_extension": ".py",
   "mimetype": "text/x-python",
   "name": "python",
   "nbconvert_exporter": "python",
   "pygments_lexer": "ipython3",
   "version": "3.12.1"
  }
 },
 "nbformat": 4,
 "nbformat_minor": 2
}
