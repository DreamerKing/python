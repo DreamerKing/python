{
 "cells": [
  {
   "cell_type": "markdown",
   "metadata": {},
   "source": [
    "# 语句\n",
    "+ print()\n",
    "+ import\n",
    "+ chr(n) 返回码点对应的字符\n",
    "+ ord(char) 返回字符对应的码点\n",
    "+ eval(source, [, global [, local]])\n",
    "+ exec(source, [, global [, local]])\n",
    "+ enumerate(seq) 生成可迭代的键值对序列\n",
    "+ range([start,] stop [, step]) 创建一个可迭代范围对象 xrange([start,] stop, [, step]) 创建一个迭代的xrange对象 python 2.x\n",
    "+ reversed(seq)\n",
    "+ sorted(seq[, cmp][, key] [,reverse])\n",
    "+ zip(seq1, seq2, ...) 创建一个由缝合的元组组成的列表\n"
   ]
  },
  {
   "cell_type": "code",
   "execution_count": 92,
   "metadata": {},
   "outputs": [
    {
     "name": "stdout",
     "output_type": "stream",
     "text": [
      "range(1, 1000)\n",
      "<class 'range'> 48\n"
     ]
    }
   ],
   "source": [
    "import sys\n",
    "r = range(1,1000)\n",
    "print(r)\n",
    "print(type(r), sys.getsizeof(r))"
   ]
  },
  {
   "cell_type": "markdown",
   "metadata": {},
   "source": [
    "## input"
   ]
  },
  {
   "cell_type": "code",
   "execution_count": 1,
   "metadata": {},
   "outputs": [
    {
     "name": "stdout",
     "output_type": "stream",
     "text": [
      "my name is  king\n"
     ]
    }
   ],
   "source": [
    "name = input(\"what's your name?\\n\")\n",
    "print('My name is ', name)"
   ]
  },
  {
   "cell_type": "markdown",
   "metadata": {},
   "source": [
    "## print\n",
    "自动转换为字符串\n",
    "默认空格分隔"
   ]
  },
  {
   "cell_type": "code",
   "execution_count": 84,
   "metadata": {},
   "outputs": [
    {
     "name": "stdout",
     "output_type": "stream",
     "text": [
      "hello world\n",
      "hello, world\n",
      "hello , world\n",
      "hello*world\n",
      "hello world*\n",
      "hello*world#opps\n"
     ]
    }
   ],
   "source": [
    "greeting = 'hello'\n",
    "print(greeting, \"world\")\n",
    "print(greeting + ',', 'world')\n",
    "print(greeting, ',', 'world')\n",
    "print(greeting, 'world', sep='*')\n",
    "print(greeting, 'world', end='*\\n')\n",
    "print(greeting, 'world', end='#', sep='*')\n",
    "print('opps')"
   ]
  },
  {
   "cell_type": "markdown",
   "metadata": {},
   "source": [
    "字符串格式化输出"
   ]
  },
  {
   "cell_type": "code",
   "execution_count": 3,
   "metadata": {},
   "outputs": [
    {
     "name": "stdout",
     "output_type": "stream",
     "text": [
      "1\t2\n",
      "\n",
      "2\t1\n",
      "\n",
      "9.70\n",
      "10\n",
      "9\n",
      "27\n",
      "9.00\n"
     ]
    }
   ],
   "source": [
    "# 交换变量\n",
    "a, b = 1, 2\n",
    "print(\"%d\\t%d\\n\" % (a, b))\n",
    "a, b = b, a\n",
    "print(\"%d\\t%d\\n\" % (a, b))\n",
    "print(\"%.2f\" % (32 / 3.3))\n",
    "# 除法取整运算 //\n",
    "print(\"%d\" % (32 // 3))\n",
    "print(\"%d\" % (32 // 3.3))\n",
    "# 乘方运算 **\n",
    "print(\"%d\" % (3 ** 3))\n",
    "print(\"%.2f\" % (33 % 12))"
   ]
  },
  {
   "cell_type": "markdown",
   "metadata": {},
   "source": [
    "## import\n",
    "- import module [as moduleName]\n",
    "- from module import fn\n",
    "- from module import *\n",
    "- from module import fn1, fn2 as fn"
   ]
  },
  {
   "cell_type": "code",
   "execution_count": null,
   "metadata": {},
   "outputs": [
    {
     "name": "stdout",
     "output_type": "stream",
     "text": [
      "1.0\n"
     ]
    }
   ],
   "source": [
    "from math import sin as s, pi\n",
    "print(s(pi/2))"
   ]
  },
  {
   "cell_type": "markdown",
   "metadata": {},
   "source": [
    "## 序列解包\n",
    "解包序列包含的元素个数要跟目标个数相同，可以使用*来收集多余的值到一个列表中  \n",
    "\n",
    "序列解包和链式赋值可同时给多个变量赋值，而增强赋值可就地修改变量。"
   ]
  },
  {
   "cell_type": "code",
   "execution_count": null,
   "metadata": {},
   "outputs": [
    {
     "name": "stdout",
     "output_type": "stream",
     "text": [
      "1 2 3\n",
      "x = 2 y = 1\n",
      "(2, 1, 3)\n",
      "2 3 1\n"
     ]
    }
   ],
   "source": [
    "x, y, z = 1, 2, 3\n",
    "print(f\"{x} {y} {z}\")\n",
    "\n",
    "x, y = y, x\n",
    "print(f\"x = {x} y = {y}\")\n",
    "values = x, y, z\n",
    "print(values)\n",
    "x, z, y = values\n",
    "print(x, y, z)\n"
   ]
  },
  {
   "cell_type": "code",
   "execution_count": null,
   "metadata": {},
   "outputs": [
    {
     "name": "stdout",
     "output_type": "stream",
     "text": [
      "1 2\n",
      "[3, 4, 5]\n"
     ]
    }
   ],
   "source": [
    "x, y, *rest = 1, 2, 3, 4, 5\n",
    "print(x, y)\n",
    "print(rest)"
   ]
  },
  {
   "cell_type": "code",
   "execution_count": 37,
   "metadata": {},
   "outputs": [
    {
     "name": "stdout",
     "output_type": "stream",
     "text": [
      "Albus ['Percival', 'Wulfri'] Brian\n"
     ]
    }
   ],
   "source": [
    "names = \"Albus Percival Wulfri Brian\"\n",
    "fist, *middle, last = names.split()\n",
    "print(fist, middle, last)"
   ]
  },
  {
   "cell_type": "code",
   "execution_count": null,
   "metadata": {},
   "outputs": [
    {
     "name": "stdout",
     "output_type": "stream",
     "text": [
      "gf Martin\n",
      "{'name': 'Robin'}\n"
     ]
    }
   ],
   "source": [
    "\n",
    "soundrel = {'name': 'Robin', 'gf': 'Martin'}\n",
    "key, value = soundrel.popitem()\n",
    "print(key, value)\n",
    "print(soundrel)"
   ]
  },
  {
   "cell_type": "markdown",
   "metadata": {},
   "source": [
    "## 链式赋值\n",
    "将多个变量关联到同一个值上  \n",
    "增强赋值，可以就地修改变量，适用所有标准运算符 "
   ]
  },
  {
   "cell_type": "code",
   "execution_count": 38,
   "metadata": {},
   "outputs": [
    {
     "name": "stdout",
     "output_type": "stream",
     "text": [
      "3 3\n"
     ]
    }
   ],
   "source": [
    "x = y = 3\n",
    "print(x, y)"
   ]
  },
  {
   "cell_type": "code",
   "execution_count": 49,
   "metadata": {},
   "outputs": [
    {
     "name": "stdout",
     "output_type": "stream",
     "text": [
      "3 3\n",
      "4 5\n"
     ]
    }
   ],
   "source": [
    "i = 2\n",
    "\n",
    "def increase():\n",
    "  global i\n",
    "  i += 1\n",
    "  return i\n",
    "\n",
    "x = y = increase()\n",
    "print(x, y)\n",
    "\n",
    "x = increase()\n",
    "y = increase()\n",
    "\n",
    "print(x, y)\n"
   ]
  },
  {
   "cell_type": "code",
   "execution_count": 52,
   "metadata": {},
   "outputs": [
    {
     "name": "stdout",
     "output_type": "stream",
     "text": [
      "6\n",
      "foo bar foo bar \n"
     ]
    }
   ],
   "source": [
    "x = 2\n",
    "x += 1\n",
    "x *= 2\n",
    "print(x)\n",
    "\n",
    "s = 'foo'\n",
    "s += ' bar '\n",
    "s *= 2\n",
    "print(s)"
   ]
  },
  {
   "cell_type": "markdown",
   "metadata": {},
   "source": [
    "## 代码块\n",
    "通过缩进和`:`创建代码块(语句编组), 同一代码块中各行缩进相同。可以使用制表符缩进，但标准做法使用4个空格缩进。"
   ]
  },
  {
   "cell_type": "markdown",
   "metadata": {},
   "source": [
    "## 条件和条件语句\n",
    "\n",
    "根据条件决定是否执行后续代码块，使用if/elif/else可将多个条件组合起来。\n",
    "\n",
    "条件表达式 `express1 if condition else express2` \n",
    "\n",
    "假值(7个): `False` `None` `0` `\"\"` `()` `[]` `{}`\n"
   ]
  },
  {
   "cell_type": "code",
   "execution_count": 66,
   "metadata": {},
   "outputs": [
    {
     "name": "stdout",
     "output_type": "stream",
     "text": [
      "True True True\n",
      "3\n",
      "False False False\n",
      "False False False True\n",
      "False True\n"
     ]
    }
   ],
   "source": [
    "print(\"\" == '', 0 == 0.0, 0 == -0)\n",
    "print(True + False + 2)\n",
    "print(() == [], [] == {}, () == {})\n",
    "print(() == 0, '' == 0, 0 == None, () != False)\n",
    "print(bool({}), bool('23'))\n"
   ]
  },
  {
   "cell_type": "code",
   "execution_count": 68,
   "metadata": {},
   "outputs": [
    {
     "name": "stdout",
     "output_type": "stream",
     "text": [
      "Hello Mr. Gumby\n"
     ]
    }
   ],
   "source": [
    "name = input(\"What's your name? \")\n",
    "if name.endswith(\"Gumby\"):\n",
    "  print('Hello Mr. Gumby')"
   ]
  },
  {
   "cell_type": "code",
   "execution_count": 69,
   "metadata": {},
   "outputs": [
    {
     "name": "stdout",
     "output_type": "stream",
     "text": [
      "Hello, stanger\n"
     ]
    }
   ],
   "source": [
    "name = input(\"What's your name? \")\n",
    "if name.endswith(\"Gumby\"):\n",
    "  print('Hello Mr. Gumby')\n",
    "else:\n",
    "  print(\"Hello, stanger\")"
   ]
  },
  {
   "cell_type": "code",
   "execution_count": 70,
   "metadata": {},
   "outputs": [
    {
     "name": "stdout",
     "output_type": "stream",
     "text": [
      "stranger\n"
     ]
    }
   ],
   "source": [
    "name = input(\"What's your name?\")\n",
    "status = \"Friend\" if name.endswith(\"Gumby\") else \"stranger\"\n",
    "print(status)"
   ]
  },
  {
   "cell_type": "code",
   "execution_count": 76,
   "metadata": {},
   "outputs": [
    {
     "name": "stdout",
     "output_type": "stream",
     "text": [
      "negative\n"
     ]
    }
   ],
   "source": [
    "num = int(input(\"Enter a number: \"))\n",
    "if num > 0:\n",
    "  print(\"positive\")\n",
    "elif num < 0:\n",
    "  print(\"negative\")\n",
    "else:\n",
    "  print(\"zero\")\n"
   ]
  },
  {
   "cell_type": "code",
   "execution_count": 81,
   "metadata": {},
   "outputs": [
    {
     "name": "stdout",
     "output_type": "stream",
     "text": [
      "Hello, stanger\n"
     ]
    }
   ],
   "source": [
    "name = input(\"What's your name? \")\n",
    "if name.endswith(\"Gumby\"):\n",
    "  if name.startswith(\"Mr.\"):\n",
    "    print(f\"Hello {name}\")\n",
    "  elif name.startswith(\"Mrs.\"):\n",
    "    print('Hello Mrs. Gumby')\n",
    "  else:\n",
    "    print(f\"Hello {name}\")\n",
    "else:\n",
    "  print(\"Hello, stanger\")"
   ]
  },
  {
   "cell_type": "markdown",
   "metadata": {},
   "source": [
    "## 比较运算符\n",
    "`==`、 `!=`、 `<`、 `>`、 `>=`、 `<=`、`is`、`is not`、`in`、`not in` \n",
    "\n",
    "类型兼容  \n",
    "支持链式比较 \n",
    "\n",
    "`==` 相等运算符\n",
    "`=` 赋值\n",
    "`is` 相同运算符,不建议用于数值、字符串等不可变的基本值\n",
    "\n",
    "字符串比较是基于字母排列顺序(码点顺序)比较"
   ]
  },
  {
   "cell_type": "code",
   "execution_count": 92,
   "metadata": {},
   "outputs": [
    {
     "name": "stdout",
     "output_type": "stream",
     "text": [
      "True True\n",
      "True\n",
      "False\n",
      "True\n",
      "True\n"
     ]
    }
   ],
   "source": [
    "print(\"foo\" == 'foo', \"foo\" != \"bar\")\n",
    "x = y = [1, 2, 3]\n",
    "z = [1, 2, 3]\n",
    "print(x is y)\n",
    "print(z is y)\n",
    "print(z == y)\n",
    "\n",
    "del y[2]\n",
    "x[1] = 2\n",
    "y.reverse()\n",
    "print(x is y)"
   ]
  },
  {
   "cell_type": "code",
   "execution_count": 105,
   "metadata": {},
   "outputs": [
    {
     "name": "stdout",
     "output_type": "stream",
     "text": [
      "True False True\n",
      "True\n",
      "🙈\n",
      "128584\n",
      "False 97 66\n",
      "True\n",
      "True\n",
      "False\n"
     ]
    }
   ],
   "source": [
    "name = \"King\"\n",
    "print('i' in name, 's' in name, 's' not in name)\n",
    "print(\"alpha\" < \"betha\")\n",
    "print(chr(128584))\n",
    "print(ord('🙈'))\n",
    "print('a' < 'B', ord('a'), ord('B'))\n",
    "print('a'.lower() < 'B'.lower())\n",
    "print([1, 2] < [2, 1])\n",
    "print([2, [1, 6]] < [2, [1, 5]])\n",
    "# print(ord('aB'))"
   ]
  },
  {
   "cell_type": "code",
   "execution_count": 109,
   "metadata": {},
   "outputs": [
    {
     "name": "stdout",
     "output_type": "stream",
     "text": [
      "2\n"
     ]
    }
   ],
   "source": [
    "x = 2\n",
    "print(x) if 1 < x <10 else print('oops')"
   ]
  },
  {
   "cell_type": "markdown",
   "metadata": {},
   "source": [
    "## 布尔运算符\n",
    "`and` `or` `not`  \n",
    "只做必要的计算 逻辑短路 延迟求值"
   ]
  },
  {
   "cell_type": "code",
   "execution_count": 111,
   "metadata": {},
   "outputs": [
    {
     "name": "stdout",
     "output_type": "stream",
     "text": [
      "King\n"
     ]
    }
   ],
   "source": [
    "name = input(\"Please input your name\") or '<unkown>'\n",
    "print(name)"
   ]
  },
  {
   "cell_type": "markdown",
   "metadata": {},
   "source": [
    "## 断言\n",
    "assert 满足特定条件放行否则停止执行，可包含中断原因说明"
   ]
  },
  {
   "cell_type": "code",
   "execution_count": 117,
   "metadata": {},
   "outputs": [
    {
     "ename": "AssertionError",
     "evalue": "The age must be geat 0 and less 10.",
     "output_type": "error",
     "traceback": [
      "\u001b[0;31m---------------------------------------------------------------------------\u001b[0m",
      "\u001b[0;31mAssertionError\u001b[0m                            Traceback (most recent call last)",
      "Cell \u001b[0;32mIn[117], line 4\u001b[0m\n\u001b[1;32m      2\u001b[0m \u001b[38;5;28;01massert\u001b[39;00m \u001b[38;5;241m0\u001b[39m \u001b[38;5;241m<\u001b[39m age \u001b[38;5;241m<\u001b[39m \u001b[38;5;241m10\u001b[39m\n\u001b[1;32m      3\u001b[0m age \u001b[38;5;241m=\u001b[39m  \u001b[38;5;241m-\u001b[39m\u001b[38;5;241m1\u001b[39m\n\u001b[0;32m----> 4\u001b[0m \u001b[38;5;28;01massert\u001b[39;00m \u001b[38;5;241m0\u001b[39m \u001b[38;5;241m<\u001b[39m age \u001b[38;5;241m<\u001b[39m \u001b[38;5;241m10\u001b[39m, \u001b[38;5;124m\"\u001b[39m\u001b[38;5;124mThe age must be geat 0 and less 10.\u001b[39m\u001b[38;5;124m\"\u001b[39m\n",
      "\u001b[0;31mAssertionError\u001b[0m: The age must be geat 0 and less 10."
     ]
    }
   ],
   "source": [
    "age  = 8\n",
    "assert 0 < age < 10\n",
    "age =  -1\n",
    "assert 0 < age < 10, \"The age must be geat 0 and less 10.\"\n"
   ]
  },
  {
   "cell_type": "markdown",
   "metadata": {},
   "source": [
    "## 循环\n",
    "条件满足时，重复执行 或对序列中每个元素执行代码块\n",
    "\n",
    "循环末尾添加else子句将在`没有执行循环体中的任何break语句时执行`。"
   ]
  },
  {
   "cell_type": "code",
   "execution_count": 78,
   "metadata": {},
   "outputs": [
    {
     "name": "stdout",
     "output_type": "stream",
     "text": [
      "1\n",
      "3\n",
      "7\n",
      "9\n",
      "other 11\n",
      "11\n"
     ]
    }
   ],
   "source": [
    "x = 1\n",
    "while 0 < x < 10:\n",
    "  if x == 5:\n",
    "    x += 2\n",
    "    continue\n",
    "    # break\n",
    "  print(x)\n",
    "  x += 2\n",
    "else:\n",
    "  print('other', x)\n",
    "print(x)"
   ]
  },
  {
   "cell_type": "code",
   "execution_count": 124,
   "metadata": {},
   "outputs": [
    {
     "name": "stdout",
     "output_type": "stream",
     "text": [
      "Hello ''!\n"
     ]
    }
   ],
   "source": [
    "name = ''\n",
    "while not name or name.isspace():\n",
    "  name = input(\"Please enter your name:\")\n",
    "print(f\"Hello {name}!\")"
   ]
  },
  {
   "cell_type": "code",
   "execution_count": 132,
   "metadata": {},
   "outputs": [
    {
     "name": "stdout",
     "output_type": "stream",
     "text": [
      "range(1, 10, 3)\n",
      "[1, 4, 7] (1, 4, 7)\n",
      "1\n",
      "4\n",
      "7\n"
     ]
    }
   ],
   "source": [
    "numbers = range(1, 10, 3)\n",
    "print(numbers)\n",
    "print(list(numbers), tuple(numbers))\n",
    "for num in numbers:\n",
    "  print(num)"
   ]
  },
  {
   "cell_type": "code",
   "execution_count": 135,
   "metadata": {},
   "outputs": [
    {
     "name": "stdout",
     "output_type": "stream",
     "text": [
      "x 1\n",
      "y 2\n",
      "z 3\n",
      "x 1\n",
      "y 2\n",
      "z 3\n"
     ]
    }
   ],
   "source": [
    "d = {'x': 1, 'y': 2, 'z': 3}\n",
    "for k in d:\n",
    "  print(k, d[k])\n",
    "\n",
    "d = {'x': 1, 'y': 2, 'z': 3}\n",
    "for k, v in d.items():\n",
    "  print(k, d[k])"
   ]
  },
  {
   "cell_type": "code",
   "execution_count": 138,
   "metadata": {},
   "outputs": [
    {
     "name": "stdout",
     "output_type": "stream",
     "text": [
      "z 3\n",
      "x 1\n"
     ]
    }
   ],
   "source": [
    "from collections import OrderedDict\n",
    "\n",
    "o = OrderedDict({'z': 3, 'x': 1})\n",
    "for k, v in o.items():\n",
    "  print(k, v)"
   ]
  },
  {
   "cell_type": "code",
   "execution_count": 142,
   "metadata": {},
   "outputs": [
    {
     "name": "stdout",
     "output_type": "stream",
     "text": [
      "anne 12\n",
      "beth 23\n",
      "george 32\n",
      "damon 80\n",
      "[('anne', 12), ('beth', 23), ('george', 32), ('damon', 80)]\n",
      "[(0, 2), (1, 5), (2, 8), (3, 11), (4, 14)]\n"
     ]
    }
   ],
   "source": [
    "names = [\"anne\", \"beth\", \"george\", \"damon\"]\n",
    "ages = (12, 23, 32, 80)\n",
    "for i in range(len(names)):\n",
    "  print(names[i], ages[i])\n",
    "\n",
    "l = list(zip(names, ages));\n",
    "print(l)\n",
    "\n",
    "l1 = list(zip(range(5), range(2, 100, 3)))\n",
    "print(l1)"
   ]
  },
  {
   "cell_type": "code",
   "execution_count": 143,
   "metadata": {},
   "outputs": [
    {
     "name": "stdout",
     "output_type": "stream",
     "text": [
      "['a', '[censored]', 'xx', 'b']\n"
     ]
    }
   ],
   "source": [
    "strings = ['a', 'xxx', 'xx', 'b']\n",
    "\n",
    "for string in strings:\n",
    "  if 'xxx' in string:\n",
    "    index = strings.index(string)\n",
    "    strings[index] = '[censored]'\n",
    "\n",
    "print(strings)"
   ]
  },
  {
   "cell_type": "code",
   "execution_count": 144,
   "metadata": {},
   "outputs": [
    {
     "name": "stdout",
     "output_type": "stream",
     "text": [
      "['a', '[censored]', 'xx', 'b']\n"
     ]
    }
   ],
   "source": [
    "strings = ['a', 'xxx', 'xx', 'b']\n",
    "\n",
    "index = 0\n",
    "for string in strings:\n",
    "  if 'xxx' in string:\n",
    "    strings[index] = '[censored]'\n",
    "  index += 1\n",
    "\n",
    "print(strings)"
   ]
  },
  {
   "cell_type": "code",
   "execution_count": 145,
   "metadata": {},
   "outputs": [
    {
     "name": "stdout",
     "output_type": "stream",
     "text": [
      "['a', '[censored]', 'xx', 'b']\n"
     ]
    }
   ],
   "source": [
    "strings = ['a', 'xxx', 'xx', 'b']\n",
    "\n",
    "for index, string in enumerate(strings):\n",
    "  if 'xxx' in string:\n",
    "    strings[index] = '[censored]'\n",
    "\n",
    "print(strings)"
   ]
  },
  {
   "cell_type": "code",
   "execution_count": 159,
   "metadata": {},
   "outputs": [
    {
     "name": "stdout",
     "output_type": "stream",
     "text": [
      "4 (4, 3, 6, 8, 3)\n",
      "[3, 3, 4, 6, 8] [4, 6, 8]\n",
      "dlrow olleh\n"
     ]
    }
   ],
   "source": [
    "# 反向迭代\n",
    "ro = (4, 3, 6, 8, 3)\n",
    "s = sorted(ro)\n",
    "print(s[2], ro)\n",
    "print(s, s[2:])\n",
    "ror = reversed(ro)\n",
    "# print(ror, 'ror', ror[1])\n",
    "r = reversed('hello world')\n",
    "# print(r[2])\n",
    "# print(r)\n",
    "s = ''.join(list(r))\n",
    "print(s)\n",
    "# sorted/reversed 不改变原对象，对于reversed不能直接对返回值执行索引或切片操作,需要先使用list转为列表\n",
    "\n"
   ]
  },
  {
   "cell_type": "code",
   "execution_count": 167,
   "metadata": {},
   "outputs": [
    {
     "name": "stdout",
     "output_type": "stream",
     "text": [
      "['a', 'B', 'c']\n",
      "('B', 'a', 'c')\n"
     ]
    }
   ],
   "source": [
    "s1 = sorted('caB', key=str.lower)\n",
    "print(s1)\n",
    "s2 = reversed('caB')\n",
    "print(tuple(s2))"
   ]
  },
  {
   "cell_type": "markdown",
   "metadata": {},
   "source": [
    "## break与continue\n",
    "break 直接跳出循环，不再执行循环体中break之后余下的语句，继续执行循环体外之后的语句\n",
    "continue 结束当前迭代，并跳到下一次迭代开头继续执行 会跳过循环体中continue之后余下的语句，但不结束循环。 可以在循环体中添加条件语句代替。"
   ]
  },
  {
   "cell_type": "code",
   "execution_count": 3,
   "metadata": {},
   "outputs": [
    {
     "name": "stdout",
     "output_type": "stream",
     "text": [
      "81\n"
     ]
    }
   ],
   "source": [
    "from math import sqrt\n",
    "\n",
    "for n in range(99, 0, -1):\n",
    "  root = sqrt(n)\n",
    "  if root == int(root):\n",
    "    print(n)\n",
    "    break"
   ]
  },
  {
   "cell_type": "code",
   "execution_count": 4,
   "metadata": {},
   "outputs": [
    {
     "name": "stdout",
     "output_type": "stream",
     "text": [
      "The word was kkss\n",
      "The word was kskks\n",
      "The word was ksks\n",
      "The word was \n"
     ]
    }
   ],
   "source": [
    "word = 'dummy'\n",
    "while word:\n",
    "  word = input(\"Please enter a world:\")\n",
    "  print(f\"The word was {word}\")"
   ]
  },
  {
   "cell_type": "code",
   "execution_count": 5,
   "metadata": {},
   "outputs": [
    {
     "name": "stdout",
     "output_type": "stream",
     "text": [
      "The word was kkks\n",
      "The word was kskks\n"
     ]
    }
   ],
   "source": [
    "while True:\n",
    "  word = input(\"Please enter a world:\")\n",
    "  if not word:\n",
    "    break\n",
    "  print(f\"The word was {word}\")"
   ]
  },
  {
   "cell_type": "code",
   "execution_count": 8,
   "metadata": {},
   "outputs": [
    {
     "name": "stdout",
     "output_type": "stream",
     "text": [
      "Didn't find it!\n"
     ]
    }
   ],
   "source": [
    "from math import sqrt\n",
    "\n",
    "break_out = False\n",
    "for n in range(99, 81, -1):\n",
    "  root = sqrt(n)\n",
    "  if root == int(root):\n",
    "    print(n)\n",
    "    break_out = True\n",
    "    break\n",
    "\n",
    "if not break_out:\n",
    "  print(\"Didn't find it!\")"
   ]
  },
  {
   "cell_type": "code",
   "execution_count": 6,
   "metadata": {},
   "outputs": [
    {
     "name": "stdout",
     "output_type": "stream",
     "text": [
      "Didn't find it!\n"
     ]
    }
   ],
   "source": [
    "from math import sqrt\n",
    "\n",
    "for n in range(99, 81, -1):\n",
    "  root = sqrt(n)\n",
    "  if root == int(root):\n",
    "    print(n)\n",
    "    break\n",
    "else:\n",
    "  print(\"Didn't find it!\")"
   ]
  },
  {
   "cell_type": "code",
   "execution_count": 16,
   "metadata": {},
   "outputs": [
    {
     "name": "stdout",
     "output_type": "stream",
     "text": [
      "81\n"
     ]
    }
   ],
   "source": [
    "from math import sqrt\n",
    "\n",
    "seq = list(range(99, 80, -1))\n",
    "n = len(seq) - 1\n",
    "\n",
    "while n >= 0:\n",
    "  root = sqrt(seq[n])\n",
    "  if root == int(root):\n",
    "    print(seq[n])\n",
    "    break\n",
    "  n -= 1\n",
    "else:\n",
    "  print(\"Didn't find it!\")\n"
   ]
  },
  {
   "cell_type": "markdown",
   "metadata": {},
   "source": [
    "# 推导\n",
    "是表达式而不是语句 \n",
    "类似循环，通过列表推导,可以从既有列表创建出新的列表，也可通过列表推导创建字典。"
   ]
  },
  {
   "cell_type": "code",
   "execution_count": 21,
   "metadata": {},
   "outputs": [
    {
     "name": "stdout",
     "output_type": "stream",
     "text": [
      "[0, 1, 4, 9, 16, 25, 36, 49, 64, 81]\n",
      "[0, 9, 36, 81]\n",
      "[(0, 5), (0, 6), (1, 5), (1, 6), (2, 5), (2, 6)]\n"
     ]
    }
   ],
   "source": [
    "l  = [x * x for x in range(10)]\n",
    "print(l)\n",
    "\n",
    "l2 = [x * x for x in range(10) if x % 3 == 0]\n",
    "print(l2)\n",
    "\n",
    "l3 = [(x, y) for x in range(3) for y in range(5, 7)]\n",
    "print(l3)"
   ]
  },
  {
   "cell_type": "code",
   "execution_count": 22,
   "metadata": {},
   "outputs": [
    {
     "name": "stdout",
     "output_type": "stream",
     "text": [
      "[(0, 5), (0, 6), (1, 5), (1, 6), (2, 5), (2, 6)]\n"
     ]
    }
   ],
   "source": [
    "result  = []\n",
    "for x in range(3):\n",
    "  for y in range(5, 7):\n",
    "    result.append((x, y))\n",
    "\n",
    "print(result)"
   ]
  },
  {
   "cell_type": "code",
   "execution_count": 28,
   "metadata": {},
   "outputs": [
    {
     "name": "stdout",
     "output_type": "stream",
     "text": [
      "['chris/clarice', 'chris/czie', 'arniod/alice', 'bol/bernice']\n"
     ]
    }
   ],
   "source": [
    "girls = ['alice', 'bernice', 'clarice', 'czie']\n",
    "boys = ['chris', 'arniod', 'bol', 'jose']\n",
    "part = [ b + '/' + g for b in boys for g in  girls if b[0] == g[0]]\n",
    "print(part)"
   ]
  },
  {
   "cell_type": "code",
   "execution_count": 34,
   "metadata": {},
   "outputs": [
    {
     "name": "stdout",
     "output_type": "stream",
     "text": [
      "['chris/clarice', 'chris/czie', 'arniod/alice', 'bol/bernice']\n"
     ]
    }
   ],
   "source": [
    "girls = ['alice', 'bernice', 'clarice', 'czie']\n",
    "boys = ['chris', 'arniod', 'bol', 'jose']\n",
    "\n",
    "letterGirls = {}\n",
    "for g in girls:\n",
    "  letterGirls.setdefault(g[0], []).append(g)\n",
    "\n",
    "part = [b + \"/\" + g for b in boys for g in letterGirls.get(b[0], [])]\n",
    "print(part)"
   ]
  },
  {
   "cell_type": "code",
   "execution_count": 36,
   "metadata": {},
   "outputs": [
    {
     "name": "stdout",
     "output_type": "stream",
     "text": [
      "{0: 0, 1: 1, 2: 4, 3: 9, 4: 16, 5: 25, 6: 36, 7: 49, 8: 64, 9: 81}\n"
     ]
    }
   ],
   "source": [
    "squares = { i: i**2 for i in range(10)}\n",
    "print(squares)"
   ]
  },
  {
   "cell_type": "markdown",
   "metadata": {},
   "source": [
    "## pass del exec\n",
    "pass 占位符 什么都不做  \n",
    "del 删除变量或数据结构成员,不能用于删除值    \n",
    "exec 将字符串作为语句执行，无返回值\n",
    "eval 将字符串作为表达式求值 "
   ]
  },
  {
   "cell_type": "code",
   "execution_count": 47,
   "metadata": {},
   "outputs": [],
   "source": [
    "x = 2\n",
    "if x == 1:\n",
    "  print(x)\n",
    "elif x == 2:\n",
    "  'to do'\n",
    "  # pass\n",
    "else:\n",
    "  print(x)"
   ]
  },
  {
   "cell_type": "code",
   "execution_count": 52,
   "metadata": {},
   "outputs": [
    {
     "name": "stdout",
     "output_type": "stream",
     "text": [
      "{'age': 20, 'name': 'King'} {'age': 20, 'name': 'King'}\n",
      "{'age': 20, 'name': 'King'} None\n",
      "None None\n"
     ]
    }
   ],
   "source": [
    "soundrel = {'age': 20, 'name': 'King'}\n",
    "robin = soundrel\n",
    "print(robin, soundrel)\n",
    "soundrel = None\n",
    "print(robin, soundrel)\n",
    "robin = None\n",
    "print(robin, soundrel)"
   ]
  },
  {
   "cell_type": "code",
   "execution_count": 54,
   "metadata": {},
   "outputs": [
    {
     "name": "stdout",
     "output_type": "stream",
     "text": [
      "1\n"
     ]
    }
   ],
   "source": [
    "x = 1\n",
    "print(x)\n",
    "del x\n",
    "# print(x)"
   ]
  },
  {
   "cell_type": "code",
   "execution_count": 56,
   "metadata": {},
   "outputs": [
    {
     "name": "stdout",
     "output_type": "stream",
     "text": [
      "['King', 'WXZ'] ['King', 'WXZ']\n",
      "['King', 'WXZ']\n"
     ]
    }
   ],
   "source": [
    "x = ['King', \"Dreamer\"]\n",
    "y = x\n",
    "y[1] = \"WXZ\"\n",
    "print(x, y)\n",
    "del x\n",
    "print(y)"
   ]
  },
  {
   "cell_type": "code",
   "execution_count": 79,
   "metadata": {},
   "outputs": [
    {
     "name": "stdout",
     "output_type": "stream",
     "text": [
      "Hello Python!\n",
      "None\n",
      "{}\n",
      "4 2 dict_keys(['__builtins__', 'sqrt'])\n"
     ]
    },
    {
     "data": {
      "text/plain": [
       "3.0"
      ]
     },
     "execution_count": 79,
     "metadata": {},
     "output_type": "execute_result"
    }
   ],
   "source": [
    "result = exec(\"print('Hello Python!')\")\n",
    "print(result)\n",
    "from math import sqrt\n",
    "# exec('sqrt = 4')\n",
    "scope = {}\n",
    "print(scope)\n",
    "exec('sqrt = 4', scope)\n",
    "print(scope.get('sqrt'), len(scope), scope.keys())\n",
    "sqrt(9)"
   ]
  },
  {
   "cell_type": "code",
   "execution_count": 65,
   "metadata": {},
   "outputs": [
    {
     "name": "stdout",
     "output_type": "stream",
     "text": [
      "125\n"
     ]
    }
   ],
   "source": [
    "value = eval(input(\"Enter an expression: \"))\n",
    "print(value)"
   ]
  },
  {
   "cell_type": "code",
   "execution_count": 68,
   "metadata": {},
   "outputs": [
    {
     "name": "stdout",
     "output_type": "stream",
     "text": [
      "8\n",
      "dict_keys(['x', 'y', '__builtins__'])\n",
      "15\n",
      "dict_keys(['x', 'y', '__builtins__'])\n"
     ]
    }
   ],
   "source": [
    "scope = {}\n",
    "scope['x'] = 2\n",
    "scope['y'] = 3\n",
    "value = eval('x ** y', scope)\n",
    "print(value)\n",
    "print(scope.keys())\n",
    "\n",
    "exec(\"x = 5\", scope)\n",
    "value = eval(\"x * y\", scope)\n",
    "print(value)"
   ]
  }
 ],
 "metadata": {
  "kernelspec": {
   "display_name": "base",
   "language": "python",
   "name": "python3"
  },
  "language_info": {
   "codemirror_mode": {
    "name": "ipython",
    "version": 3
   },
   "file_extension": ".py",
   "mimetype": "text/x-python",
   "name": "python",
   "nbconvert_exporter": "python",
   "pygments_lexer": "ipython3",
   "version": "3.12.1"
  }
 },
 "nbformat": 4,
 "nbformat_minor": 2
}
