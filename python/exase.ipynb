{
 "cells": [
  {
   "cell_type": "code",
   "execution_count": 16,
   "metadata": {},
   "outputs": [
    {
     "name": "stdout",
     "output_type": "stream",
     "text": [
      "30 44\n",
      "54 54\n",
      "30 54\n"
     ]
    }
   ],
   "source": [
    "def sum(lst):\n",
    "  if len(lst) == 1:\n",
    "    return lst[0]\n",
    "  return lst[0] + sum(lst[1:])\n",
    "\n",
    "lst = [2, 3, 4, 1, 6, 7, 5, 2]\n",
    "print(sum(lst), sum(range(2, 10)))\n",
    "\n",
    "def sum2(lst):\n",
    "  result = 0\n",
    "  for item in lst:\n",
    "    result += item\n",
    "\n",
    "  return result\n",
    "\n",
    "def sum3(start, end):\n",
    "  if start == end:\n",
    "    return start\n",
    "  return end + sum3(start, end - 1)\n",
    "\n",
    "def sum4(start, end):\n",
    "  if start == end:\n",
    "    return end\n",
    "  return start + sum3(start + 1, end)\n",
    "\n",
    "print(sum3(2, 10), sum4(2, 10))\n",
    "\n",
    "print(sum2(lst), sum2(range(2, 11)))"
   ]
  },
  {
   "cell_type": "markdown",
   "metadata": {},
   "source": [
    "## 切比雪夫多项式"
   ]
  },
  {
   "cell_type": "markdown",
   "metadata": {
    "vscode": {
     "languageId": "latex"
    }
   },
   "source": [
    "$$\n",
    "T_{n}(x) = \\begin{cases}\n",
    "1 \\quad n = 0 \\\\\n",
    "x \\quad n =1 \\\\\n",
    "2xT_{n-1}(x)-T_{n-2}(x)\n",
    "\\end{cases}\n",
    "$$\n",
    "\n",
    "$$\n",
    "U_{n}(x) = \\begin{cases}\n",
    "1 \\quad n = 0 \\\\\n",
    "2x \\quad n =1 \\\\\n",
    "2xU_{n-1}(x)-U_{n-2}(x)\n",
    "\\end{cases}\n",
    "$$"
   ]
  },
  {
   "cell_type": "code",
   "execution_count": 10,
   "metadata": {},
   "outputs": [
    {
     "name": "stdout",
     "output_type": "stream",
     "text": [
      "[1, 1, 1, 1, 1]\n",
      "[1, 2, 3, 4, 5]\n",
      "[1, 26, 99, 244, 485]\n",
      "[1, 1, 1, 1, 1]\n",
      "[2, 4, 6, 8, 10]\n",
      "[4, 56, 204, 496, 980]\n"
     ]
    }
   ],
   "source": [
    "def chebyshev_poly_1(n, x):\n",
    "  def chebyshev(n, z):\n",
    "    if n == 0:\n",
    "      return 1\n",
    "    elif n == 1:\n",
    "      return z\n",
    "    else:\n",
    "      return 2 * z * chebyshev(n - 1, z) - chebyshev(n - 2, z)\n",
    "\n",
    "  y = []\n",
    "  for item in x:\n",
    "    y.append(chebyshev(n, item))\n",
    "\n",
    "  return y\n",
    "\n",
    "def chebyshev_poly_2(n, x):\n",
    "  def chebyshev(n, z):\n",
    "    if n == 0:\n",
    "      return 1\n",
    "    elif n == 1:\n",
    "      return 2*z\n",
    "    else:\n",
    "      return 2 * z * chebyshev(n - 1, z) - chebyshev(n - 2, z)\n",
    "\n",
    "  y = []\n",
    "  for item in x:\n",
    "    y.append(chebyshev(n, item))\n",
    "\n",
    "  return y\n",
    "\n",
    "x = [1, 2, 3, 4, 5]\n",
    "print(chebyshev_poly_1(0, x))\n",
    "print(chebyshev_poly_1(1, x))\n",
    "print(chebyshev_poly_1(3, x))\n",
    "\n",
    "print(chebyshev_poly_2(0, x))\n",
    "print(chebyshev_poly_2(1, x))\n",
    "print(chebyshev_poly_2(3, x))"
   ]
  }
 ],
 "metadata": {
  "kernelspec": {
   "display_name": "base",
   "language": "python",
   "name": "python3"
  },
  "language_info": {
   "codemirror_mode": {
    "name": "ipython",
    "version": 3
   },
   "file_extension": ".py",
   "mimetype": "text/x-python",
   "name": "python",
   "nbconvert_exporter": "python",
   "pygments_lexer": "ipython3",
   "version": "3.12.1"
  }
 },
 "nbformat": 4,
 "nbformat_minor": 2
}
