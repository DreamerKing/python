{
 "cells": [
  {
   "cell_type": "markdown",
   "metadata": {},
   "source": [
    "# 排序"
   ]
  },
  {
   "cell_type": "markdown",
   "metadata": {},
   "source": [
    "## 冒泡排序"
   ]
  },
  {
   "cell_type": "code",
   "execution_count": 18,
   "metadata": {},
   "outputs": [
    {
     "name": "stdout",
     "output_type": "stream",
     "text": [
      "[785, 676, 12, 810, 180, 566, 695, 475, 288, 829]\n",
      "[12, 180, 288, 475, 566, 676, 695, 785, 810, 829]\n"
     ]
    }
   ],
   "source": [
    "from random import randrange\n",
    "\n",
    "def gen_random_list(n):\n",
    "  l = []\n",
    "  for i in range(n):\n",
    "    l.append(randrange(1000))\n",
    "  return l\n",
    "\n",
    "def bubble_sort(l):\n",
    "  length = len(l)\n",
    "  if length <= 1:\n",
    "    return l\n",
    "  for i in range(length):\n",
    "    for j in range(i+1, length):\n",
    "      if l[i] > l[j]:\n",
    "        l[i], l[j] = l[j],l[i]\n",
    "  return l\n",
    "\n",
    "l = gen_random_list(10)\n",
    "print(l)\n",
    "bubble_sort(l)\n",
    "print(l)\n"
   ]
  },
  {
   "cell_type": "code",
   "execution_count": 32,
   "metadata": {},
   "outputs": [
    {
     "name": "stdout",
     "output_type": "stream",
     "text": [
      "[342, 997, 415, 751, 547, 741, 16, 941, 452, 450]\n",
      "[16, 342, 415, 450, 452, 547, 741, 751, 941, 997]\n"
     ]
    }
   ],
   "source": [
    "def select_sort(origin_list):\n",
    "  l = origin_list.copy()\n",
    "  length = len(l)\n",
    "  if length <= 1:\n",
    "    return l\n",
    "  for i in range(length):\n",
    "    min_value = min(l[i:length])\n",
    "    min_index = l.index(min_value)\n",
    "    if min_index != i:\n",
    "      l[i], l[min_index] = l[min_index], l[i]\n",
    "  return l\n",
    "\n",
    "l = gen_random_list(10)\n",
    "print(l)\n",
    "print(select_sort(l))\n"
   ]
  }
 ],
 "metadata": {
  "kernelspec": {
   "display_name": "base",
   "language": "python",
   "name": "python3"
  },
  "language_info": {
   "codemirror_mode": {
    "name": "ipython",
    "version": 3
   },
   "file_extension": ".py",
   "mimetype": "text/x-python",
   "name": "python",
   "nbconvert_exporter": "python",
   "pygments_lexer": "ipython3",
   "version": "3.12.1"
  }
 },
 "nbformat": 4,
 "nbformat_minor": 2
}
